{
 "cells": [
  {
   "cell_type": "markdown",
   "id": "1f654440-e169-465f-964c-2739cdcf0ba6",
   "metadata": {},
   "source": [
    "# istatisitk\n"
   ]
  },
  {
   "cell_type": "markdown",
   "id": "a3b97994-6c47-4158-ae78-28305e61f6f9",
   "metadata": {},
   "source": [
    "# örnek teorisi"
   ]
  },
  {
   "cell_type": "code",
   "execution_count": 1,
   "id": "62e18fc6-b22c-4fc6-b57e-5b38e7f11acf",
   "metadata": {
    "tags": []
   },
   "outputs": [],
   "source": [
    "import numpy as np"
   ]
  },
  {
   "cell_type": "code",
   "execution_count": 2,
   "id": "2ac121d2-7b03-4e0d-9d44-bc5e280c59dd",
   "metadata": {
    "tags": []
   },
   "outputs": [],
   "source": [
    "populasyon=np.random.randint (0,80,100)"
   ]
  },
  {
   "cell_type": "code",
   "execution_count": 3,
   "id": "35107318-f72b-43d5-9890-b25f2bd72b73",
   "metadata": {
    "tags": []
   },
   "outputs": [
    {
     "data": {
      "text/plain": [
       "array([ 4, 67, 14, 78, 24, 25, 72, 50, 76,  9])"
      ]
     },
     "execution_count": 3,
     "metadata": {},
     "output_type": "execute_result"
    }
   ],
   "source": [
    "populasyon[0:10]"
   ]
  },
  {
   "cell_type": "code",
   "execution_count": 4,
   "id": "514b4b49-ff3d-42b2-ba5b-52cf925d0566",
   "metadata": {
    "tags": []
   },
   "outputs": [
    {
     "data": {
      "text/plain": [
       "array([38, 68, 24, 72, 40, 35, 46, 75,  9, 41])"
      ]
     },
     "execution_count": 4,
     "metadata": {},
     "output_type": "execute_result"
    }
   ],
   "source": [
    "# ÖRNEKlEM ÇEKME \n",
    "np.random.seed(115) # makine öğrenmesinde görüleceek aynı örneklemi çağırmasdır her çağırdığında farklı orneklemleri değil\n",
    "orneklem=np.random.choice(a=populasyon,size=100)\n",
    "orneklem[0:10]"
   ]
  },
  {
   "cell_type": "code",
   "execution_count": 5,
   "id": "3505ab6a-c28e-452a-b53b-36eb4be9044c",
   "metadata": {
    "tags": []
   },
   "outputs": [
    {
     "data": {
      "text/plain": [
       "40.34"
      ]
     },
     "execution_count": 5,
     "metadata": {},
     "output_type": "execute_result"
    }
   ],
   "source": [
    "orneklem.mean()"
   ]
  },
  {
   "cell_type": "code",
   "execution_count": 6,
   "id": "f9bc73bb-b767-444e-b988-c20375944234",
   "metadata": {
    "tags": []
   },
   "outputs": [
    {
     "data": {
      "text/plain": [
       "40.5"
      ]
     },
     "execution_count": 6,
     "metadata": {},
     "output_type": "execute_result"
    }
   ],
   "source": [
    "populasyon.mean()"
   ]
  },
  {
   "cell_type": "code",
   "execution_count": 7,
   "id": "696ff0b5-a30e-4c8e-bde3-2adb729cc5e2",
   "metadata": {
    "tags": []
   },
   "outputs": [],
   "source": [
    "# Örneklem dağılımı"
   ]
  },
  {
   "cell_type": "code",
   "execution_count": 8,
   "id": "478e9f26-c9d0-4089-9779-0bb769451216",
   "metadata": {
    "tags": []
   },
   "outputs": [],
   "source": [
    "orneklem2=np.random.choice(a=populasyon,size=70)"
   ]
  },
  {
   "cell_type": "code",
   "execution_count": 9,
   "id": "f69f7f9c-b830-454e-9b2e-230b2d9bffe8",
   "metadata": {
    "tags": []
   },
   "outputs": [
    {
     "data": {
      "text/plain": [
       "37.25714285714286"
      ]
     },
     "execution_count": 9,
     "metadata": {},
     "output_type": "execute_result"
    }
   ],
   "source": [
    "orneklem2.mean()"
   ]
  },
  {
   "cell_type": "code",
   "execution_count": 10,
   "id": "c26fc60e-4cff-416b-9717-f7325cb2c3a4",
   "metadata": {
    "tags": []
   },
   "outputs": [],
   "source": [
    "# BETİMSEL İSTATİKSEL\n",
    "# ORTALAMA    DEĞİŞİM ARALIĞI\n",
    "# MEDYAN      STANDART SAPMA\n",
    "# MOD         KOVARYANS ( )\n",
    "#KARTİLLER(bir küçükten büyüğe doğru sıralanan dizeyi 4 parçaya bölmektir)    KORELASYON"
   ]
  },
  {
   "cell_type": "code",
   "execution_count": 11,
   "id": "008f0847-bc3a-4a92-9674-a97c235e9472",
   "metadata": {
    "tags": []
   },
   "outputs": [],
   "source": [
    "# KOVARYANS = iki değişken arasındaki ilişkinin değişkenlik ölçüsüdür\n",
    "# VARYANS = ortalama etrafındaki dağılımın ölçüsüdür standart sapma karesi = varyans\n",
    "\n"
   ]
  },
  {
   "cell_type": "code",
   "execution_count": 12,
   "id": "9652d084-ea6a-4a83-afef-b2482031965b",
   "metadata": {
    "tags": []
   },
   "outputs": [],
   "source": [
    "import seaborn as sns\n"
   ]
  },
  {
   "cell_type": "code",
   "execution_count": 13,
   "id": "375496d6-4855-42f2-865d-ad6c29c7c93a",
   "metadata": {
    "tags": []
   },
   "outputs": [
    {
     "data": {
      "text/html": [
       "<div>\n",
       "<style scoped>\n",
       "    .dataframe tbody tr th:only-of-type {\n",
       "        vertical-align: middle;\n",
       "    }\n",
       "\n",
       "    .dataframe tbody tr th {\n",
       "        vertical-align: top;\n",
       "    }\n",
       "\n",
       "    .dataframe thead th {\n",
       "        text-align: right;\n",
       "    }\n",
       "</style>\n",
       "<table border=\"1\" class=\"dataframe\">\n",
       "  <thead>\n",
       "    <tr style=\"text-align: right;\">\n",
       "      <th></th>\n",
       "      <th>total_bill</th>\n",
       "      <th>tip</th>\n",
       "      <th>sex</th>\n",
       "      <th>smoker</th>\n",
       "      <th>day</th>\n",
       "      <th>time</th>\n",
       "      <th>size</th>\n",
       "    </tr>\n",
       "  </thead>\n",
       "  <tbody>\n",
       "    <tr>\n",
       "      <th>0</th>\n",
       "      <td>16.99</td>\n",
       "      <td>1.01</td>\n",
       "      <td>Female</td>\n",
       "      <td>No</td>\n",
       "      <td>Sun</td>\n",
       "      <td>Dinner</td>\n",
       "      <td>2</td>\n",
       "    </tr>\n",
       "    <tr>\n",
       "      <th>1</th>\n",
       "      <td>10.34</td>\n",
       "      <td>1.66</td>\n",
       "      <td>Male</td>\n",
       "      <td>No</td>\n",
       "      <td>Sun</td>\n",
       "      <td>Dinner</td>\n",
       "      <td>3</td>\n",
       "    </tr>\n",
       "    <tr>\n",
       "      <th>2</th>\n",
       "      <td>21.01</td>\n",
       "      <td>3.50</td>\n",
       "      <td>Male</td>\n",
       "      <td>No</td>\n",
       "      <td>Sun</td>\n",
       "      <td>Dinner</td>\n",
       "      <td>3</td>\n",
       "    </tr>\n",
       "    <tr>\n",
       "      <th>3</th>\n",
       "      <td>23.68</td>\n",
       "      <td>3.31</td>\n",
       "      <td>Male</td>\n",
       "      <td>No</td>\n",
       "      <td>Sun</td>\n",
       "      <td>Dinner</td>\n",
       "      <td>2</td>\n",
       "    </tr>\n",
       "    <tr>\n",
       "      <th>4</th>\n",
       "      <td>24.59</td>\n",
       "      <td>3.61</td>\n",
       "      <td>Female</td>\n",
       "      <td>No</td>\n",
       "      <td>Sun</td>\n",
       "      <td>Dinner</td>\n",
       "      <td>4</td>\n",
       "    </tr>\n",
       "  </tbody>\n",
       "</table>\n",
       "</div>"
      ],
      "text/plain": [
       "   total_bill   tip     sex smoker  day    time  size\n",
       "0       16.99  1.01  Female     No  Sun  Dinner     2\n",
       "1       10.34  1.66    Male     No  Sun  Dinner     3\n",
       "2       21.01  3.50    Male     No  Sun  Dinner     3\n",
       "3       23.68  3.31    Male     No  Sun  Dinner     2\n",
       "4       24.59  3.61  Female     No  Sun  Dinner     4"
      ]
     },
     "execution_count": 13,
     "metadata": {},
     "output_type": "execute_result"
    }
   ],
   "source": [
    "tips =sns.load_dataset(\"tips\")\n",
    "df=tips.copy()\n",
    "df.head()"
   ]
  },
  {
   "cell_type": "code",
   "execution_count": 14,
   "id": "85fad707-b167-4981-b956-329b98b392ff",
   "metadata": {
    "tags": []
   },
   "outputs": [
    {
     "data": {
      "text/html": [
       "<div>\n",
       "<style scoped>\n",
       "    .dataframe tbody tr th:only-of-type {\n",
       "        vertical-align: middle;\n",
       "    }\n",
       "\n",
       "    .dataframe tbody tr th {\n",
       "        vertical-align: top;\n",
       "    }\n",
       "\n",
       "    .dataframe thead th {\n",
       "        text-align: right;\n",
       "    }\n",
       "</style>\n",
       "<table border=\"1\" class=\"dataframe\">\n",
       "  <thead>\n",
       "    <tr style=\"text-align: right;\">\n",
       "      <th></th>\n",
       "      <th>count</th>\n",
       "      <th>mean</th>\n",
       "      <th>std</th>\n",
       "      <th>min</th>\n",
       "      <th>25%</th>\n",
       "      <th>50%</th>\n",
       "      <th>75%</th>\n",
       "      <th>max</th>\n",
       "    </tr>\n",
       "  </thead>\n",
       "  <tbody>\n",
       "    <tr>\n",
       "      <th>total_bill</th>\n",
       "      <td>244.0</td>\n",
       "      <td>19.785943</td>\n",
       "      <td>8.902412</td>\n",
       "      <td>3.07</td>\n",
       "      <td>13.3475</td>\n",
       "      <td>17.795</td>\n",
       "      <td>24.1275</td>\n",
       "      <td>50.81</td>\n",
       "    </tr>\n",
       "    <tr>\n",
       "      <th>tip</th>\n",
       "      <td>244.0</td>\n",
       "      <td>2.998279</td>\n",
       "      <td>1.383638</td>\n",
       "      <td>1.00</td>\n",
       "      <td>2.0000</td>\n",
       "      <td>2.900</td>\n",
       "      <td>3.5625</td>\n",
       "      <td>10.00</td>\n",
       "    </tr>\n",
       "    <tr>\n",
       "      <th>size</th>\n",
       "      <td>244.0</td>\n",
       "      <td>2.569672</td>\n",
       "      <td>0.951100</td>\n",
       "      <td>1.00</td>\n",
       "      <td>2.0000</td>\n",
       "      <td>2.000</td>\n",
       "      <td>3.0000</td>\n",
       "      <td>6.00</td>\n",
       "    </tr>\n",
       "  </tbody>\n",
       "</table>\n",
       "</div>"
      ],
      "text/plain": [
       "            count       mean       std   min      25%     50%      75%    max\n",
       "total_bill  244.0  19.785943  8.902412  3.07  13.3475  17.795  24.1275  50.81\n",
       "tip         244.0   2.998279  1.383638  1.00   2.0000   2.900   3.5625  10.00\n",
       "size        244.0   2.569672  0.951100  1.00   2.0000   2.000   3.0000   6.00"
      ]
     },
     "execution_count": 14,
     "metadata": {},
     "output_type": "execute_result"
    }
   ],
   "source": [
    "df.describe().T"
   ]
  },
  {
   "cell_type": "code",
   "execution_count": 15,
   "id": "0a4aef99-532f-4b08-9141-b5e4f5b6b3e4",
   "metadata": {
    "jupyter": {
     "outputs_hidden": true
    },
    "tags": []
   },
   "outputs": [
    {
     "name": "stdout",
     "output_type": "stream",
     "text": [
      "Requirement already satisfied: researchpy in c:\\users\\dell\\anaconda3\\lib\\site-packages (0.3.5)\n",
      "Requirement already satisfied: scipy in c:\\users\\dell\\anaconda3\\lib\\site-packages (from researchpy) (1.11.1)\n",
      "Requirement already satisfied: numpy in c:\\users\\dell\\anaconda3\\lib\\site-packages (from researchpy) (1.24.3)\n",
      "Requirement already satisfied: pandas in c:\\users\\dell\\anaconda3\\lib\\site-packages (from researchpy) (2.0.3)\n",
      "Requirement already satisfied: statsmodels in c:\\users\\dell\\anaconda3\\lib\\site-packages (from researchpy) (0.14.0)\n",
      "Requirement already satisfied: patsy in c:\\users\\dell\\anaconda3\\lib\\site-packages (from researchpy) (0.5.3)\n",
      "Requirement already satisfied: python-dateutil>=2.8.2 in c:\\users\\dell\\anaconda3\\lib\\site-packages (from pandas->researchpy) (2.8.2)\n",
      "Requirement already satisfied: pytz>=2020.1 in c:\\users\\dell\\anaconda3\\lib\\site-packages (from pandas->researchpy) (2023.3.post1)\n",
      "Requirement already satisfied: tzdata>=2022.1 in c:\\users\\dell\\anaconda3\\lib\\site-packages (from pandas->researchpy) (2023.3)\n",
      "Requirement already satisfied: six in c:\\users\\dell\\anaconda3\\lib\\site-packages (from patsy->researchpy) (1.16.0)\n",
      "Requirement already satisfied: packaging>=21.3 in c:\\users\\dell\\anaconda3\\lib\\site-packages (from statsmodels->researchpy) (23.1)\n"
     ]
    }
   ],
   "source": [
    "!pip install researchpy\n",
    "import researchpy as rp"
   ]
  },
  {
   "cell_type": "code",
   "execution_count": 16,
   "id": "84ec26b5-99d9-46c7-a0fc-4ff8b35ba519",
   "metadata": {
    "jupyter": {
     "outputs_hidden": true
    },
    "scrolled": true,
    "tags": []
   },
   "outputs": [
    {
     "ename": "AttributeError",
     "evalue": "'DataFrame' object has no attribute 'iteritems'",
     "output_type": "error",
     "traceback": [
      "\u001b[1;31m---------------------------------------------------------------------------\u001b[0m",
      "\u001b[1;31mAttributeError\u001b[0m                            Traceback (most recent call last)",
      "\u001b[1;32m~\\AppData\\Local\\Temp\\ipykernel_4288\\3852454263.py\u001b[0m in \u001b[0;36m?\u001b[1;34m()\u001b[0m\n\u001b[1;32m----> 1\u001b[1;33m \u001b[0mrp\u001b[0m\u001b[1;33m.\u001b[0m\u001b[0msummary_cont\u001b[0m\u001b[1;33m(\u001b[0m\u001b[0mdf\u001b[0m\u001b[1;33m[\u001b[0m\u001b[1;33m[\u001b[0m\u001b[1;34m\"total_bill\"\u001b[0m\u001b[1;33m,\u001b[0m\u001b[1;34m\"tip\"\u001b[0m\u001b[1;33m,\u001b[0m\u001b[1;34m\"size\"\u001b[0m\u001b[1;33m]\u001b[0m\u001b[1;33m]\u001b[0m\u001b[1;33m)\u001b[0m\u001b[1;33m\u001b[0m\u001b[1;33m\u001b[0m\u001b[0m\n\u001b[0m",
      "\u001b[1;32m~\\anaconda3\\Lib\\site-packages\\researchpy\\summary.py\u001b[0m in \u001b[0;36m?\u001b[1;34m(group1, conf, decimals)\u001b[0m\n\u001b[0;32m     56\u001b[0m                                     f'{conf_level} Conf.', 'Interval'])\n\u001b[0;32m     57\u001b[0m \u001b[1;33m\u001b[0m\u001b[0m\n\u001b[0;32m     58\u001b[0m         \u001b[0mcount\u001b[0m \u001b[1;33m=\u001b[0m \u001b[1;36m0\u001b[0m\u001b[1;33m\u001b[0m\u001b[1;33m\u001b[0m\u001b[0m\n\u001b[0;32m     59\u001b[0m \u001b[1;33m\u001b[0m\u001b[0m\n\u001b[1;32m---> 60\u001b[1;33m         \u001b[1;32mfor\u001b[0m \u001b[0mix\u001b[0m\u001b[1;33m,\u001b[0m \u001b[0mdf_col\u001b[0m \u001b[1;32min\u001b[0m \u001b[0mgroup1\u001b[0m\u001b[1;33m.\u001b[0m\u001b[0miteritems\u001b[0m\u001b[1;33m(\u001b[0m\u001b[1;33m)\u001b[0m\u001b[1;33m:\u001b[0m\u001b[1;33m\u001b[0m\u001b[1;33m\u001b[0m\u001b[0m\n\u001b[0m\u001b[0;32m     61\u001b[0m \u001b[1;33m\u001b[0m\u001b[0m\n\u001b[0;32m     62\u001b[0m             \u001b[0mcount\u001b[0m \u001b[1;33m=\u001b[0m \u001b[0mcount\u001b[0m \u001b[1;33m+\u001b[0m \u001b[1;36m1\u001b[0m\u001b[1;33m\u001b[0m\u001b[1;33m\u001b[0m\u001b[0m\n\u001b[0;32m     63\u001b[0m \u001b[1;33m\u001b[0m\u001b[0m\n",
      "\u001b[1;32m~\\anaconda3\\Lib\\site-packages\\pandas\\core\\generic.py\u001b[0m in \u001b[0;36m?\u001b[1;34m(self, name)\u001b[0m\n\u001b[0;32m   5985\u001b[0m             \u001b[1;32mand\u001b[0m \u001b[0mname\u001b[0m \u001b[1;32mnot\u001b[0m \u001b[1;32min\u001b[0m \u001b[0mself\u001b[0m\u001b[1;33m.\u001b[0m\u001b[0m_accessors\u001b[0m\u001b[1;33m\u001b[0m\u001b[1;33m\u001b[0m\u001b[0m\n\u001b[0;32m   5986\u001b[0m             \u001b[1;32mand\u001b[0m \u001b[0mself\u001b[0m\u001b[1;33m.\u001b[0m\u001b[0m_info_axis\u001b[0m\u001b[1;33m.\u001b[0m\u001b[0m_can_hold_identifiers_and_holds_name\u001b[0m\u001b[1;33m(\u001b[0m\u001b[0mname\u001b[0m\u001b[1;33m)\u001b[0m\u001b[1;33m\u001b[0m\u001b[1;33m\u001b[0m\u001b[0m\n\u001b[0;32m   5987\u001b[0m         ):\n\u001b[0;32m   5988\u001b[0m             \u001b[1;32mreturn\u001b[0m \u001b[0mself\u001b[0m\u001b[1;33m[\u001b[0m\u001b[0mname\u001b[0m\u001b[1;33m]\u001b[0m\u001b[1;33m\u001b[0m\u001b[1;33m\u001b[0m\u001b[0m\n\u001b[1;32m-> 5989\u001b[1;33m         \u001b[1;32mreturn\u001b[0m \u001b[0mobject\u001b[0m\u001b[1;33m.\u001b[0m\u001b[0m__getattribute__\u001b[0m\u001b[1;33m(\u001b[0m\u001b[0mself\u001b[0m\u001b[1;33m,\u001b[0m \u001b[0mname\u001b[0m\u001b[1;33m)\u001b[0m\u001b[1;33m\u001b[0m\u001b[1;33m\u001b[0m\u001b[0m\n\u001b[0m",
      "\u001b[1;31mAttributeError\u001b[0m: 'DataFrame' object has no attribute 'iteritems'"
     ]
    }
   ],
   "source": [
    "rp.summary_cont(df[[\"total_bill\",\"tip\",\"size\"]])"
   ]
  },
  {
   "cell_type": "code",
   "execution_count": 17,
   "id": "173e0f3b-59ac-4f18-a8d9-5fc1beaa6a39",
   "metadata": {
    "scrolled": true,
    "tags": []
   },
   "outputs": [
    {
     "data": {
      "text/html": [
       "<div>\n",
       "<style scoped>\n",
       "    .dataframe tbody tr th:only-of-type {\n",
       "        vertical-align: middle;\n",
       "    }\n",
       "\n",
       "    .dataframe tbody tr th {\n",
       "        vertical-align: top;\n",
       "    }\n",
       "\n",
       "    .dataframe thead th {\n",
       "        text-align: right;\n",
       "    }\n",
       "</style>\n",
       "<table border=\"1\" class=\"dataframe\">\n",
       "  <thead>\n",
       "    <tr style=\"text-align: right;\">\n",
       "      <th></th>\n",
       "      <th>tip</th>\n",
       "      <th>total_bill</th>\n",
       "    </tr>\n",
       "  </thead>\n",
       "  <tbody>\n",
       "    <tr>\n",
       "      <th>tip</th>\n",
       "      <td>1.914455</td>\n",
       "      <td>8.323502</td>\n",
       "    </tr>\n",
       "    <tr>\n",
       "      <th>total_bill</th>\n",
       "      <td>8.323502</td>\n",
       "      <td>79.252939</td>\n",
       "    </tr>\n",
       "  </tbody>\n",
       "</table>\n",
       "</div>"
      ],
      "text/plain": [
       "                 tip  total_bill\n",
       "tip         1.914455    8.323502\n",
       "total_bill  8.323502   79.252939"
      ]
     },
     "execution_count": 17,
     "metadata": {},
     "output_type": "execute_result"
    }
   ],
   "source": [
    "df[[\"tip\",\"total_bill\"]].cov() # kovaryans"
   ]
  },
  {
   "cell_type": "code",
   "execution_count": 18,
   "id": "d3461845-85a8-4787-86cb-82e96f5377ea",
   "metadata": {
    "tags": []
   },
   "outputs": [
    {
     "data": {
      "text/html": [
       "<div>\n",
       "<style scoped>\n",
       "    .dataframe tbody tr th:only-of-type {\n",
       "        vertical-align: middle;\n",
       "    }\n",
       "\n",
       "    .dataframe tbody tr th {\n",
       "        vertical-align: top;\n",
       "    }\n",
       "\n",
       "    .dataframe thead th {\n",
       "        text-align: right;\n",
       "    }\n",
       "</style>\n",
       "<table border=\"1\" class=\"dataframe\">\n",
       "  <thead>\n",
       "    <tr style=\"text-align: right;\">\n",
       "      <th></th>\n",
       "      <th>tip</th>\n",
       "      <th>total_bill</th>\n",
       "    </tr>\n",
       "  </thead>\n",
       "  <tbody>\n",
       "    <tr>\n",
       "      <th>tip</th>\n",
       "      <td>1.000000</td>\n",
       "      <td>0.675734</td>\n",
       "    </tr>\n",
       "    <tr>\n",
       "      <th>total_bill</th>\n",
       "      <td>0.675734</td>\n",
       "      <td>1.000000</td>\n",
       "    </tr>\n",
       "  </tbody>\n",
       "</table>\n",
       "</div>"
      ],
      "text/plain": [
       "                 tip  total_bill\n",
       "tip         1.000000    0.675734\n",
       "total_bill  0.675734    1.000000"
      ]
     },
     "execution_count": 18,
     "metadata": {},
     "output_type": "execute_result"
    }
   ],
   "source": [
    "df[[\"tip\",\"total_bill\"]].corr() # korelasyon"
   ]
  },
  {
   "cell_type": "code",
   "execution_count": 40,
   "id": "dc6f1862-3603-471a-94d0-a9b2610cfde2",
   "metadata": {
    "tags": []
   },
   "outputs": [],
   "source": [
    "# GÜVEN ARALIĞI = ana kütle parametresinin tahmını değerini kapsayabiecek iki saydıdan oluşan bır aralık bulunmasıdır\n",
    "# ortalama ornek olarar 10 sa güven aralığı 8-12 arasındadır %95 güvenle\n"
   ]
  },
  {
   "cell_type": "code",
   "execution_count": 43,
   "id": "97bf1719-f8e8-4706-a10a-580cf3f7044c",
   "metadata": {
    "tags": []
   },
   "outputs": [],
   "source": [
    "# iş uygulaması : fiyat stratejisi karar destek sistemi\n",
    "# problem : ceo fiyat belirleme ko usunda bilimel bir dayanak ve esneklik istiyor\n",
    "# detaylar : satıcı alıcı ve bir ürün var\n",
    "# alıcılara ürüne ne kadar ücret ödersiniz sorulur cevaplar kayıt edilir\n",
    "# optimum fiyat bilimsel ve esnek olarak bulunmak isteniyor\n"
   ]
  },
  {
   "cell_type": "code",
   "execution_count": 19,
   "id": "b0dca050-e4db-4ace-9811-8a9893a03971",
   "metadata": {
    "tags": []
   },
   "outputs": [
    {
     "data": {
      "text/plain": [
       "53.132"
      ]
     },
     "execution_count": 19,
     "metadata": {},
     "output_type": "execute_result"
    }
   ],
   "source": [
    "fiyatlar =np.random.randint(10,100,250)\n",
    "fiyatlar.mean()"
   ]
  },
  {
   "cell_type": "code",
   "execution_count": 20,
   "id": "1adce6f0-f97a-4ac1-bab5-70310c2f32f8",
   "metadata": {
    "tags": []
   },
   "outputs": [],
   "source": [
    "import statsmodels.stats.api as sms\n"
   ]
  },
  {
   "cell_type": "code",
   "execution_count": 21,
   "id": "720e2319-3a94-4d40-8a55-3660f711468a",
   "metadata": {
    "tags": []
   },
   "outputs": [
    {
     "data": {
      "text/plain": [
       "(49.778170095644676, 56.48582990435532)"
      ]
     },
     "execution_count": 21,
     "metadata": {},
     "output_type": "execute_result"
    }
   ],
   "source": [
    "sms.DescrStatsW(fiyatlar).tconfint_mean() # güven aralığı kodu %95 güvenle"
   ]
  },
  {
   "cell_type": "code",
   "execution_count": 63,
   "id": "2f96595d-720c-445a-91cc-4d2a52cd312b",
   "metadata": {
    "tags": []
   },
   "outputs": [],
   "source": [
    "# OLASILIGA GİRİS VE DAĞILIMLARI\n",
    "# değerlerini bir deney sonucundan alan değişkenee rassal değişkne denir"
   ]
  },
  {
   "cell_type": "code",
   "execution_count": 66,
   "id": "cb827827-4d27-4194-a3fd-b11506485b15",
   "metadata": {
    "tags": []
   },
   "outputs": [],
   "source": [
    "# olasılık dağılımları 2 ye ayrılı kesikli ve sürekli\n",
    "# kesikli dağılım = bernoulli = başarılı-başarısız ,olumlu olumsuz seklinde iki sonuçlu olaylar ile ilgilenildiğinde kullanılan kesikli olasılık dağılımıdır: 1- bernoulli dağılım"
   ]
  },
  {
   "cell_type": "code",
   "execution_count": 22,
   "id": "cbd5f86c-6193-44e9-bd5a-e15ea8baa396",
   "metadata": {
    "tags": []
   },
   "outputs": [],
   "source": [
    "from scipy.stats import bernoulli"
   ]
  },
  {
   "cell_type": "code",
   "execution_count": 23,
   "id": "f2ce85d9-87a5-4840-ac7c-6cef281f2f50",
   "metadata": {
    "tags": []
   },
   "outputs": [],
   "source": [
    "p=0.6 # yazı tura  ifade ediliyor örnek olarak tura gelme olasılığı%60"
   ]
  },
  {
   "cell_type": "code",
   "execution_count": 24,
   "id": "6f37d95c-3223-46e8-b9e1-094192eddf33",
   "metadata": {
    "tags": []
   },
   "outputs": [
    {
     "data": {
      "text/plain": [
       "0.4000000000000001"
      ]
     },
     "execution_count": 24,
     "metadata": {},
     "output_type": "execute_result"
    }
   ],
   "source": [
    "rv=bernoulli(p)\n",
    "rv.pmf(k=0)# buradaki alan yazı turayı temsil ediyor 0= yazı ,1 =tura)"
   ]
  },
  {
   "cell_type": "code",
   "execution_count": 4,
   "id": "beab058c-c68f-4cad-99e3-7a2375633610",
   "metadata": {
    "tags": []
   },
   "outputs": [],
   "source": [
    "# BÜYÜK SAYILAR YASASI : bir rassal değişkenim uzun vadeli karalılığını tanımlayan olasılık teoremidir"
   ]
  },
  {
   "cell_type": "code",
   "execution_count": 10,
   "id": "f5ccb903-4733-4a1f-92a6-c36e455607f0",
   "metadata": {
    "tags": []
   },
   "outputs": [
    {
     "name": "stdout",
     "output_type": "stream",
     "text": [
      "Atış Sayısı: 2 --- Yazı Olasılığı: 50.00\n",
      "Atış Sayısı: 4 --- Yazı Olasılığı: 0.00\n",
      "Atış Sayısı: 8 --- Yazı Olasılığı: 62.50\n",
      "Atış Sayısı: 16 --- Yazı Olasılığı: 43.75\n",
      "Atış Sayısı: 32 --- Yazı Olasılığı: 46.88\n",
      "Atış Sayısı: 64 --- Yazı Olasılığı: 56.25\n",
      "Atış Sayısı: 128 --- Yazı Olasılığı: 50.78\n",
      "Atış Sayısı: 256 --- Yazı Olasılığı: 52.73\n",
      "Atış Sayısı: 512 --- Yazı Olasılığı: 52.93\n",
      "Atış Sayısı: 1024 --- Yazı Olasılığı: 50.20\n",
      "Atış Sayısı: 2048 --- Yazı Olasılığı: 48.58\n",
      "Atış Sayısı: 4096 --- Yazı Olasılığı: 49.49\n",
      "Atış Sayısı: 8192 --- Yazı Olasılığı: 49.58\n",
      "Atış Sayısı: 16384 --- Yazı Olasılığı: 49.96\n",
      "Atış Sayısı: 32768 --- Yazı Olasılığı: 50.00\n",
      "Atış Sayısı: 65536 --- Yazı Olasılığı: 49.68\n",
      "Atış Sayısı: 131072 --- Yazı Olasılığı: 49.97\n",
      "Atış Sayısı: 262144 --- Yazı Olasılığı: 50.13\n",
      "Atış Sayısı: 524288 --- Yazı Olasılığı: 50.01\n",
      "Atış Sayısı: 1048576 --- Yazı Olasılığı: 50.09\n"
     ]
    }
   ],
   "source": [
    "import numpy as np\n",
    "rng=np.random.RandomState(123)\n",
    "for i in np.arange(1,21):\n",
    "    deney_sayisi=2**i\n",
    "    yazi_turalar=rng.randint(0,2,size =deney_sayisi)\n",
    "    yazi_olasiliklari=np.mean(yazi_turalar)\n",
    "    print(\"Atış Sayısı:\",deney_sayisi,\"---\",\"Yazı Olasılığı: %.2f\" % (yazi_olasiliklari * 100))"
   ]
  },
  {
   "cell_type": "code",
   "execution_count": 8,
   "id": "d25a4d4a-5403-4656-89e5-0e1253abda11",
   "metadata": {
    "tags": []
   },
   "outputs": [],
   "source": [
    "# tek bir kerede olasılık oranı %50 yi vermiyor uzun tekrarlar da %50 yi alıyor yanideney sayısı arttıkça ilgili olaya ilgili beklenen olay ortaya cıkıyor"
   ]
  },
  {
   "cell_type": "code",
   "execution_count": 83,
   "id": "937a7478-d4a9-4c0d-862a-64dfebc99561",
   "metadata": {
    "tags": []
   },
   "outputs": [],
   "source": [
    "# 2 binom dağılımı : bağımsız n deneme sonucu k başarılı olma olasılığı iile ilgilenildiğinde kullanılan dağılımdır"
   ]
  },
  {
   "cell_type": "code",
   "execution_count": 84,
   "id": "39ba1928-622f-4701-bbd1-a07654db5b84",
   "metadata": {
    "tags": []
   },
   "outputs": [],
   "source": [
    "# iş uygulaması : reklam harcamsı optimizasyonu\n",
    "# problem : çeşitli mecralar reklam verililyor ,reklamların tıklanma ve geri deönüşüm oranla optimize edilmeye çalışılıyor .buna yönelik olarak belirli bir mecrada c-çeşitli senaryolara göre reklama tıklanma olasılıkları hesaplanmak isteniliyor\n",
    "# detaylar .: bir mecrada verilecek - dağılım ve reklamama tıklanma olasılığıı (0.01)\n",
    "# soru : reklamı 100 kişi gördüğümnde 1,5 ,10 tıklanma olasılığı nedir"
   ]
  },
  {
   "cell_type": "code",
   "execution_count": 25,
   "id": "bf7de649-2a4b-40ab-ad58-a6d4b80f756b",
   "metadata": {
    "tags": []
   },
   "outputs": [],
   "source": [
    "from scipy.stats import binom"
   ]
  },
  {
   "cell_type": "code",
   "execution_count": 26,
   "id": "468d7881-bc9f-4e02-b768-a90f846d3e88",
   "metadata": {
    "tags": []
   },
   "outputs": [
    {
     "name": "stdout",
     "output_type": "stream",
     "text": [
      "0.36972963764972666\n",
      "0.014941714856895145\n",
      "6.286345663268087e-05\n"
     ]
    }
   ],
   "source": [
    "p=0.01 #(tıklanma olasılığı)\n",
    "n=100 #(gözlem)\n",
    "rv=binom(n,p)\n",
    "print (rv.pmf(1))\n",
    "print (rv.pmf(4))# olasılık kütle fonksiyıonu =  pmf\n",
    "print (rv.pmf(7))"
   ]
  },
  {
   "cell_type": "code",
   "execution_count": 89,
   "id": "9902d02c-abe8-48c1-95e3-990c26c88a90",
   "metadata": {
    "tags": []
   },
   "outputs": [],
   "source": [
    " # poisson dağılımı  : belirli bir zaman aralığında belirli bir alanda nadiren rastlanan olayların olasılıklarının hesaplmamak için kullanılır"
   ]
  },
  {
   "cell_type": "code",
   "execution_count": 90,
   "id": "58c647f0-e33a-45b1-abfb-c3073705f9ff",
   "metadata": {
    "tags": []
   },
   "outputs": [],
   "source": [
    " # iş uygulaması  :ilan girişinde hata olasılığı\n",
    "    # detaylar bir yıl sürecinde ölçüöm yapılıyor,dağılım bilinir (possion) ve lambda0.1(ortalama hata sayısı),\n",
    "    # hiç hata olmaması ,3  hata olması ,10 hata olması duruumu"
   ]
  },
  {
   "cell_type": "code",
   "execution_count": 27,
   "id": "9a59b374-8298-4bb7-9b99-c00591bdfc81",
   "metadata": {
    "tags": []
   },
   "outputs": [],
   "source": [
    "from scipy.stats import poisson"
   ]
  },
  {
   "cell_type": "code",
   "execution_count": 28,
   "id": "31993fac-4711-4fa9-ac3d-8dcb49d01123",
   "metadata": {
    "tags": []
   },
   "outputs": [],
   "source": [
    "lambda_=0.1"
   ]
  },
  {
   "cell_type": "code",
   "execution_count": 30,
   "id": "6f5be85c-2fe2-4dc5-9535-0889b95f3f47",
   "metadata": {
    "tags": []
   },
   "outputs": [
    {
     "name": "stdout",
     "output_type": "stream",
     "text": [
      "0.00015080623633932676\n"
     ]
    }
   ],
   "source": [
    "rv=poisson(mu=lambda_)\n",
    "print(rv.pmf(k=3))"
   ]
  },
  {
   "cell_type": "code",
   "execution_count": 11,
   "id": "70dfbb94-3afc-49a7-ac28-662d81168a66",
   "metadata": {},
   "outputs": [],
   "source": [
    "# normal dağılım sürekli dağılım \n",
    "# normal dağışım = normal dağıldıgı bilinen sürekli rassal degışklnler için olasılık hesaplaması için kullanılkır"
   ]
  },
  {
   "cell_type": "code",
   "execution_count": 12,
   "id": "7e25789e-ea3a-4f00-a126-37065ab515b7",
   "metadata": {
    "tags": []
   },
   "outputs": [],
   "source": [
    "# iş uygulaması satış olasılıkların hesaplanması\n",
    "# problem : bir yatırım toplantısı öncesinde gelecek ay ile ilgili satışların belirli değerlerde gerçekleşmesi olasılıkları belirlenmek isteniyor\n",
    "# detaylar : dağılım normal olarak bilinşyor\n",
    "# aylık satış sayısı 80k,standart sapması 5k\n",
    "# 90k dan fazla satış yapma olasılığı nedir"
   ]
  },
  {
   "cell_type": "code",
   "execution_count": 33,
   "id": "437df01d-4ee9-421e-b2c8-c3fe253c1707",
   "metadata": {
    "tags": []
   },
   "outputs": [
    {
     "data": {
      "text/plain": [
       "0.02275013194817921"
      ]
     },
     "execution_count": 33,
     "metadata": {},
     "output_type": "execute_result"
    }
   ],
   "source": [
    "from scipy.stats import norm\n",
    "1-norm.cdf(90,80,5)\n",
    "#90\"dan fazla olması "
   ]
  },
  {
   "cell_type": "code",
   "execution_count": 34,
   "id": "bfbdcc9a-9fd2-4eb1-9f91-8ae19313ba3c",
   "metadata": {
    "tags": []
   },
   "outputs": [
    {
     "data": {
      "text/plain": [
       "0.9772498680518208"
      ]
     },
     "execution_count": 34,
     "metadata": {},
     "output_type": "execute_result"
    }
   ],
   "source": [
    "1-norm.cdf(70,80,5)\n",
    "# 70 den fazla olması olasılıpı"
   ]
  },
  {
   "cell_type": "code",
   "execution_count": 35,
   "id": "2dc074fd-a99e-4d35-8e3e-e3ea199da868",
   "metadata": {
    "tags": []
   },
   "outputs": [
    {
     "data": {
      "text/plain": [
       "0.08075665923377107"
      ]
     },
     "execution_count": 35,
     "metadata": {},
     "output_type": "execute_result"
    }
   ],
   "source": [
    "norm.cdf(73,80,5)\n",
    "# 73 den az olması olasılığı\n"
   ]
  },
  {
   "cell_type": "code",
   "execution_count": 36,
   "id": "7c410570-e3c3-4fe5-827b-12ab3df54cf4",
   "metadata": {
    "tags": []
   },
   "outputs": [
    {
     "data": {
      "text/plain": [
       "0.13590512198327787"
      ]
     },
     "execution_count": 36,
     "metadata": {},
     "output_type": "execute_result"
    }
   ],
   "source": [
    "norm.cdf(90,80,5)-norm.cdf(85,80,5)\n",
    "\n"
   ]
  },
  {
   "cell_type": "markdown",
   "id": "373c510a-8502-4c82-975b-95d9e15df6b8",
   "metadata": {},
   "source": [
    "NOT : VERİ BİLİMCİDEN BEKLENTİLER  ,BELİRSİZLİK ALTINDA KARAR VERMEYE ÇALIŞMAK ,UYGUN OLASILIK FONLKSİYONLARI İLE OLASILIK HRSAPLARI YAPMAK"
   ]
  },
  {
   "cell_type": "code",
   "execution_count": 37,
   "id": "34081f94-839e-4639-b25a-48945418fb7a",
   "metadata": {
    "tags": []
   },
   "outputs": [],
   "source": [
    "# HİPOTEZ TESTLERİ \n",
    "# BİR İNANNIŞI VEYA SAVI TEST ETMEK İÇİN KULLANILAN İSTATİKSEL BİR TEKNİKTİR"
   ]
  },
  {
   "cell_type": "code",
   "execution_count": 38,
   "id": "7d9bd1f0-5393-4a88-9288-7737edc72874",
   "metadata": {
    "tags": []
   },
   "outputs": [],
   "source": [
    "# HİPOTEZ TÜRLERİ :H0 : = 50, H1: EŞİT DEĞİL =50    H0<=50,H1>50,    H0>=50,H1<50 "
   ]
  },
  {
   "cell_type": "code",
   "execution_count": 39,
   "id": "f3cf4b99-eea2-4d4b-b691-ab149ebf1bb5",
   "metadata": {
    "tags": []
   },
   "outputs": [],
   "source": [
    "#p-value , hipotez testlerinin sonuçlarının değerlendirmek üzere programlar tatranfınfa p-value geğeri veilir bu değer sayesinde kolayca yorumlar yapılabşlşrz\n",
    "#p<0.05 küçük ise h0 hipotezi reddederiz  sayarız a= 0.05  = kabul edilebilir hata miktarı ,DAĞILIM TESTLERİNDE H0 REDDEİLMEK İSTENİLMEZ ÇÜNKÜ H0 ÖRNEK DAĞILMI İLE TEORİK ADĞILIM ARASINDA FARK YOKTUR ,DER\n",
    "# DAĞILIM TESTLERİNDE H0 REDDEİLMEK İSTENİLMEZ ÇÜNKÜ H0 ÖRNEK DAĞILMI İLE TEORİK ADĞILIM ARASINDA FARK YOKTUR ,DER"
   ]
  },
  {
   "cell_type": "code",
   "execution_count": 40,
   "id": "03f04ad3-136e-462e-af4a-38037f54e7bc",
   "metadata": {
    "tags": []
   },
   "outputs": [],
   "source": [
    "# HİPOTEZ TEST ADIMLARI\n",
    "#1 HİPOTEZLER KURULMASI VE YÖNLERİN BELİRLENMESİ  ÖR : H0 =50 H1 =/ 50\n",
    "# 2 ANLAMLILIK DÜZEYİ VE TABLO DEĞERLERİNİ BELİRLENMESİ\n",
    "# TEST İSTATİSTİĞİNİN BELİRLENMESİ VE TEST İSTATİSTİĞİNİN HESAPLANMASI\n",
    "# HESAPLANAN TEST İSTATİSTİĞİNİN İLE ALFAYA KARŞIŞILK GELEN TABLO DEĞERİNİN KARŞILAŞTITIRLMASI \n",
    "# TEST İSTATİSTİĞİ (ZH)> TABLO DEĞERİ(ZT)İSE H0 RED\n",
    "# 5 YORUM"
   ]
  },
  {
   "cell_type": "code",
   "execution_count": 37,
   "id": "b61f689e-5a9f-4995-abeb-9956091cd739",
   "metadata": {
    "tags": []
   },
   "outputs": [],
   "source": [
    "# tek   örneklem T testi test istatistiği\n",
    "# populasyon  ort ile varsayımsal değer arasında istatistiksel oolarak anlamlı bir farklılık olup olmadığını tgest etmek için kullanılan parametrik bir testtir\n",
    "# 1 ana kütle standart sapması biliniyorsa z istatistiği kullanılır \n",
    "# 2 anakütle standart sapması bilinmiyorsa ve n > 30 ise z istatistiği kullanılır\n",
    "# 3 anakütle standart sapması bilimnmiyor ve n<40 ise t istatistiği kullanılır\n",
    "# genelde t kullanabşlirz \n"
   ]
  },
  {
   "cell_type": "code",
   "execution_count": 38,
   "id": "96cf8fc6-79d9-419b-82e7-c0d0af95112d",
   "metadata": {
    "tags": []
   },
   "outputs": [],
   "source": [
    "# t testi nedir : elimizde tek örnekleme ilişkin tek bir örneklemin ort airt işlem yapmak için kuyllanılan testtir\n",
    "# ör : bir ilin yaş ortalamsı hipotez testinde kullanlıln testtir."
   ]
  },
  {
   "cell_type": "code",
   "execution_count": 39,
   "id": "f4a2955f-1b0b-4657-a8b4-57d092d51e54",
   "metadata": {
    "tags": []
   },
   "outputs": [],
   "source": [
    "# İŞ IUYGULAMASI :  ürün satın alma adım optimizasayonu\n",
    "# problemn sepete ürün ekleme işlemi sonrasında ödememe ekranında 5 adım vardır ve bunların birisi sorgulanmaktadır\n",
    "# detayalr : her adımıjn 20 şer sn olması hedefi var 4. adım sorgulaıyor\n",
    "# bu durumu tst etmek için 100 örneklem alınıuyor\n",
    "# örnek standart sapması 5 saniyedir örnek ortalması 19saniyedir\n",
    "    \n",
    "    "
   ]
  },
  {
   "cell_type": "code",
   "execution_count": 40,
   "id": "cb8aae2a-487f-445a-8a88-94bc2b7377c8",
   "metadata": {
    "tags": []
   },
   "outputs": [],
   "source": [
    "# adım 1 hipotezleie kulanılması : h0 20,h1=/20\n",
    "# adım 2 anlamılılık düzeyinin belirlenmesi \n",
    "#a = 0,05 a/2 =0,025( iki yonlu hipotez kuruludğu için a 2 bölündü) z tablo olasılık değeri 0,5-0,025 = 0,475 z tablıo kritik değeri =-/+1,96\n",
    "# adim 3 test istatistiğin belirlenmesi ve istatistiğin hesapaşnamsı z hesap değer -2\n",
    "# adım 4 z tablo ve z hesap karşılaştırması zh>zt yada -Zh<-Zh ise h0 red\n",
    "# zhesap =2 < ztablo=1,96 olduğu için h0 reddedilir\n",
    "# adım 5 yorum  4. adımda geçirilemn süre 20 h0 red edilmiştir buna göre kullanıcılar %95 güvenle 20 saniyeden farklı şekilde geçirmektedir"
   ]
  },
  {
   "cell_type": "code",
   "execution_count": 42,
   "id": "e373387a-8c93-4b5a-9681-d599f95522af",
   "metadata": {
    "tags": []
   },
   "outputs": [],
   "source": [
    " # web sitede geçirilen süre twesti\n",
    "    # problem sitede geçirilen süre 170 sn mi\n",
    "    # detaylar yazılımlar e-lde edilen web sitesinde geçirilen ort. süreler var\n",
    "    # bu veriler incelendiğinde bir yönetici yada çalışanızmız bu değerleri böyle olmadığına dair test edicektir\n",
    "    # h0=170 h1=/170"
   ]
  },
  {
   "cell_type": "code",
   "execution_count": 41,
   "id": "073aacdc-f777-4565-8453-6db323980245",
   "metadata": {
    "tags": []
   },
   "outputs": [
    {
     "data": {
      "text/plain": [
       "array([ 17, 160, 160, 175, 180])"
      ]
     },
     "execution_count": 41,
     "metadata": {},
     "output_type": "execute_result"
    }
   ],
   "source": [
    "import numpy as np\n",
    "import pandas as pd\n",
    "olcumler= np.array([17,160,160,175,180,75,23,200])\n",
    "olcumler [0:5]"
   ]
  },
  {
   "cell_type": "code",
   "execution_count": 42,
   "id": "643ff5ee-d31e-4dad-8815-86d7ce7adbc8",
   "metadata": {
    "tags": []
   },
   "outputs": [],
   "source": [
    "import scipy.stats as stats"
   ]
  },
  {
   "cell_type": "code",
   "execution_count": 43,
   "id": "8426f9e7-2656-4e1d-836f-1a5ec5ba4358",
   "metadata": {
    "tags": []
   },
   "outputs": [
    {
     "data": {
      "text/plain": [
       "DescribeResult(nobs=8, minmax=(17, 200), mean=123.75, variance=5450.785714285714, skewness=-0.5706968656406952, kurtosis=-1.3915411580890689)"
      ]
     },
     "execution_count": 43,
     "metadata": {},
     "output_type": "execute_result"
    }
   ],
   "source": [
    "stats.describe(olcumler)"
   ]
  },
  {
   "cell_type": "code",
   "execution_count": 46,
   "id": "477a8037-e967-4983-a807-3ed6ca68fa5c",
   "metadata": {
    "tags": []
   },
   "outputs": [],
   "source": [
    "# şimdi burada adamalrın 170 değeri ile bizim ort değerimiz 123 farklı çıktı o yüzden test yapmaay gerek kalmaz yanlış çünkü burada ŞANS  fktoru işin içine girere yani şans olcumlerle 170 çıkmıştır"
   ]
  },
  {
   "cell_type": "code",
   "execution_count": 44,
   "id": "0dd99126-35f8-4019-aee3-882f483c0375",
   "metadata": {
    "tags": []
   },
   "outputs": [],
   "source": [
    "# şans testi yapıyorynz\n",
    "# varsayımlar \n",
    "# normallik varsayımı\n"
   ]
  },
  {
   "cell_type": "code",
   "execution_count": 45,
   "id": "a40a20f7-99a8-4cf5-87b1-e89f12e013a9",
   "metadata": {
    "tags": []
   },
   "outputs": [
    {
     "data": {
      "text/plain": [
       "<Axes: ylabel='Frequency'>"
      ]
     },
     "execution_count": 45,
     "metadata": {},
     "output_type": "execute_result"
    },
    {
     "data": {
      "image/png": "[encoded data removed]",
      "text/plain": [
       "<Figure size 640x480 with 1 Axes>"
      ]
     },
     "metadata": {},
     "output_type": "display_data"
    }
   ],
   "source": [
    "pd.DataFrame(olcumler).plot.hist()\n",
    "# histogram grafiği"
   ]
  },
  {
   "cell_type": "code",
   "execution_count": 46,
   "id": "3d265c43-f442-4240-b524-c48c62d2eabb",
   "metadata": {
    "tags": []
   },
   "outputs": [
    {
     "ename": "NameError",
     "evalue": "name 'pylap' is not defined",
     "output_type": "error",
     "traceback": [
      "\u001b[1;31m---------------------------------------------------------------------------\u001b[0m",
      "\u001b[1;31mNameError\u001b[0m                                 Traceback (most recent call last)",
      "Cell \u001b[1;32mIn[46], line 3\u001b[0m\n\u001b[0;32m      1\u001b[0m \u001b[38;5;28;01mimport\u001b[39;00m \u001b[38;5;21;01mpylab\u001b[39;00m\n\u001b[0;32m      2\u001b[0m stats\u001b[38;5;241m.\u001b[39mprobplot(olcumler,dist\u001b[38;5;241m=\u001b[39m\u001b[38;5;124m\"\u001b[39m\u001b[38;5;124mnorm\u001b[39m\u001b[38;5;124m\"\u001b[39m,plot\u001b[38;5;241m=\u001b[39mpylab)\n\u001b[1;32m----> 3\u001b[0m pylap\u001b[38;5;241m.\u001b[39mshow()\n",
      "\u001b[1;31mNameError\u001b[0m: name 'pylap' is not defined"
     ]
    },
    {
     "data": {
      "image/png": "[encoded data removed]",
      "text/plain": [
       "<Figure size 640x480 with 1 Axes>"
      ]
     },
     "metadata": {},
     "output_type": "display_data"
    }
   ],
   "source": [
    "import pylab\n",
    "stats.probplot(olcumler,dist=\"norm\",plot=pylab)\n",
    "pylap.show()"
   ]
  },
  {
   "cell_type": "code",
   "execution_count": 53,
   "id": "8feae7d7-910f-4897-872a-e3ce2b2c95c0",
   "metadata": {
    "tags": []
   },
   "outputs": [],
   "source": [
    "# shapiro-wilks testi"
   ]
  },
  {
   "cell_type": "code",
   "execution_count": 54,
   "id": "652b1838-809a-473d-aab6-befd17c864ad",
   "metadata": {
    "tags": []
   },
   "outputs": [],
   "source": [
    "# h0 örnek dağılımı ile teorik dağılım arasında istatiksel anlamlı bir fark yoktur\n",
    "# h1 vardır"
   ]
  },
  {
   "cell_type": "code",
   "execution_count": 56,
   "id": "0b3bc284-14ac-4b80-83c9-a7804ed44199",
   "metadata": {
    "tags": []
   },
   "outputs": [],
   "source": [
    "from scipy.stats import shapiro"
   ]
  },
  {
   "cell_type": "code",
   "execution_count": 59,
   "id": "98c58519-b99a-4556-acee-1ad40088345a",
   "metadata": {
    "tags": []
   },
   "outputs": [
    {
     "data": {
      "text/plain": [
       "ShapiroResult(statistic=0.8294275403022766, pvalue=0.05855880677700043)"
      ]
     },
     "execution_count": 59,
     "metadata": {},
     "output_type": "execute_result"
    }
   ],
   "source": [
    "shapiro(olcumler)\n",
    "# statistic = t t istatistiği = 0.8"
   ]
  },
  {
   "cell_type": "code",
   "execution_count": 60,
   "id": "81ef913b-05ca-4aeb-b1db-3f19449919c8",
   "metadata": {
    "tags": []
   },
   "outputs": [],
   "source": [
    "# h0 ı red edemiyoruz örnek dağılım ile teorik dağılım arasında fark yok t testi uygulayacağız"
   ]
  },
  {
   "cell_type": "code",
   "execution_count": 61,
   "id": "7c7be04b-ef38-4cea-b8ac-0b715a796c67",
   "metadata": {
    "tags": []
   },
   "outputs": [],
   "source": [
    "# T TESTİ "
   ]
  },
  {
   "cell_type": "code",
   "execution_count": 68,
   "id": "ac5c0472-9440-4726-a30a-4ca884f18422",
   "metadata": {
    "tags": []
   },
   "outputs": [
    {
     "data": {
      "text/plain": [
       "TtestResult(statistic=-1.7718509103747633, pvalue=0.11971220584845015, df=7)"
      ]
     },
     "execution_count": 68,
     "metadata": {},
     "output_type": "execute_result"
    }
   ],
   "source": [
    "stats.ttest_1samp(olcumler,popmean=170)"
   ]
  },
  {
   "cell_type": "code",
   "execution_count": 69,
   "id": "9cfd4701-52c8-4fef-a684-40476200e7b5",
   "metadata": {
    "tags": []
   },
   "outputs": [],
   "source": [
    "# h0 170 tir sürede geçirilen miktr\n",
    "#h1 değildir 170 \n",
    "# yani sitede geçirilen süre 170 değilmiş pvalue 0,05den farklı büyük"
   ]
  },
  {
   "cell_type": "code",
   "execution_count": 70,
   "id": "07097289-eeee-41e5-8ab5-24e04d4a955b",
   "metadata": {
    "tags": []
   },
   "outputs": [],
   "source": [
    "# NON PARAMETRİK TEK ÖRNEKLEM TESTİ"
   ]
  },
  {
   "cell_type": "code",
   "execution_count": 72,
   "id": "ab10c0e2-0ecf-41fb-98eb-f217581916bd",
   "metadata": {
    "tags": []
   },
   "outputs": [],
   "source": [
    "from statsmodels.stats.descriptivestats import sign_test#(işaret testi)"
   ]
  },
  {
   "cell_type": "code",
   "execution_count": 75,
   "id": "2c5036e8-093e-4b0f-a013-18bcbae1a3c2",
   "metadata": {
    "tags": []
   },
   "outputs": [
    {
     "data": {
      "text/plain": [
       "(-1.0, 0.7265625)"
      ]
     },
     "execution_count": 75,
     "metadata": {},
     "output_type": "execute_result"
    }
   ],
   "source": [
    "sign_test(olcumler,170)\n",
    "# bu test ayrı bir test olcumler testinden sadece kullanım gösterildi"
   ]
  },
  {
   "cell_type": "code",
   "execution_count": 76,
   "id": "b133c09f-8b14-4e76-9083-193d547054f4",
   "metadata": {
    "tags": []
   },
   "outputs": [],
   "source": [
    "# tek örneklem oran testi : oransl ifadde test edilirkne kullanılır"
   ]
  },
  {
   "cell_type": "code",
   "execution_count": 80,
   "id": "6b9a1fbf-3dd0-4569-9e3e-8d54382228e4",
   "metadata": {
    "tags": []
   },
   "outputs": [],
   "source": [
    "# iş uygulaması : dönüsüm oran testi : bir ürünün 100 kişi görüyor am abir kişi alıyorsa dönüşüm oranı 1/100 dür buna dönüşüm oran denir\n",
    "# bir yazılım şirketinde reklamdan gelir dönüşüm oranı 0.125 ama firma elde edilen gelirle örtüşmğyor \n",
    "    # detaylar 500 kişiden dış mecradan reklamaa tıklayan sayısn 40 dönüşüm oranı 0,08\n",
    "    \n",
    "    #hipotezelr h0=0.125, h1=/0,125"
   ]
  },
  {
   "cell_type": "code",
   "execution_count": 47,
   "id": "9fd0b8cf-1adb-4d8b-8195-1d22b0364b61",
   "metadata": {
    "tags": []
   },
   "outputs": [],
   "source": [
    "from statsmodels.stats.proportion import proportions_ztest"
   ]
  },
  {
   "cell_type": "code",
   "execution_count": 48,
   "id": "f10e3cb5-d0be-48d0-b3df-efcc5b5fae2f",
   "metadata": {
    "tags": []
   },
   "outputs": [],
   "source": [
    "#count= değer , nobs = gözlem sayısı\n",
    "count=40\n",
    "nobs=500\n",
    "value=0.125"
   ]
  },
  {
   "cell_type": "code",
   "execution_count": 49,
   "id": "093f94e1-9848-4672-955a-7ab7dc22e3d9",
   "metadata": {
    "tags": []
   },
   "outputs": [
    {
     "data": {
      "text/plain": [
       "(-3.7090151628513017, 0.0002080669689845979)"
      ]
     },
     "execution_count": 49,
     "metadata": {},
     "output_type": "execute_result"
    }
   ],
   "source": [
    "proportions_ztest(count,nobs,value)"
   ]
  },
  {
   "cell_type": "code",
   "execution_count": 87,
   "id": "a7e69483-23d2-4c51-8e64-790527e9d29b",
   "metadata": {
    "tags": []
   },
   "outputs": [],
   "source": [
    "#pvalue  değeri 0.125 değerden küçükmoldugu için  h0 red edilir"
   ]
  },
  {
   "cell_type": "code",
   "execution_count": 88,
   "id": "9ed3dba1-7371-44cf-aca4-d277e90ed341",
   "metadata": {
    "tags": []
   },
   "outputs": [],
   "source": [
    "# BAĞIMSIZ İK ÖRNEKLEM T TEST (AB ) testi\n",
    "# iki grub ortalaması arasında karşılaştrıma yapılmak istenildpinde kullanılır\n",
    "# örnek sayıları aynı ve varyanslar aynı ise 1 förmül ,örnek saysı farklı varyans homojen  ise 1 förmül,örnek sayılar farklı ve homojen değils 1 fomul kullnıır\n",
    "# normallik varsayımı v varyans hemojenlği varsayımı testleri yapılır\n"
   ]
  },
  {
   "cell_type": "code",
   "execution_count": 91,
   "id": "0433a84e-0dbd-48bb-96d3-2c86981dbc5f",
   "metadata": {
    "tags": []
   },
   "outputs": [],
   "source": [
    "# iş uygulaması Ml başarı testi (ab testi)\n",
    "    # A eski sistem B yeni sistem\n",
    "    # problem  : yeni yatırımla ile ilgili eski sistem ve yeni sistem arasında fark var mı sorulur\n",
    "    # detaylar yeni yatırım entegre deilmiş sisteme \n",
    "    # site kullanıcıları 2 ye bölünmüş\n",
    "    # a eski b yeni\n",
    "    # gelir de değişiklik varmı test edilmek isteniyor"
   ]
  },
  {
   "cell_type": "code",
   "execution_count": 50,
   "id": "6a4e95c8-cf8b-410f-8e3f-6720c7527789",
   "metadata": {
    "tags": []
   },
   "outputs": [
    {
     "data": {
      "text/html": [
       "<div>\n",
       "<style scoped>\n",
       "    .dataframe tbody tr th:only-of-type {\n",
       "        vertical-align: middle;\n",
       "    }\n",
       "\n",
       "    .dataframe tbody tr th {\n",
       "        vertical-align: top;\n",
       "    }\n",
       "\n",
       "    .dataframe thead th {\n",
       "        text-align: right;\n",
       "    }\n",
       "</style>\n",
       "<table border=\"1\" class=\"dataframe\">\n",
       "  <thead>\n",
       "    <tr style=\"text-align: right;\">\n",
       "      <th></th>\n",
       "      <th>A</th>\n",
       "      <th>B</th>\n",
       "    </tr>\n",
       "  </thead>\n",
       "  <tbody>\n",
       "    <tr>\n",
       "      <th>0</th>\n",
       "      <td>30</td>\n",
       "      <td>40</td>\n",
       "    </tr>\n",
       "    <tr>\n",
       "      <th>1</th>\n",
       "      <td>51</td>\n",
       "      <td>52</td>\n",
       "    </tr>\n",
       "    <tr>\n",
       "      <th>2</th>\n",
       "      <td>74</td>\n",
       "      <td>75</td>\n",
       "    </tr>\n",
       "    <tr>\n",
       "      <th>3</th>\n",
       "      <td>12</td>\n",
       "      <td>96</td>\n",
       "    </tr>\n",
       "    <tr>\n",
       "      <th>4</th>\n",
       "      <td>25</td>\n",
       "      <td>75</td>\n",
       "    </tr>\n",
       "  </tbody>\n",
       "</table>\n",
       "</div>"
      ],
      "text/plain": [
       "    A   B\n",
       "0  30  40\n",
       "1  51  52\n",
       "2  74  75\n",
       "3  12  96\n",
       "4  25  75"
      ]
     },
     "execution_count": 50,
     "metadata": {},
     "output_type": "execute_result"
    }
   ],
   "source": [
    "# VERİ TİP 1\n",
    "A = pd.DataFrame([30,51,74,12,25,52,53,52,44])\n",
    "B=pd.DataFrame([40,52,75,96,75,12,14,52,33])\n",
    "A_B=pd.concat([A,B],axis=1)\n",
    "A_B.columns=[\"A\",\"B\"]\n",
    "A_B.head()\n",
    "# veri tabanından veri bu şekilde gelcek cıktııdakigbi"
   ]
  },
  {
   "cell_type": "code",
   "execution_count": 51,
   "id": "e77f4d85-d23f-4df1-93d1-3c7ffc7cf428",
   "metadata": {
    "tags": []
   },
   "outputs": [
    {
     "name": "stdout",
     "output_type": "stream",
     "text": [
      "   gelir GRUP\n",
      "0     30    A\n",
      "1     51    A\n",
      "2     74    A\n",
      "3     12    A\n",
      "4     25    A\n",
      "   gelir GRUP\n",
      "4     75    B\n",
      "5     12    B\n",
      "6     14    B\n",
      "7     52    B\n",
      "8     33    B\n"
     ]
    }
   ],
   "source": [
    "A = pd.DataFrame([30,51,74,12,25,52,53,52,44])\n",
    "B=pd.DataFrame([40,52,75,96,75,12,14,52,33])\n",
    "\n",
    "#A ve A'nın grubu\n",
    "GRUP_A = np.arange(len(A))\n",
    "GRUP_A = pd.DataFrame(GRUP_A)\n",
    "GRUP_A[:] = \"A\"\n",
    "A = pd.concat([A, GRUP_A], axis = 1)\n",
    "\n",
    "#B ve B'nin Grubu\n",
    "GRUP_B = np.arange(len(B))\n",
    "GRUP_B = pd.DataFrame(GRUP_B)\n",
    "GRUP_B[:] = \"B\"\n",
    "B = pd.concat([B, GRUP_B], axis = 1)\n",
    "\n",
    "#Tum veri\n",
    "AB = pd.concat([A,B])\n",
    "AB.columns = [\"gelir\",\"GRUP\"]\n",
    "print(AB.head())\n",
    "print(AB.tail())"
   ]
  },
  {
   "cell_type": "code",
   "execution_count": 56,
   "id": "90e53569-0354-4baa-8d66-b17f0e1cfd6b",
   "metadata": {
    "tags": []
   },
   "outputs": [
    {
     "data": {
      "text/html": [
       "<div>\n",
       "<style scoped>\n",
       "    .dataframe tbody tr th:only-of-type {\n",
       "        vertical-align: middle;\n",
       "    }\n",
       "\n",
       "    .dataframe tbody tr th {\n",
       "        vertical-align: top;\n",
       "    }\n",
       "\n",
       "    .dataframe thead th {\n",
       "        text-align: right;\n",
       "    }\n",
       "</style>\n",
       "<table border=\"1\" class=\"dataframe\">\n",
       "  <thead>\n",
       "    <tr style=\"text-align: right;\">\n",
       "      <th></th>\n",
       "      <th>A</th>\n",
       "      <th>B</th>\n",
       "    </tr>\n",
       "  </thead>\n",
       "  <tbody>\n",
       "    <tr>\n",
       "      <th>0</th>\n",
       "      <td>30</td>\n",
       "      <td>40</td>\n",
       "    </tr>\n",
       "    <tr>\n",
       "      <th>1</th>\n",
       "      <td>51</td>\n",
       "      <td>52</td>\n",
       "    </tr>\n",
       "    <tr>\n",
       "      <th>2</th>\n",
       "      <td>74</td>\n",
       "      <td>75</td>\n",
       "    </tr>\n",
       "    <tr>\n",
       "      <th>3</th>\n",
       "      <td>12</td>\n",
       "      <td>96</td>\n",
       "    </tr>\n",
       "    <tr>\n",
       "      <th>4</th>\n",
       "      <td>25</td>\n",
       "      <td>75</td>\n",
       "    </tr>\n",
       "  </tbody>\n",
       "</table>\n",
       "</div>"
      ],
      "text/plain": [
       "    A   B\n",
       "0  30  40\n",
       "1  51  52\n",
       "2  74  75\n",
       "3  12  96\n",
       "4  25  75"
      ]
     },
     "execution_count": 56,
     "metadata": {},
     "output_type": "execute_result"
    }
   ],
   "source": [
    "# varsayım kontrolu\n",
    "A_B.head()"
   ]
  },
  {
   "cell_type": "code",
   "execution_count": 27,
   "id": "6ab90490-fc63-4fd7-acb3-04a00df56148",
   "metadata": {
    "tags": []
   },
   "outputs": [
    {
     "data": {
      "text/html": [
       "<div>\n",
       "<style scoped>\n",
       "    .dataframe tbody tr th:only-of-type {\n",
       "        vertical-align: middle;\n",
       "    }\n",
       "\n",
       "    .dataframe tbody tr th {\n",
       "        vertical-align: top;\n",
       "    }\n",
       "\n",
       "    .dataframe thead th {\n",
       "        text-align: right;\n",
       "    }\n",
       "</style>\n",
       "<table border=\"1\" class=\"dataframe\">\n",
       "  <thead>\n",
       "    <tr style=\"text-align: right;\">\n",
       "      <th></th>\n",
       "      <th>gelir</th>\n",
       "      <th>GRUP</th>\n",
       "    </tr>\n",
       "  </thead>\n",
       "  <tbody>\n",
       "    <tr>\n",
       "      <th>0</th>\n",
       "      <td>30</td>\n",
       "      <td>A</td>\n",
       "    </tr>\n",
       "    <tr>\n",
       "      <th>1</th>\n",
       "      <td>51</td>\n",
       "      <td>A</td>\n",
       "    </tr>\n",
       "    <tr>\n",
       "      <th>2</th>\n",
       "      <td>74</td>\n",
       "      <td>A</td>\n",
       "    </tr>\n",
       "    <tr>\n",
       "      <th>3</th>\n",
       "      <td>12</td>\n",
       "      <td>A</td>\n",
       "    </tr>\n",
       "    <tr>\n",
       "      <th>4</th>\n",
       "      <td>25</td>\n",
       "      <td>A</td>\n",
       "    </tr>\n",
       "  </tbody>\n",
       "</table>\n",
       "</div>"
      ],
      "text/plain": [
       "   gelir GRUP\n",
       "0     30    A\n",
       "1     51    A\n",
       "2     74    A\n",
       "3     12    A\n",
       "4     25    A"
      ]
     },
     "execution_count": 27,
     "metadata": {},
     "output_type": "execute_result"
    }
   ],
   "source": [
    "AB.head()"
   ]
  },
  {
   "cell_type": "code",
   "execution_count": 57,
   "id": "39bad2db-c9f9-486c-93e9-9ab62e331760",
   "metadata": {
    "tags": []
   },
   "outputs": [],
   "source": [
    "# normallik varsayımı  shapiro tssti\n",
    "from scipy.stats import shapiro"
   ]
  },
  {
   "cell_type": "code",
   "execution_count": 58,
   "id": "beba5fc4-f0f3-4c55-b935-57d4e77034a0",
   "metadata": {
    "tags": []
   },
   "outputs": [
    {
     "data": {
      "text/plain": [
       "ShapiroResult(statistic=0.9387293457984924, pvalue=0.568589448928833)"
      ]
     },
     "execution_count": 58,
     "metadata": {},
     "output_type": "execute_result"
    }
   ],
   "source": [
    "shapiro(A_B.A)"
   ]
  },
  {
   "cell_type": "code",
   "execution_count": 30,
   "id": "cd351c78-d4ed-4516-a9ad-3ec10c351370",
   "metadata": {
    "tags": []
   },
   "outputs": [
    {
     "data": {
      "text/plain": [
       "ShapiroResult(statistic=0.9522872567176819, pvalue=0.7151764035224915)"
      ]
     },
     "execution_count": 30,
     "metadata": {},
     "output_type": "execute_result"
    }
   ],
   "source": [
    "shapiro(A_B.B)"
   ]
  },
  {
   "cell_type": "code",
   "execution_count": 31,
   "id": "15515608-4ffa-47bd-a9da-d88efa9f8637",
   "metadata": {
    "tags": []
   },
   "outputs": [],
   "source": [
    "# iki grub için h0 reddedilemiyor normallik varsaymı okeydir"
   ]
  },
  {
   "cell_type": "code",
   "execution_count": 32,
   "id": "7bcb2dcd-382b-4e34-b555-5b620b9f5f01",
   "metadata": {
    "tags": []
   },
   "outputs": [],
   "source": [
    "# varyans homojenliği varsaymıı"
   ]
  },
  {
   "cell_type": "code",
   "execution_count": 33,
   "id": "8fd9572f-0fe3-48ac-b62b-bb9a9dcb251d",
   "metadata": {
    "tags": []
   },
   "outputs": [
    {
     "data": {
      "text/plain": [
       "LeveneResult(statistic=1.473497816078385, pvalue=0.24240918414907153)"
      ]
     },
     "execution_count": 33,
     "metadata": {},
     "output_type": "execute_result"
    }
   ],
   "source": [
    "stats.levene(A_B.A,A_B.B)"
   ]
  },
  {
   "cell_type": "code",
   "execution_count": 34,
   "id": "cde924e6-4f6d-48b3-9352-48dac2a894ad",
   "metadata": {
    "tags": []
   },
   "outputs": [],
   "source": [
    "# h0 yine red edilemiyor pvalue değer 0.05 den büyüktür"
   ]
  },
  {
   "cell_type": "code",
   "execution_count": 35,
   "id": "1bd64b8f-7db1-4bd2-a22a-fd8f1710f7c2",
   "metadata": {
    "tags": []
   },
   "outputs": [
    {
     "data": {
      "text/plain": [
       "TtestResult(statistic=-0.5492308098543512, pvalue=0.5904308197449748, df=16.0)"
      ]
     },
     "execution_count": 35,
     "metadata": {},
     "output_type": "execute_result"
    }
   ],
   "source": [
    "# hipotez testi \n",
    "stats.ttest_ind(A_B[\"A\"],A_B[\"B\"],equal_var=True)"
   ]
  },
  {
   "cell_type": "code",
   "execution_count": 36,
   "id": "8cd46864-f378-4012-9502-76127f43c053",
   "metadata": {
    "tags": []
   },
   "outputs": [],
   "source": [
    "# burada p value değeri yine büyük oldugundan h0 hipotezi reddedilemez \n",
    "# yani gelirler arasında eşitlik var \n"
   ]
  },
  {
   "cell_type": "code",
   "execution_count": 37,
   "id": "46b4c13c-557e-415e-9fe6-656b1f39c06f",
   "metadata": {
    "tags": []
   },
   "outputs": [
    {
     "data": {
      "text/plain": [
       "MannwhitneyuResult(statistic=34.5, pvalue=0.625056029433148)"
      ]
     },
     "execution_count": 37,
     "metadata": {},
     "output_type": "execute_result"
    }
   ],
   "source": [
    "# NON PARAMETRİK BAĞIMSIZ İKİ ÖRNEKLEM TESTİ varsayım test sonuçları ikiside varsayımlar sağlanmıyorsa kullanıcaz\n",
    "stats.mannwhitneyu(A_B[\"A\"],A_B[\"B\"])"
   ]
  },
  {
   "cell_type": "code",
   "execution_count": 38,
   "id": "16bf8be4-55a7-4795-bdb4-40c3afbbb367",
   "metadata": {
    "tags": []
   },
   "outputs": [],
   "source": [
    "# burada bağımsız iki örneklme arasında bir fark yoktur sonucuna % güven aralığıyla ulasştık"
   ]
  },
  {
   "cell_type": "code",
   "execution_count": 39,
   "id": "7126745c-ebfa-4a70-b893-d8f29053ad26",
   "metadata": {
    "tags": []
   },
   "outputs": [],
   "source": [
    "# BAGIMLI iki ÖRNEKLEM T TESTİ :bagımlı iki grub ortalamsı arasında karşılaştırma yapılmak istenildipinde kullanılır\n",
    "# aynı kütleye öncesi sonrası testi gibidir yani farklı bir grub kullnılmıyor"
   ]
  },
  {
   "cell_type": "code",
   "execution_count": 40,
   "id": "f1cc7666-75a2-4f60-8c8e-b21a86d61ce7",
   "metadata": {
    "tags": []
   },
   "outputs": [],
   "source": [
    "# varsamyımlar : normallik ve varyans homojenlik varsayımları"
   ]
  },
  {
   "cell_type": "code",
   "execution_count": 41,
   "id": "583a152b-71c7-4a07-8e1f-52b307dbeba8",
   "metadata": {
    "tags": []
   },
   "outputs": [],
   "source": [
    "# İŞ UYGYLAMASI : ŞİRKET İÇİ EĞİTİM PERFRORMANS ÖLÇÜMÜ\n",
    "# A = eski ölçüm B:yeni ölçüm\n",
    "# problem : eğitimin çalışanlar üzerindeki etkisi\n",
    "# hipotezler : h0 = eğitim etkisizidir h1 = eğitim etkilidir"
   ]
  },
  {
   "cell_type": "code",
   "execution_count": 59,
   "id": "387d6fd8-36fb-46f5-b6a6-434b278c0b0a",
   "metadata": {
    "tags": []
   },
   "outputs": [],
   "source": [
    "oncesi = pd.DataFrame([123,119,119,116,123,123,121,120,117,118,121,121,123,119,\n",
    "            121,118,124,121,125,115,115,119,118,121,117,117,120,120,\n",
    "            121,117,118,117,123,118,124,121,115,118,125,115])\n",
    "\n",
    "sonrasi = pd.DataFrame([118,127,122,132,129,123,129,132,128,130,128,138,140,130,\n",
    "             134,134,124,140,134,129,129,138,134,124,122,126,133,127,\n",
    "             130,130,130,132,117,130,125,129,133,120,127,123])"
   ]
  },
  {
   "cell_type": "code",
   "execution_count": 60,
   "id": "42b43777-c8b2-4bef-bf3f-997b96cdf620",
   "metadata": {
    "tags": []
   },
   "outputs": [
    {
     "name": "stdout",
     "output_type": "stream",
     "text": [
      "'AYRIK' Veri Seti: \n",
      "\n",
      "     ONCESI  SONRASI\n",
      "0     123      118\n",
      "1     119      127\n",
      "2     119      122\n",
      "3     116      132\n",
      "4     123      129 \n",
      "\n",
      "\n",
      "'BIRLIKTE' Veri Seti: \n",
      "\n",
      "    PERFORMANS ONCESI_SONRASI\n",
      "0         123         ONCESI\n",
      "1         119         ONCESI\n",
      "2         119         ONCESI\n",
      "3         116         ONCESI\n",
      "4         123         ONCESI \n",
      "\n"
     ]
    }
   ],
   "source": [
    "#BIRINCI VERI SETI\n",
    "AYRIK = pd.concat([oncesi, sonrasi], axis = 1)\n",
    "AYRIK.columns = [\"ONCESI\",\"SONRASI\"]\n",
    "print(\"'AYRIK' Veri Seti: \\n\\n \", AYRIK.head(), \"\\n\\n\")\n",
    "\n",
    "\n",
    "#IKINCI VERI SETI\n",
    "#ONCESI FLAG/TAG'INI OLUSTURMA\n",
    "GRUP_ONCESI = np.arange(len(oncesi))\n",
    "GRUP_ONCESI = pd.DataFrame(GRUP_ONCESI)\n",
    "GRUP_ONCESI[:] = \"ONCESI\"\n",
    "#FLAG VE ONCESI DEGERLERINI BIR ARAYA GETIRME\n",
    "A = pd.concat([oncesi, GRUP_ONCESI], axis = 1)\n",
    "#SONRASI FLAG/TAG'INI OLUSTURMA\n",
    "GRUP_SONRASI = np.arange(len(sonrasi))\n",
    "GRUP_SONRASI = pd.DataFrame(GRUP_SONRASI)\n",
    "GRUP_SONRASI[:] = \"SONRASI\"\n",
    "\n",
    "#FLAG VE SONRASI DEGERLERINI BIR ARAYA GETIRME\n",
    "B = pd.concat([sonrasi, GRUP_SONRASI], axis = 1)\n",
    "\n",
    "#TUM VERIYI BIR ARAYA GETIRME\n",
    "BIRLIKTE = pd.concat([A,B])\n",
    "BIRLIKTE\n",
    "\n",
    "#ISIMLENDIRME\n",
    "BIRLIKTE.columns = [\"PERFORMANS\",\"ONCESI_SONRASI\"]\n",
    "print(\"'BIRLIKTE' Veri Seti: \\n\\n\", BIRLIKTE.head(), \"\\n\")"
   ]
  },
  {
   "cell_type": "code",
   "execution_count": 61,
   "id": "18ba95c0-dcbb-4b31-8815-1f37d7a190a6",
   "metadata": {
    "tags": []
   },
   "outputs": [
    {
     "data": {
      "image/png": "[encoded data removed]",
      "text/plain": [
       "<Figure size 640x480 with 1 Axes>"
      ]
     },
     "metadata": {},
     "output_type": "display_data"
    }
   ],
   "source": [
    "import seaborn as sns\n",
    "sns.boxplot(x = \"ONCESI_SONRASI\", y = \"PERFORMANS\", data = BIRLIKTE);\n"
   ]
  },
  {
   "cell_type": "code",
   "execution_count": 45,
   "id": "65173e3c-50b5-4803-874d-30a73bdc440d",
   "metadata": {
    "tags": []
   },
   "outputs": [],
   "source": [
    "# varsayım kontrolu\n"
   ]
  },
  {
   "cell_type": "code",
   "execution_count": 46,
   "id": "f63a035e-943e-4992-94d3-4ff24dc70e06",
   "metadata": {
    "tags": []
   },
   "outputs": [
    {
     "data": {
      "text/plain": [
       "ShapiroResult(statistic=0.9543651342391968, pvalue=0.10722016543149948)"
      ]
     },
     "execution_count": 46,
     "metadata": {},
     "output_type": "execute_result"
    }
   ],
   "source": [
    "shapiro(AYRIK.ONCESI)"
   ]
  },
  {
   "cell_type": "code",
   "execution_count": 47,
   "id": "aea54983-d199-4849-9c9a-8f1f4fd353a4",
   "metadata": {
    "tags": []
   },
   "outputs": [
    {
     "data": {
      "text/plain": [
       "ShapiroResult(statistic=0.9780092239379883, pvalue=0.6159630417823792)"
      ]
     },
     "execution_count": 47,
     "metadata": {},
     "output_type": "execute_result"
    }
   ],
   "source": [
    "# h0 red edemiyoz dagılım normal\n",
    "shapiro(AYRIK.SONRASI)"
   ]
  },
  {
   "cell_type": "code",
   "execution_count": 48,
   "id": "b95864b6-6f3c-449f-9336-935b5560c780",
   "metadata": {
    "tags": []
   },
   "outputs": [
    {
     "data": {
      "text/plain": [
       "LeveneResult(statistic=8.31303288672351, pvalue=0.0050844511807370246)"
      ]
     },
     "execution_count": 48,
     "metadata": {},
     "output_type": "execute_result"
    }
   ],
   "source": [
    "stats.levene(AYRIK.ONCESI,AYRIK.SONRASI)\n",
    "# h0  hipotezi redddeiyoruz yani homojen değil varyanslar\n",
    "# bu değerleri göz ardı ederek t testine devam ediyoruz"
   ]
  },
  {
   "cell_type": "code",
   "execution_count": 49,
   "id": "03ddba08-a68a-44f9-bba4-4943572d3889",
   "metadata": {
    "tags": []
   },
   "outputs": [
    {
     "data": {
      "text/plain": [
       "TtestResult(statistic=-9.281533480429937, pvalue=2.0235251764440722e-11, df=39)"
      ]
     },
     "execution_count": 49,
     "metadata": {},
     "output_type": "execute_result"
    }
   ],
   "source": [
    "stats.ttest_rel(AYRIK.ONCESI,AYRIK.SONRASI)"
   ]
  },
  {
   "cell_type": "code",
   "execution_count": 50,
   "id": "fca59923-113a-41d3-a0b1-122f43637e54",
   "metadata": {
    "tags": []
   },
   "outputs": [],
   "source": [
    "# h0 hipotezini reddediyoruz yani performasnlar arasında değişiklik vardır yani eğitim işe yaramıştır"
   ]
  },
  {
   "cell_type": "code",
   "execution_count": 51,
   "id": "063993ee-0fe1-4c14-96fa-c508d46b6466",
   "metadata": {},
   "outputs": [],
   "source": [
    "# NONPARAMETİRK BAĞIMLI İKİ ÖRNEKLME TESTİ"
   ]
  },
  {
   "cell_type": "code",
   "execution_count": 73,
   "id": "a493b532",
   "metadata": {},
   "outputs": [
    {
     "name": "stderr",
     "output_type": "stream",
     "text": [
      "C:\\Users\\Dell\\anaconda3\\Lib\\site-packages\\scipy\\stats\\_morestats.py:4088: UserWarning: Exact p-value calculation does not work if there are zeros. Switching to normal approximation.\n",
      "  warnings.warn(\"Exact p-value calculation does not work if there are \"\n"
     ]
    },
    {
     "data": {
      "text/plain": [
       "WilcoxonResult(statistic=15.0, pvalue=2.491492033374464e-07)"
      ]
     },
     "execution_count": 73,
     "metadata": {},
     "output_type": "execute_result"
    }
   ],
   "source": [
    "import numpy as np\n",
    "import pandas as pd\n",
    "import seaborn as sns\n",
    "import statsmodels.stats.api as sms\n",
    "import scipy.stats as stats\n",
    "stats.wilcoxon(AYRIK.ONCESI,AYRIK.SONRASI)"
   ]
  },
  {
   "cell_type": "code",
   "execution_count": 74,
   "id": "5e441908",
   "metadata": {},
   "outputs": [],
   "source": [
    "# iki örneklem oran testi "
   ]
  },
  {
   "cell_type": "code",
   "execution_count": 75,
   "id": "e47c8cb2",
   "metadata": {},
   "outputs": [],
   "source": [
    "# AB testi iki örneklem oran testi\n",
    "# 1000 KİŞİŞDEN 300  KİŞİ yeşil buton\n",
    "#1100 kişiden 250 gözlem var"
   ]
  },
  {
   "cell_type": "code",
   "execution_count": 76,
   "id": "1c82e767",
   "metadata": {},
   "outputs": [],
   "source": [
    "from statsmodels.stats.proportion import proportions_ztest\n",
    "basariS=np.array([300,250])\n",
    "gozlemS=np.array([1000,1100])\n",
    "# günlük hayatta cok cıkan örnekler"
   ]
  },
  {
   "cell_type": "code",
   "execution_count": 77,
   "id": "3a99a307",
   "metadata": {},
   "outputs": [
    {
     "data": {
      "text/plain": [
       "(3.7857863233209255, 0.0001532232957772221)"
      ]
     },
     "execution_count": 77,
     "metadata": {},
     "output_type": "execute_result"
    }
   ],
   "source": [
    "proportions_ztest(count=basariS,nobs=gozlemS)"
   ]
  },
  {
   "cell_type": "markdown",
   "id": "a42a015a",
   "metadata": {},
   "source": []
  },
  {
   "cell_type": "code",
   "execution_count": 78,
   "id": "364a0490",
   "metadata": {},
   "outputs": [],
   "source": [
    "# varyasn analizi : iki yada daha fazla grup ortalaması arasında istatiksel olarak anlamlı farklılık olup olmadığı öğrenilmek istenildiğinde kullanılır4"
   ]
  },
  {
   "cell_type": "code",
   "execution_count": 79,
   "id": "3a4660fd",
   "metadata": {},
   "outputs": [],
   "source": [
    "# varsayımlar : gözlemleri (grubların)bağımsız olması,normal dagılım,varyans homojenliği"
   ]
  },
  {
   "cell_type": "code",
   "execution_count": 80,
   "id": "e6f37daf",
   "metadata": {},
   "outputs": [],
   "source": [
    "# iş uygulaması : ana sayfa içerik stratejisi belirlemek\n",
    "# problem : anasayfa geçirilen süre artacak\n",
    "# 3 tane haber tarzı var 1 : doğal haber olduğu gibi\n",
    "# 2,: yönlendirici ,3: ilgi çekici böylece hangi haber şekli seçilrse sitede daha fazal kalınır\n"
   ]
  },
  {
   "cell_type": "code",
   "execution_count": 81,
   "id": "634b59ec",
   "metadata": {},
   "outputs": [
    {
     "data": {
      "text/html": [
       "<div>\n",
       "<style scoped>\n",
       "    .dataframe tbody tr th:only-of-type {\n",
       "        vertical-align: middle;\n",
       "    }\n",
       "\n",
       "    .dataframe tbody tr th {\n",
       "        vertical-align: top;\n",
       "    }\n",
       "\n",
       "    .dataframe thead th {\n",
       "        text-align: right;\n",
       "    }\n",
       "</style>\n",
       "<table border=\"1\" class=\"dataframe\">\n",
       "  <thead>\n",
       "    <tr style=\"text-align: right;\">\n",
       "      <th></th>\n",
       "      <th>A</th>\n",
       "      <th>B</th>\n",
       "      <th>C</th>\n",
       "    </tr>\n",
       "  </thead>\n",
       "  <tbody>\n",
       "    <tr>\n",
       "      <th>0</th>\n",
       "      <td>28</td>\n",
       "      <td>31</td>\n",
       "      <td>40</td>\n",
       "    </tr>\n",
       "    <tr>\n",
       "      <th>1</th>\n",
       "      <td>33</td>\n",
       "      <td>32</td>\n",
       "      <td>33</td>\n",
       "    </tr>\n",
       "    <tr>\n",
       "      <th>2</th>\n",
       "      <td>30</td>\n",
       "      <td>30</td>\n",
       "      <td>38</td>\n",
       "    </tr>\n",
       "    <tr>\n",
       "      <th>3</th>\n",
       "      <td>29</td>\n",
       "      <td>30</td>\n",
       "      <td>41</td>\n",
       "    </tr>\n",
       "    <tr>\n",
       "      <th>4</th>\n",
       "      <td>28</td>\n",
       "      <td>33</td>\n",
       "      <td>42</td>\n",
       "    </tr>\n",
       "  </tbody>\n",
       "</table>\n",
       "</div>"
      ],
      "text/plain": [
       "    A   B   C\n",
       "0  28  31  40\n",
       "1  33  32  33\n",
       "2  30  30  38\n",
       "3  29  30  41\n",
       "4  28  33  42"
      ]
     },
     "execution_count": 81,
     "metadata": {},
     "output_type": "execute_result"
    }
   ],
   "source": [
    "A = pd.DataFrame([28,33,30,29,28,29,27,31,30,32,28,33,25,29,27,31,31,30,31,34,30,32,31,34,28,32,31,28,33,29])\n",
    "\n",
    "B = pd.DataFrame([31,32,30,30,33,32,34,27,36,30,31,30,38,29,30,34,34,31,35,35,33,30,28,29,26,37,31,28,34,33])\n",
    "\n",
    "C = pd.DataFrame([40,33,38,41,42,43,38,35,39,39,36,34,35,40,38,36,39,36,33,35,38,35,40,40,39,38,38,43,40,42])\n",
    "\n",
    "dfs = [A, B, C]\n",
    "\n",
    "ABC = pd.concat(dfs, axis = 1)\n",
    "ABC.columns = [\"A\",\"B\",\"C\"]\n",
    "ABC.head()"
   ]
  },
  {
   "cell_type": "code",
   "execution_count": 83,
   "id": "9c145320",
   "metadata": {},
   "outputs": [
    {
     "data": {
      "text/plain": [
       "ShapiroResult(statistic=0.969743013381958, pvalue=0.5321670174598694)"
      ]
     },
     "execution_count": 83,
     "metadata": {},
     "output_type": "execute_result"
    }
   ],
   "source": [
    "# varsayım kontrolü: \n",
    "# normallik varsayımı\n",
    "\n",
    "from scipy.stats import shapiro\n",
    "shapiro(ABC[\"A\"])"
   ]
  },
  {
   "cell_type": "code",
   "execution_count": 85,
   "id": "c2c892c8",
   "metadata": {},
   "outputs": [
    {
     "data": {
      "text/plain": [
       "ShapiroResult(statistic=0.9789853096008301, pvalue=0.7979751229286194)"
      ]
     },
     "execution_count": 85,
     "metadata": {},
     "output_type": "execute_result"
    }
   ],
   "source": [
    "shapiro(ABC[\"B\"])"
   ]
  },
  {
   "cell_type": "code",
   "execution_count": 86,
   "id": "1526564e",
   "metadata": {},
   "outputs": [
    {
     "data": {
      "text/plain": [
       "ShapiroResult(statistic=0.9579201340675354, pvalue=0.273820161819458)"
      ]
     },
     "execution_count": 86,
     "metadata": {},
     "output_type": "execute_result"
    }
   ],
   "source": [
    "shapiro(ABC[\"C\"])"
   ]
  },
  {
   "cell_type": "code",
   "execution_count": 88,
   "id": "9c62b8c6",
   "metadata": {},
   "outputs": [
    {
     "data": {
      "text/plain": [
       "LeveneResult(statistic=1.0267403645055273, pvalue=0.36247110117417064)"
      ]
     },
     "execution_count": 88,
     "metadata": {},
     "output_type": "execute_result"
    }
   ],
   "source": [
    "stats.levene(ABC[\"C\"],ABC[\"B\"],ABC[\"A\"]) # homojenlik varsayımı"
   ]
  },
  {
   "cell_type": "code",
   "execution_count": 90,
   "id": "08424f82",
   "metadata": {},
   "outputs": [
    {
     "data": {
      "text/plain": [
       "F_onewayResult(statistic=74.69278140730431, pvalue=1.3079050746811477e-19)"
      ]
     },
     "execution_count": 90,
     "metadata": {},
     "output_type": "execute_result"
    }
   ],
   "source": [
    "from scipy.stats import f_oneway\n",
    "f_oneway(ABC[\"C\"],ABC[\"B\"],ABC[\"A\"])"
   ]
  },
  {
   "cell_type": "code",
   "execution_count": 92,
   "id": "30d039a2",
   "metadata": {},
   "outputs": [
    {
     "data": {
      "text/html": [
       "<div>\n",
       "<style scoped>\n",
       "    .dataframe tbody tr th:only-of-type {\n",
       "        vertical-align: middle;\n",
       "    }\n",
       "\n",
       "    .dataframe tbody tr th {\n",
       "        vertical-align: top;\n",
       "    }\n",
       "\n",
       "    .dataframe thead th {\n",
       "        text-align: right;\n",
       "    }\n",
       "</style>\n",
       "<table border=\"1\" class=\"dataframe\">\n",
       "  <thead>\n",
       "    <tr style=\"text-align: right;\">\n",
       "      <th></th>\n",
       "      <th>count</th>\n",
       "      <th>mean</th>\n",
       "      <th>std</th>\n",
       "      <th>min</th>\n",
       "      <th>25%</th>\n",
       "      <th>50%</th>\n",
       "      <th>75%</th>\n",
       "      <th>max</th>\n",
       "    </tr>\n",
       "  </thead>\n",
       "  <tbody>\n",
       "    <tr>\n",
       "      <th>A</th>\n",
       "      <td>30.0</td>\n",
       "      <td>30.133333</td>\n",
       "      <td>2.224214</td>\n",
       "      <td>25.0</td>\n",
       "      <td>28.25</td>\n",
       "      <td>30.0</td>\n",
       "      <td>31.75</td>\n",
       "      <td>34.0</td>\n",
       "    </tr>\n",
       "    <tr>\n",
       "      <th>B</th>\n",
       "      <td>30.0</td>\n",
       "      <td>31.700000</td>\n",
       "      <td>2.937862</td>\n",
       "      <td>26.0</td>\n",
       "      <td>30.00</td>\n",
       "      <td>31.0</td>\n",
       "      <td>34.00</td>\n",
       "      <td>38.0</td>\n",
       "    </tr>\n",
       "    <tr>\n",
       "      <th>C</th>\n",
       "      <td>30.0</td>\n",
       "      <td>38.100000</td>\n",
       "      <td>2.808239</td>\n",
       "      <td>33.0</td>\n",
       "      <td>36.00</td>\n",
       "      <td>38.0</td>\n",
       "      <td>40.00</td>\n",
       "      <td>43.0</td>\n",
       "    </tr>\n",
       "  </tbody>\n",
       "</table>\n",
       "</div>"
      ],
      "text/plain": [
       "   count       mean       std   min    25%   50%    75%   max\n",
       "A   30.0  30.133333  2.224214  25.0  28.25  30.0  31.75  34.0\n",
       "B   30.0  31.700000  2.937862  26.0  30.00  31.0  34.00  38.0\n",
       "C   30.0  38.100000  2.808239  33.0  36.00  38.0  40.00  43.0"
      ]
     },
     "execution_count": 92,
     "metadata": {},
     "output_type": "execute_result"
    }
   ],
   "source": [
    "# hipotez sonucu: h0 hipotez red edilir grublar arasında farklılıklar var \n",
    "ABC.describe().T\n"
   ]
  },
  {
   "cell_type": "code",
   "execution_count": 93,
   "id": "f1a8f967",
   "metadata": {},
   "outputs": [],
   "source": [
    "#  non parametrik hipotez testi \n"
   ]
  },
  {
   "cell_type": "code",
   "execution_count": 95,
   "id": "0e5a30d1",
   "metadata": {},
   "outputs": [
    {
     "data": {
      "text/plain": [
       "KruskalResult(statistic=54.198197355237774, pvalue=1.7022015426176427e-12)"
      ]
     },
     "execution_count": 95,
     "metadata": {},
     "output_type": "execute_result"
    }
   ],
   "source": [
    "from scipy.stats import kruskal\n",
    "kruskal(ABC[\"C\"],ABC[\"B\"],ABC[\"A\"])\n",
    "# h0 hipotez red edilir grublar arasında anlamlı ilişki vardır"
   ]
  },
  {
   "cell_type": "code",
   "execution_count": null,
   "id": "30caaff8",
   "metadata": {},
   "outputs": [],
   "source": []
  },
  {
   "cell_type": "code",
   "execution_count": 96,
   "id": "afcb3c7b",
   "metadata": {},
   "outputs": [],
   "source": [
    "# KORELASYON ANALİzi :değişkenler arasındaki ilişki.bu ilişkinin yönü ve şiddeti ile ilgili bilgiler sağlayan istatiksel bir yönetemdi"
   ]
  },
  {
   "cell_type": "code",
   "execution_count": 97,
   "id": "36f6e368",
   "metadata": {},
   "outputs": [],
   "source": [
    "# varsayımlar : iki değişken normallik varsayımı, \n",
    "# varsayım sağlanmıyorsa spearman korelasyon katsaysı\n",
    "# varsayım sağlanıyorsa pearson korelasyon katsayısı"
   ]
  },
  {
   "cell_type": "code",
   "execution_count": 98,
   "id": "9f58fa8f",
   "metadata": {},
   "outputs": [],
   "source": [
    "# iş uygulaması : bahşiş ile hesap arasındaki ilişki\n",
    "#bahşiş ile hesap arasında korelasyon var mı"
   ]
  },
  {
   "cell_type": "code",
   "execution_count": 99,
   "id": "064bc965",
   "metadata": {},
   "outputs": [
    {
     "data": {
      "text/html": [
       "<div>\n",
       "<style scoped>\n",
       "    .dataframe tbody tr th:only-of-type {\n",
       "        vertical-align: middle;\n",
       "    }\n",
       "\n",
       "    .dataframe tbody tr th {\n",
       "        vertical-align: top;\n",
       "    }\n",
       "\n",
       "    .dataframe thead th {\n",
       "        text-align: right;\n",
       "    }\n",
       "</style>\n",
       "<table border=\"1\" class=\"dataframe\">\n",
       "  <thead>\n",
       "    <tr style=\"text-align: right;\">\n",
       "      <th></th>\n",
       "      <th>total_bill</th>\n",
       "      <th>tip</th>\n",
       "      <th>sex</th>\n",
       "      <th>smoker</th>\n",
       "      <th>day</th>\n",
       "      <th>time</th>\n",
       "      <th>size</th>\n",
       "    </tr>\n",
       "  </thead>\n",
       "  <tbody>\n",
       "    <tr>\n",
       "      <th>0</th>\n",
       "      <td>16.99</td>\n",
       "      <td>1.01</td>\n",
       "      <td>Female</td>\n",
       "      <td>No</td>\n",
       "      <td>Sun</td>\n",
       "      <td>Dinner</td>\n",
       "      <td>2</td>\n",
       "    </tr>\n",
       "    <tr>\n",
       "      <th>1</th>\n",
       "      <td>10.34</td>\n",
       "      <td>1.66</td>\n",
       "      <td>Male</td>\n",
       "      <td>No</td>\n",
       "      <td>Sun</td>\n",
       "      <td>Dinner</td>\n",
       "      <td>3</td>\n",
       "    </tr>\n",
       "    <tr>\n",
       "      <th>2</th>\n",
       "      <td>21.01</td>\n",
       "      <td>3.50</td>\n",
       "      <td>Male</td>\n",
       "      <td>No</td>\n",
       "      <td>Sun</td>\n",
       "      <td>Dinner</td>\n",
       "      <td>3</td>\n",
       "    </tr>\n",
       "    <tr>\n",
       "      <th>3</th>\n",
       "      <td>23.68</td>\n",
       "      <td>3.31</td>\n",
       "      <td>Male</td>\n",
       "      <td>No</td>\n",
       "      <td>Sun</td>\n",
       "      <td>Dinner</td>\n",
       "      <td>2</td>\n",
       "    </tr>\n",
       "    <tr>\n",
       "      <th>4</th>\n",
       "      <td>24.59</td>\n",
       "      <td>3.61</td>\n",
       "      <td>Female</td>\n",
       "      <td>No</td>\n",
       "      <td>Sun</td>\n",
       "      <td>Dinner</td>\n",
       "      <td>4</td>\n",
       "    </tr>\n",
       "  </tbody>\n",
       "</table>\n",
       "</div>"
      ],
      "text/plain": [
       "   total_bill   tip     sex smoker  day    time  size\n",
       "0       16.99  1.01  Female     No  Sun  Dinner     2\n",
       "1       10.34  1.66    Male     No  Sun  Dinner     3\n",
       "2       21.01  3.50    Male     No  Sun  Dinner     3\n",
       "3       23.68  3.31    Male     No  Sun  Dinner     2\n",
       "4       24.59  3.61  Female     No  Sun  Dinner     4"
      ]
     },
     "execution_count": 99,
     "metadata": {},
     "output_type": "execute_result"
    }
   ],
   "source": [
    "tips =sns.load_dataset(\"tips\")\n",
    "df=tips.copy()\n",
    "df.head()"
   ]
  },
  {
   "cell_type": "code",
   "execution_count": 102,
   "id": "74f3f22b",
   "metadata": {},
   "outputs": [],
   "source": [
    "df[\"total_bill\"]=df[\"total_bill\"]-df[\"tip\"] # sadece hesapı cıkarmak için yapıyoruz çünkü toplam parada bahşişde var"
   ]
  },
  {
   "cell_type": "code",
   "execution_count": 103,
   "id": "8142dfd6",
   "metadata": {},
   "outputs": [
    {
     "data": {
      "text/html": [
       "<div>\n",
       "<style scoped>\n",
       "    .dataframe tbody tr th:only-of-type {\n",
       "        vertical-align: middle;\n",
       "    }\n",
       "\n",
       "    .dataframe tbody tr th {\n",
       "        vertical-align: top;\n",
       "    }\n",
       "\n",
       "    .dataframe thead th {\n",
       "        text-align: right;\n",
       "    }\n",
       "</style>\n",
       "<table border=\"1\" class=\"dataframe\">\n",
       "  <thead>\n",
       "    <tr style=\"text-align: right;\">\n",
       "      <th></th>\n",
       "      <th>total_bill</th>\n",
       "      <th>tip</th>\n",
       "      <th>sex</th>\n",
       "      <th>smoker</th>\n",
       "      <th>day</th>\n",
       "      <th>time</th>\n",
       "      <th>size</th>\n",
       "    </tr>\n",
       "  </thead>\n",
       "  <tbody>\n",
       "    <tr>\n",
       "      <th>0</th>\n",
       "      <td>14.97</td>\n",
       "      <td>1.01</td>\n",
       "      <td>Female</td>\n",
       "      <td>No</td>\n",
       "      <td>Sun</td>\n",
       "      <td>Dinner</td>\n",
       "      <td>2</td>\n",
       "    </tr>\n",
       "    <tr>\n",
       "      <th>1</th>\n",
       "      <td>7.02</td>\n",
       "      <td>1.66</td>\n",
       "      <td>Male</td>\n",
       "      <td>No</td>\n",
       "      <td>Sun</td>\n",
       "      <td>Dinner</td>\n",
       "      <td>3</td>\n",
       "    </tr>\n",
       "    <tr>\n",
       "      <th>2</th>\n",
       "      <td>14.01</td>\n",
       "      <td>3.50</td>\n",
       "      <td>Male</td>\n",
       "      <td>No</td>\n",
       "      <td>Sun</td>\n",
       "      <td>Dinner</td>\n",
       "      <td>3</td>\n",
       "    </tr>\n",
       "    <tr>\n",
       "      <th>3</th>\n",
       "      <td>17.06</td>\n",
       "      <td>3.31</td>\n",
       "      <td>Male</td>\n",
       "      <td>No</td>\n",
       "      <td>Sun</td>\n",
       "      <td>Dinner</td>\n",
       "      <td>2</td>\n",
       "    </tr>\n",
       "    <tr>\n",
       "      <th>4</th>\n",
       "      <td>17.37</td>\n",
       "      <td>3.61</td>\n",
       "      <td>Female</td>\n",
       "      <td>No</td>\n",
       "      <td>Sun</td>\n",
       "      <td>Dinner</td>\n",
       "      <td>4</td>\n",
       "    </tr>\n",
       "  </tbody>\n",
       "</table>\n",
       "</div>"
      ],
      "text/plain": [
       "   total_bill   tip     sex smoker  day    time  size\n",
       "0       14.97  1.01  Female     No  Sun  Dinner     2\n",
       "1        7.02  1.66    Male     No  Sun  Dinner     3\n",
       "2       14.01  3.50    Male     No  Sun  Dinner     3\n",
       "3       17.06  3.31    Male     No  Sun  Dinner     2\n",
       "4       17.37  3.61  Female     No  Sun  Dinner     4"
      ]
     },
     "execution_count": 103,
     "metadata": {},
     "output_type": "execute_result"
    }
   ],
   "source": [
    "df.head()"
   ]
  },
  {
   "cell_type": "code",
   "execution_count": 104,
   "id": "0d5d5a92",
   "metadata": {},
   "outputs": [
    {
     "data": {
      "text/plain": [
       "<Axes: xlabel='tip', ylabel='total_bill'>"
      ]
     },
     "execution_count": 104,
     "metadata": {},
     "output_type": "execute_result"
    },
    {
     "data": {
      "image/png": "[encoded data removed]",
      "text/plain": [
       "<Figure size 640x480 with 1 Axes>"
      ]
     },
     "metadata": {},
     "output_type": "display_data"
    }
   ],
   "source": [
    "df.plot.scatter(\"tip\",\"total_bill\")"
   ]
  },
  {
   "cell_type": "code",
   "execution_count": 110,
   "id": "a1d8fc30",
   "metadata": {},
   "outputs": [
    {
     "name": "stdout",
     "output_type": "stream",
     "text": [
      "1. 0.8978114128112793 b 8.200817629144819e-12\n",
      "2. ShapiroResult(statistic=0.907318651676178, pvalue=3.8080073816448845e-11) a 8.200817629144819e-12\n"
     ]
    }
   ],
   "source": [
    "#varsayım kontrolü :\n",
    "#normallik varsayım\n",
    "testIstatik,pvalue=shapiro(df[\"tip\"])\n",
    "print (\"1.\",testIstatik,\"b\",pvalue)\n",
    "\n",
    "testIstatik=shapiro(df[\"total_bill\"])\n",
    "print (\"2.\",testIstatik,\"a\",pvalue)"
   ]
  },
  {
   "cell_type": "code",
   "execution_count": 111,
   "id": "51575a28",
   "metadata": {},
   "outputs": [],
   "source": [
    "#h0 hipotez red edilir anlamlı bir ilişki yoktur cümlesi yanlış farklılıklar vardır dicez"
   ]
  },
  {
   "cell_type": "code",
   "execution_count": 112,
   "id": "033c964e",
   "metadata": {},
   "outputs": [],
   "source": [
    "# korelasyon katsayı hipotez testi"
   ]
  },
  {
   "cell_type": "code",
   "execution_count": 115,
   "id": "3c4b6fc1",
   "metadata": {},
   "outputs": [
    {
     "data": {
      "text/plain": [
       "0.44362654305917865"
      ]
     },
     "execution_count": 115,
     "metadata": {},
     "output_type": "execute_result"
    }
   ],
   "source": [
    "#korelaasyon kat sayısı alma\n",
    "df[\"tip\"].corr(df[\"total_bill\"]) # bu katsayı alma işlemi varsayımların hepsi tamamlandığında olur yoksa kor katsayısını alamayız"
   ]
  },
  {
   "cell_type": "code",
   "execution_count": 118,
   "id": "3c43374f",
   "metadata": {},
   "outputs": [
    {
     "data": {
      "text/plain": [
       "0.47840852330002187"
      ]
     },
     "execution_count": 118,
     "metadata": {},
     "output_type": "execute_result"
    }
   ],
   "source": [
    "df[\"tip\"].corr(df[\"total_bill\"],method=\"spearman\") # pozitif yödne orta şiddette alamlı bir ilişki var"
   ]
  },
  {
   "cell_type": "code",
   "execution_count": 126,
   "id": "e8a5f64c",
   "metadata": {},
   "outputs": [
    {
     "name": "stderr",
     "output_type": "stream",
     "text": [
      "C:\\Users\\Dell\\AppData\\Local\\Temp\\ipykernel_480\\567514631.py:2: DeprecationWarning: Please use `pearsonr` from the `scipy.stats` namespace, the `scipy.stats.stats` namespace is deprecated.\n",
      "  from scipy.stats.stats import pearsonr\n"
     ]
    }
   ],
   "source": [
    "# korelasyon anlamlılık testi\n",
    "from scipy.stats.stats import pearsonr"
   ]
  },
  {
   "cell_type": "code",
   "execution_count": 128,
   "id": "d81dfa87",
   "metadata": {},
   "outputs": [
    {
     "name": "stdout",
     "output_type": "stream",
     "text": [
      "0.4436265430591789 3.4590245249057647e-13\n"
     ]
    }
   ],
   "source": [
    "testIstatik, pvalue = pearsonr(df[\"tip\"], df[\"total_bill\"])\n",
    "print(testIstatik,pvalue)"
   ]
  },
  {
   "cell_type": "code",
   "execution_count": 133,
   "id": "d68c124a",
   "metadata": {},
   "outputs": [
    {
     "data": {
      "text/plain": [
       "SignificanceResult(statistic=0.47840852330002187, pvalue=2.3232643717153163e-15)"
      ]
     },
     "execution_count": 133,
     "metadata": {},
     "output_type": "execute_result"
    }
   ],
   "source": [
    "# nonparametrik testi\n",
    "stats.spearmanr(df[\"tip\"],df[\"total_bill\"])\n",
    "#değişknler arasında ilişki vardır h0 reddedilir"
   ]
  },
  {
   "cell_type": "code",
   "execution_count": 136,
   "id": "34417c94",
   "metadata": {},
   "outputs": [
    {
     "name": "stdout",
     "output_type": "stream",
     "text": [
      "korelasyon sayıs 0.4436265430591789 2.3232643717153163e-15\n"
     ]
    }
   ],
   "source": [
    "korKatSayı, pvalue = pearsonr(df[\"tip\"], df[\"total_bill\"])\n",
    "\n",
    "korKatSayısı, pvalue = stats.spearmanr(df[\"tip\"], df[\"total_bill\"])\n",
    "print(\"korelasyon sayıs\",korKatSayı,pvalue)"
   ]
  },
  {
   "cell_type": "code",
   "execution_count": 137,
   "id": "32725222",
   "metadata": {},
   "outputs": [
    {
     "name": "stdout",
     "output_type": "stream",
     "text": [
      "korelasyon sayıs 0.4436265430591789 2.856545457841417e-15\n"
     ]
    }
   ],
   "source": [
    "korKatSayısı, pvalue = stats.kendalltau(df[\"tip\"], df[\"total_bill\"])\n",
    "print(\"korelasyon sayıs\",korKatSayı,pvalue)"
   ]
  },
  {
   "cell_type": "code",
   "execution_count": null,
   "id": "19216b1e",
   "metadata": {},
   "outputs": [],
   "source": []
  }
 ],
 "metadata": {
  "kernelspec": {
   "display_name": "Python 3 (ipykernel)",
   "language": "python",
   "name": "python3"
  },
  "language_info": {
   "codemirror_mode": {
    "name": "ipython",
    "version": 3
   },
   "file_extension": ".py",
   "mimetype": "text/x-python",
   "name": "python",
   "nbconvert_exporter": "python",
   "pygments_lexer": "ipython3",
   "version": "3.11.5"
  }
 },
 "nbformat": 4,
 "nbformat_minor": 5
}
