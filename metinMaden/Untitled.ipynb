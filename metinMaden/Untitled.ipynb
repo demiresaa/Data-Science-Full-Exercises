{
 "cells": [
  {
   "cell_type": "code",
   "execution_count": 18,
   "id": "70b3b2e4",
   "metadata": {},
   "outputs": [],
   "source": [
    "# TEMEL STRİNG İŞLEMLERİ"
   ]
  },
  {
   "cell_type": "code",
   "execution_count": 19,
   "id": "1de5b371",
   "metadata": {},
   "outputs": [],
   "source": [
    "isim=\"mvk\""
   ]
  },
  {
   "cell_type": "code",
   "execution_count": 20,
   "id": "45ecf7e0",
   "metadata": {},
   "outputs": [
    {
     "data": {
      "text/plain": [
       "'mvkmvkmvk'"
      ]
     },
     "execution_count": 20,
     "metadata": {},
     "output_type": "execute_result"
    }
   ],
   "source": [
    "3*isim"
   ]
  },
  {
   "cell_type": "code",
   "execution_count": 21,
   "id": "54022c59",
   "metadata": {},
   "outputs": [
    {
     "data": {
      "text/plain": [
       "'mvkali'"
      ]
     },
     "execution_count": 21,
     "metadata": {},
     "output_type": "execute_result"
    }
   ],
   "source": [
    "\"mvk\"+\"ali\""
   ]
  },
  {
   "cell_type": "code",
   "execution_count": 22,
   "id": "c4f3dcfe",
   "metadata": {},
   "outputs": [
    {
     "data": {
      "text/plain": [
       "'Kvk'"
      ]
     },
     "execution_count": 22,
     "metadata": {},
     "output_type": "execute_result"
    }
   ],
   "source": [
    "\"K\"+isim[1:]"
   ]
  },
  {
   "cell_type": "code",
   "execution_count": 23,
   "id": "bc132aa8",
   "metadata": {},
   "outputs": [],
   "source": [
    "isimler=[\"ali\",\"veli\",\"ayse\"]"
   ]
  },
  {
   "cell_type": "code",
   "execution_count": 24,
   "id": "6be8a428",
   "metadata": {},
   "outputs": [
    {
     "name": "stdout",
     "output_type": "stream",
     "text": [
      "isimali\n",
      "isimveli\n",
      "isimayse\n"
     ]
    }
   ],
   "source": [
    "for i in isimler:\n",
    "    print(\"isim\",i, sep=\"\")"
   ]
  },
  {
   "cell_type": "code",
   "execution_count": 25,
   "id": "f716f96d",
   "metadata": {},
   "outputs": [
    {
     "name": "stdout",
     "output_type": "stream",
     "text": [
      "_ali\n",
      "_veli\n",
      "_ayse\n"
     ]
    }
   ],
   "source": [
    "for i in isimler:\n",
    "    print(\"_\",i[0:],sep=\"\")"
   ]
  },
  {
   "cell_type": "code",
   "execution_count": 27,
   "id": "751c3557",
   "metadata": {},
   "outputs": [
    {
     "name": "stdout",
     "output_type": "stream",
     "text": [
      "(0, 'ali') (1, 'veli') (2, 'ayse')\n"
     ]
    }
   ],
   "source": [
    "print(*enumerate(isimler))"
   ]
  },
  {
   "cell_type": "code",
   "execution_count": 31,
   "id": "51ff01c4",
   "metadata": {},
   "outputs": [
    {
     "name": "stdout",
     "output_type": "stream",
     "text": [
      "(0, 'ali')\n",
      "(1, 'veli')\n",
      "(2, 'ayse')\n"
     ]
    }
   ],
   "source": [
    "for i in enumerate(isimler):\n",
    "    print(i)\n",
    "    "
   ]
  },
  {
   "cell_type": "code",
   "execution_count": 32,
   "id": "a7e9a78f",
   "metadata": {},
   "outputs": [
    {
     "name": "stdout",
     "output_type": "stream",
     "text": [
      "(0, 'i')\n",
      "(1, 's')\n",
      "(2, 'i')\n",
      "(3, 'm')\n",
      "(4, 'l')\n",
      "(5, 'e')\n",
      "(6, 'r')\n"
     ]
    }
   ],
   "source": [
    "for i in enumerate(\"isimler\"):\n",
    "    print(i)"
   ]
  },
  {
   "cell_type": "code",
   "execution_count": 33,
   "id": "69af2181",
   "metadata": {},
   "outputs": [
    {
     "name": "stdout",
     "output_type": "stream",
     "text": [
      "(4, 'ali')\n",
      "(5, 'veli')\n",
      "(6, 'ayse')\n"
     ]
    }
   ],
   "source": [
    "for i in enumerate(isimler,4):\n",
    "    print(i)"
   ]
  },
  {
   "cell_type": "code",
   "execution_count": 34,
   "id": "30a88f8b",
   "metadata": {},
   "outputs": [],
   "source": [
    "## DİZİ İÇİ TİP SORGULAMALARI"
   ]
  },
  {
   "cell_type": "code",
   "execution_count": 36,
   "id": "04a8be24",
   "metadata": {},
   "outputs": [
    {
     "data": {
      "text/plain": [
       "True"
      ]
     },
     "execution_count": 36,
     "metadata": {},
     "output_type": "execute_result"
    }
   ],
   "source": [
    "\"mvk\".isalpha() # mvk alfabetikmi diye sorduk"
   ]
  },
  {
   "cell_type": "code",
   "execution_count": 37,
   "id": "5e7c8d31",
   "metadata": {},
   "outputs": [
    {
     "data": {
      "text/plain": [
       "False"
      ]
     },
     "execution_count": 37,
     "metadata": {},
     "output_type": "execute_result"
    }
   ],
   "source": [
    "\"mvk30\".isalpha()"
   ]
  },
  {
   "cell_type": "code",
   "execution_count": 38,
   "id": "32329d8d",
   "metadata": {},
   "outputs": [
    {
     "data": {
      "text/plain": [
       "True"
      ]
     },
     "execution_count": 38,
     "metadata": {},
     "output_type": "execute_result"
    }
   ],
   "source": [
    "\"123\".isnumeric()"
   ]
  },
  {
   "cell_type": "code",
   "execution_count": 40,
   "id": "10b7010b",
   "metadata": {},
   "outputs": [
    {
     "data": {
      "text/plain": [
       "True"
      ]
     },
     "execution_count": 40,
     "metadata": {},
     "output_type": "execute_result"
    }
   ],
   "source": [
    "\"123\".isdigit() # metin tamammen sayıslamı sorar"
   ]
  },
  {
   "cell_type": "code",
   "execution_count": 41,
   "id": "3da9887f",
   "metadata": {},
   "outputs": [
    {
     "data": {
      "text/plain": [
       "True"
      ]
     },
     "execution_count": 41,
     "metadata": {},
     "output_type": "execute_result"
    }
   ],
   "source": [
    "\"mvk34\".isalnum()# metidne sayısal ve string varmı soroar\n"
   ]
  },
  {
   "cell_type": "code",
   "execution_count": 42,
   "id": "ff45d3ab",
   "metadata": {},
   "outputs": [],
   "source": [
    "## ELEMAN İNDEXLERE ERİŞMEK VE ELEMANA"
   ]
  },
  {
   "cell_type": "code",
   "execution_count": 43,
   "id": "152218a7",
   "metadata": {},
   "outputs": [],
   "source": [
    "mvk=\"mvk\""
   ]
  },
  {
   "cell_type": "code",
   "execution_count": 44,
   "id": "0e485361",
   "metadata": {},
   "outputs": [
    {
     "data": {
      "text/plain": [
       "'mvk'"
      ]
     },
     "execution_count": 44,
     "metadata": {},
     "output_type": "execute_result"
    }
   ],
   "source": [
    "mvk"
   ]
  },
  {
   "cell_type": "code",
   "execution_count": 45,
   "id": "4d0f08ac",
   "metadata": {},
   "outputs": [
    {
     "data": {
      "text/plain": [
       "'mv'"
      ]
     },
     "execution_count": 45,
     "metadata": {},
     "output_type": "execute_result"
    }
   ],
   "source": [
    "mvk[0:2]"
   ]
  },
  {
   "cell_type": "code",
   "execution_count": 46,
   "id": "5044ad0b",
   "metadata": {},
   "outputs": [],
   "source": [
    "isim=\"süleymankursatdemir\""
   ]
  },
  {
   "cell_type": "code",
   "execution_count": 47,
   "id": "32779cf3",
   "metadata": {},
   "outputs": [
    {
     "data": {
      "text/plain": [
       "6"
      ]
     },
     "execution_count": 47,
     "metadata": {},
     "output_type": "execute_result"
    }
   ],
   "source": [
    "isim.index(\"a\")"
   ]
  },
  {
   "cell_type": "code",
   "execution_count": 54,
   "id": "12d5e44d",
   "metadata": {},
   "outputs": [
    {
     "data": {
      "text/plain": [
       "12"
      ]
     },
     "execution_count": 54,
     "metadata": {},
     "output_type": "execute_result"
    }
   ],
   "source": [
    "isim.index(\"a\",7) # 1.a dan sonra ikinci a nerde diye yazdık"
   ]
  },
  {
   "cell_type": "code",
   "execution_count": 55,
   "id": "c725708c",
   "metadata": {},
   "outputs": [],
   "source": [
    "# BAŞLANGIC VE BİTİŞ KARAKTERLERİNİ SORGULAMAK"
   ]
  },
  {
   "cell_type": "code",
   "execution_count": 56,
   "id": "aa0bb700",
   "metadata": {},
   "outputs": [],
   "source": [
    "isim=\"süleyman demişr\""
   ]
  },
  {
   "cell_type": "code",
   "execution_count": 58,
   "id": "6fee2992",
   "metadata": {},
   "outputs": [
    {
     "data": {
      "text/plain": [
       "False"
      ]
     },
     "execution_count": 58,
     "metadata": {},
     "output_type": "execute_result"
    }
   ],
   "source": [
    "isim.startswith(\"a\") # baştaki karakter a ile başlıyormu"
   ]
  },
  {
   "cell_type": "code",
   "execution_count": 59,
   "id": "dec112a5",
   "metadata": {},
   "outputs": [
    {
     "data": {
      "text/plain": [
       "True"
      ]
     },
     "execution_count": 59,
     "metadata": {},
     "output_type": "execute_result"
    }
   ],
   "source": [
    "isim.startswith(\"s\")"
   ]
  },
  {
   "cell_type": "code",
   "execution_count": 60,
   "id": "b9ee6cf2",
   "metadata": {},
   "outputs": [
    {
     "data": {
      "text/plain": [
       "False"
      ]
     },
     "execution_count": 60,
     "metadata": {},
     "output_type": "execute_result"
    }
   ],
   "source": [
    "isim.startswith(\"S\")"
   ]
  },
  {
   "cell_type": "code",
   "execution_count": 63,
   "id": "a48dae79",
   "metadata": {},
   "outputs": [
    {
     "data": {
      "text/plain": [
       "True"
      ]
     },
     "execution_count": 63,
     "metadata": {},
     "output_type": "execute_result"
    }
   ],
   "source": [
    "isim.endswith(\"r\") # sondaki karakter r ile mi bitiyoe"
   ]
  },
  {
   "cell_type": "code",
   "execution_count": 64,
   "id": "8ffbd49d",
   "metadata": {},
   "outputs": [
    {
     "data": {
      "text/plain": [
       "1"
      ]
     },
     "execution_count": 64,
     "metadata": {},
     "output_type": "execute_result"
    }
   ],
   "source": [
    "isim.count(\"i\")"
   ]
  },
  {
   "cell_type": "code",
   "execution_count": null,
   "id": "503a74c4",
   "metadata": {},
   "outputs": [],
   "source": [
    "\n"
   ]
  },
  {
   "cell_type": "code",
   "execution_count": 67,
   "id": "98ed1cf4",
   "metadata": {},
   "outputs": [
    {
     "data": {
      "text/plain": [
       "['d', 'e', 'e', 'f', 'r', 't']"
      ]
     },
     "execution_count": 67,
     "metadata": {},
     "output_type": "execute_result"
    }
   ],
   "source": [
    "sorted(\"defter\") # sıralama işlemleri yapılıyor"
   ]
  },
  {
   "cell_type": "code",
   "execution_count": 69,
   "id": "b10b90e5",
   "metadata": {},
   "outputs": [
    {
     "name": "stdout",
     "output_type": "stream",
     "text": [
      "d-e-e-f-r-t\n"
     ]
    }
   ],
   "source": [
    "print(*sorted(\"defter\"),sep=\"-\")"
   ]
  },
  {
   "cell_type": "code",
   "execution_count": 70,
   "id": "7fff93f6",
   "metadata": {},
   "outputs": [],
   "source": [
    "# KARAKTERLERİ BÖLMEK"
   ]
  },
  {
   "cell_type": "code",
   "execution_count": 75,
   "id": "049497f2",
   "metadata": {},
   "outputs": [],
   "source": [
    "isim=\"süleuma denmşr şdsd\""
   ]
  },
  {
   "cell_type": "code",
   "execution_count": 76,
   "id": "087477ce",
   "metadata": {},
   "outputs": [
    {
     "data": {
      "text/plain": [
       "['süleuma', 'denmşr', 'şdsd']"
      ]
     },
     "execution_count": 76,
     "metadata": {},
     "output_type": "execute_result"
    }
   ],
   "source": [
    "isim.split()"
   ]
  },
  {
   "cell_type": "code",
   "execution_count": 79,
   "id": "3da0cd8f",
   "metadata": {},
   "outputs": [
    {
     "data": {
      "text/plain": [
       "['süleum', ' denmşr şdsd']"
      ]
     },
     "execution_count": 79,
     "metadata": {},
     "output_type": "execute_result"
    }
   ],
   "source": [
    "isim.split(\"a\")"
   ]
  },
  {
   "cell_type": "code",
   "execution_count": 80,
   "id": "0260ec77",
   "metadata": {},
   "outputs": [],
   "source": [
    "isim=\"sülehyman-demir\""
   ]
  },
  {
   "cell_type": "code",
   "execution_count": 81,
   "id": "baaa7b43",
   "metadata": {},
   "outputs": [
    {
     "data": {
      "text/plain": [
       "['sülehyman', 'demir']"
      ]
     },
     "execution_count": 81,
     "metadata": {},
     "output_type": "execute_result"
    }
   ],
   "source": [
    "isim.split(\"-\")"
   ]
  },
  {
   "cell_type": "code",
   "execution_count": 82,
   "id": "8b81a7b8",
   "metadata": {},
   "outputs": [
    {
     "data": {
      "text/plain": [
       "'SÜLEHYMAN-DEMIR'"
      ]
     },
     "execution_count": 82,
     "metadata": {},
     "output_type": "execute_result"
    }
   ],
   "source": [
    "isim.upper()"
   ]
  },
  {
   "cell_type": "code",
   "execution_count": 83,
   "id": "beab94a3",
   "metadata": {},
   "outputs": [
    {
     "data": {
      "text/plain": [
       "'sülehyman-demir'"
      ]
     },
     "execution_count": 83,
     "metadata": {},
     "output_type": "execute_result"
    }
   ],
   "source": [
    "isim.lower()"
   ]
  },
  {
   "cell_type": "code",
   "execution_count": 85,
   "id": "6d79bf73",
   "metadata": {},
   "outputs": [
    {
     "data": {
      "text/plain": [
       "'sülehyman-demir'"
      ]
     },
     "execution_count": 85,
     "metadata": {},
     "output_type": "execute_result"
    }
   ],
   "source": [
    "isim.upper().lower()"
   ]
  },
  {
   "cell_type": "code",
   "execution_count": 1,
   "id": "0077a5f9",
   "metadata": {},
   "outputs": [],
   "source": [
    "isim=\"ali\"\n"
   ]
  },
  {
   "cell_type": "code",
   "execution_count": 2,
   "id": "3de2b0b3",
   "metadata": {},
   "outputs": [
    {
     "data": {
      "text/plain": [
       "True"
      ]
     },
     "execution_count": 2,
     "metadata": {},
     "output_type": "execute_result"
    }
   ],
   "source": [
    "isim.islower()"
   ]
  },
  {
   "cell_type": "code",
   "execution_count": 3,
   "id": "da587ad6",
   "metadata": {},
   "outputs": [],
   "source": [
    "isim=\"süleyman kürşat demir\""
   ]
  },
  {
   "cell_type": "code",
   "execution_count": 4,
   "id": "e62e3df9",
   "metadata": {},
   "outputs": [
    {
     "data": {
      "text/plain": [
       "'Süleyman kürşat demir'"
      ]
     },
     "execution_count": 4,
     "metadata": {},
     "output_type": "execute_result"
    }
   ],
   "source": [
    "isim.capitalize()"
   ]
  },
  {
   "cell_type": "code",
   "execution_count": 5,
   "id": "c587d8fe",
   "metadata": {},
   "outputs": [
    {
     "data": {
      "text/plain": [
       "'Süleyman Kürşat Demir'"
      ]
     },
     "execution_count": 5,
     "metadata": {},
     "output_type": "execute_result"
    }
   ],
   "source": [
    "isim.title()"
   ]
  },
  {
   "cell_type": "code",
   "execution_count": null,
   "id": "238d5ef1",
   "metadata": {},
   "outputs": [],
   "source": []
  },
  {
   "cell_type": "code",
   "execution_count": 9,
   "id": "354686bb",
   "metadata": {},
   "outputs": [],
   "source": [
    "isim=\"SÜLEYMAn demir\""
   ]
  },
  {
   "cell_type": "code",
   "execution_count": 10,
   "id": "d742330b",
   "metadata": {},
   "outputs": [
    {
     "data": {
      "text/plain": [
       "'süleymaN DEMIR'"
      ]
     },
     "execution_count": 10,
     "metadata": {},
     "output_type": "execute_result"
    }
   ],
   "source": [
    "isim.swapcase()"
   ]
  },
  {
   "cell_type": "code",
   "execution_count": 15,
   "id": "8cae1eca",
   "metadata": {},
   "outputs": [],
   "source": [
    "# sitenmeyen karakterleri kırpmak strip,istrip,rsting"
   ]
  },
  {
   "cell_type": "code",
   "execution_count": 16,
   "id": "a1605663",
   "metadata": {},
   "outputs": [],
   "source": [
    "isim=\" hello \""
   ]
  },
  {
   "cell_type": "code",
   "execution_count": 17,
   "id": "1131730c",
   "metadata": {},
   "outputs": [
    {
     "data": {
      "text/plain": [
       "'hello'"
      ]
     },
     "execution_count": 17,
     "metadata": {},
     "output_type": "execute_result"
    }
   ],
   "source": [
    "isim.strip()"
   ]
  },
  {
   "cell_type": "code",
   "execution_count": 18,
   "id": "3f1dc355",
   "metadata": {},
   "outputs": [],
   "source": [
    "isim=\"thelot\""
   ]
  },
  {
   "cell_type": "code",
   "execution_count": 19,
   "id": "42ba0b27",
   "metadata": {},
   "outputs": [
    {
     "data": {
      "text/plain": [
       "'helo'"
      ]
     },
     "execution_count": 19,
     "metadata": {},
     "output_type": "execute_result"
    }
   ],
   "source": [
    "isim.strip(\"t\")"
   ]
  },
  {
   "cell_type": "code",
   "execution_count": 20,
   "id": "db00048d",
   "metadata": {},
   "outputs": [],
   "source": [
    "isim=\"3helo3\""
   ]
  },
  {
   "cell_type": "code",
   "execution_count": 21,
   "id": "60a577a7",
   "metadata": {},
   "outputs": [
    {
     "data": {
      "text/plain": [
       "'3helo'"
      ]
     },
     "execution_count": 21,
     "metadata": {},
     "output_type": "execute_result"
    }
   ],
   "source": [
    "isim.rstrip(\"3\")"
   ]
  },
  {
   "cell_type": "code",
   "execution_count": 22,
   "id": "1ce5862d",
   "metadata": {},
   "outputs": [
    {
     "data": {
      "text/plain": [
       "'helo3'"
      ]
     },
     "execution_count": 22,
     "metadata": {},
     "output_type": "execute_result"
    }
   ],
   "source": [
    "isim.lstrip(\"3\")"
   ]
  },
  {
   "cell_type": "code",
   "execution_count": 23,
   "id": "ede1e9d2",
   "metadata": {},
   "outputs": [
    {
     "data": {
      "text/plain": [
       "'3helo3'"
      ]
     },
     "execution_count": 23,
     "metadata": {},
     "output_type": "execute_result"
    }
   ],
   "source": [
    "isim"
   ]
  },
  {
   "cell_type": "code",
   "execution_count": 24,
   "id": "5f7a0981",
   "metadata": {},
   "outputs": [],
   "source": [
    "# join birleştirme"
   ]
  },
  {
   "cell_type": "code",
   "execution_count": 25,
   "id": "2216ddfc",
   "metadata": {},
   "outputs": [],
   "source": [
    "isim=\"süleymandemir kürşat\""
   ]
  },
  {
   "cell_type": "code",
   "execution_count": 27,
   "id": "8a1ba296",
   "metadata": {},
   "outputs": [
    {
     "data": {
      "text/plain": [
       "['süleymandemir', 'kürşat']"
      ]
     },
     "execution_count": 27,
     "metadata": {},
     "output_type": "execute_result"
    }
   ],
   "source": [
    "ayrik=isim.split()\n",
    "ayrik"
   ]
  },
  {
   "cell_type": "code",
   "execution_count": 29,
   "id": "93dfb9c4",
   "metadata": {},
   "outputs": [
    {
     "data": {
      "text/plain": [
       "'süleymandemir****kürşat'"
      ]
     },
     "execution_count": 29,
     "metadata": {},
     "output_type": "execute_result"
    }
   ],
   "source": [
    "joiner=\"****\"\n",
    "joiner.join(ayrik)"
   ]
  },
  {
   "cell_type": "code",
   "execution_count": 31,
   "id": "2410c2d7",
   "metadata": {},
   "outputs": [],
   "source": [
    "# eleman değiştrime replace,str.maketrans,translate"
   ]
  },
  {
   "cell_type": "code",
   "execution_count": 33,
   "id": "91fbd7b7",
   "metadata": {},
   "outputs": [
    {
     "data": {
      "text/plain": [
       "'süleymandemir kürşat'"
      ]
     },
     "execution_count": 33,
     "metadata": {},
     "output_type": "execute_result"
    }
   ],
   "source": [
    "isim"
   ]
  },
  {
   "cell_type": "code",
   "execution_count": 34,
   "id": "6ba9f0c4",
   "metadata": {},
   "outputs": [
    {
     "data": {
      "text/plain": [
       "'tüleymandemir kürşat'"
      ]
     },
     "execution_count": 34,
     "metadata": {},
     "output_type": "execute_result"
    }
   ],
   "source": [
    "isim.replace(\"s\",\"t\")"
   ]
  },
  {
   "cell_type": "code",
   "execution_count": 35,
   "id": "30cf11f1",
   "metadata": {},
   "outputs": [
    {
     "data": {
      "text/plain": [
       "'süley344demir kürşat'"
      ]
     },
     "execution_count": 35,
     "metadata": {},
     "output_type": "execute_result"
    }
   ],
   "source": [
    "isim.replace(\"man\",\"344\")"
   ]
  },
  {
   "cell_type": "code",
   "execution_count": 36,
   "id": "e96e7a25",
   "metadata": {},
   "outputs": [],
   "source": [
    "ifade=\"bu ifade içerisinde bağzı türkçe kkaraterler vardır\""
   ]
  },
  {
   "cell_type": "code",
   "execution_count": 37,
   "id": "12744232",
   "metadata": {},
   "outputs": [],
   "source": [
    "düzeltilecekHarfler=\"çÇĞğıİÖöşŞ\"\n",
    "düzeltilmişHarfler=\"cCGgIiOoşŞ\""
   ]
  },
  {
   "cell_type": "code",
   "execution_count": 38,
   "id": "d87ef2b7",
   "metadata": {},
   "outputs": [],
   "source": [
    "düzenlme=str.maketrans(düzeltilecekHarfler,düzeltilmişHarfler)"
   ]
  },
  {
   "cell_type": "code",
   "execution_count": 40,
   "id": "c00b285e",
   "metadata": {},
   "outputs": [
    {
     "data": {
      "text/plain": [
       "'bu ifade icerisinde bagzI türkce kkaraterler vardIr'"
      ]
     },
     "execution_count": 40,
     "metadata": {},
     "output_type": "execute_result"
    }
   ],
   "source": [
    "ifade.translate(düzenlme) # bu işlemler genelde türke verilerede twtterden çektiğimizde yarar"
   ]
  },
  {
   "cell_type": "code",
   "execution_count": 41,
   "id": "e4ccc2bb",
   "metadata": {},
   "outputs": [],
   "source": [
    "## contains"
   ]
  },
  {
   "cell_type": "code",
   "execution_count": 57,
   "id": "0718c99b",
   "metadata": {},
   "outputs": [],
   "source": [
    "isimler=[\"ali\",\"aLi\",\"veli\",\"sülo\",\"kero\",\"saltuk\"]"
   ]
  },
  {
   "cell_type": "code",
   "execution_count": 58,
   "id": "76094242",
   "metadata": {},
   "outputs": [],
   "source": [
    "import pandas as pd\n",
    "v=pd.Series(isimler)"
   ]
  },
  {
   "cell_type": "code",
   "execution_count": 59,
   "id": "c3ba65a9",
   "metadata": {},
   "outputs": [
    {
     "data": {
      "text/plain": [
       "0       ali\n",
       "1       aLi\n",
       "2      veli\n",
       "3      sülo\n",
       "4      kero\n",
       "5    saltuk\n",
       "dtype: object"
      ]
     },
     "execution_count": 59,
     "metadata": {},
     "output_type": "execute_result"
    }
   ],
   "source": [
    "v"
   ]
  },
  {
   "cell_type": "code",
   "execution_count": 60,
   "id": "0d055af8",
   "metadata": {},
   "outputs": [
    {
     "data": {
      "text/plain": [
       "0     True\n",
       "1    False\n",
       "2     True\n",
       "3    False\n",
       "4    False\n",
       "5    False\n",
       "dtype: bool"
      ]
     },
     "execution_count": 60,
     "metadata": {},
     "output_type": "execute_result"
    }
   ],
   "source": [
    "v.str.contains(\"li\")"
   ]
  },
  {
   "cell_type": "code",
   "execution_count": 61,
   "id": "c1871f4b",
   "metadata": {},
   "outputs": [
    {
     "data": {
      "text/plain": [
       "0     ali\n",
       "2    veli\n",
       "dtype: object"
      ]
     },
     "execution_count": 61,
     "metadata": {},
     "output_type": "execute_result"
    }
   ],
   "source": [
    "v[v.str.contains(\"li\")]"
   ]
  },
  {
   "cell_type": "code",
   "execution_count": 62,
   "id": "392ac126",
   "metadata": {},
   "outputs": [
    {
     "data": {
      "text/plain": [
       "2"
      ]
     },
     "execution_count": 62,
     "metadata": {},
     "output_type": "execute_result"
    }
   ],
   "source": [
    "v.str.contains(\"li\").sum()"
   ]
  },
  {
   "cell_type": "code",
   "execution_count": 1,
   "id": "7657c7b7",
   "metadata": {},
   "outputs": [
    {
     "ename": "NameError",
     "evalue": "name 'v' is not defined",
     "output_type": "error",
     "traceback": [
      "\u001b[1;31m---------------------------------------------------------------------------\u001b[0m",
      "\u001b[1;31mNameError\u001b[0m                                 Traceback (most recent call last)",
      "Cell \u001b[1;32mIn[1], line 1\u001b[0m\n\u001b[1;32m----> 1\u001b[0m v\u001b[38;5;241m.\u001b[39mstr\u001b[38;5;241m.\u001b[39mcontains(\u001b[38;5;124m\"\u001b[39m\u001b[38;5;124ma[A]\u001b[39m\u001b[38;5;124m\"\u001b[39m)\n",
      "\u001b[1;31mNameError\u001b[0m: name 'v' is not defined"
     ]
    }
   ],
   "source": [
    "v.str.contains(\"a[A]\")"
   ]
  },
  {
   "cell_type": "code",
   "execution_count": 3,
   "id": "b20b003c",
   "metadata": {
    "scrolled": true
   },
   "outputs": [
    {
     "name": "stdout",
     "output_type": "stream",
     "text": [
      "Requirement already satisfied: kivy in c:\\users\\dell\\anaconda3\\lib\\site-packages (2.3.0)\n",
      "Requirement already satisfied: Kivy-Garden>=0.1.4 in c:\\users\\dell\\anaconda3\\lib\\site-packages (from kivy) (0.1.5)\n",
      "Requirement already satisfied: docutils in c:\\users\\dell\\anaconda3\\lib\\site-packages (from kivy) (0.18.1)\n",
      "Requirement already satisfied: pygments in c:\\users\\dell\\anaconda3\\lib\\site-packages (from kivy) (2.15.1)\n",
      "Requirement already satisfied: kivy-deps.angle~=0.4.0 in c:\\users\\dell\\anaconda3\\lib\\site-packages (from kivy) (0.4.0)\n",
      "Requirement already satisfied: kivy-deps.sdl2~=0.7.0 in c:\\users\\dell\\anaconda3\\lib\\site-packages (from kivy) (0.7.0)\n",
      "Requirement already satisfied: kivy-deps.glew~=0.3.1 in c:\\users\\dell\\anaconda3\\lib\\site-packages (from kivy) (0.3.1)\n",
      "Requirement already satisfied: pypiwin32 in c:\\users\\dell\\anaconda3\\lib\\site-packages (from kivy) (223)\n",
      "Requirement already satisfied: requests in c:\\users\\dell\\anaconda3\\lib\\site-packages (from Kivy-Garden>=0.1.4->kivy) (2.31.0)\n",
      "Requirement already satisfied: pywin32>=223 in c:\\users\\dell\\anaconda3\\lib\\site-packages (from pypiwin32->kivy) (305.1)\n",
      "Requirement already satisfied: charset-normalizer<4,>=2 in c:\\users\\dell\\anaconda3\\lib\\site-packages (from requests->Kivy-Garden>=0.1.4->kivy) (2.0.4)\n",
      "Requirement already satisfied: idna<4,>=2.5 in c:\\users\\dell\\anaconda3\\lib\\site-packages (from requests->Kivy-Garden>=0.1.4->kivy) (3.4)\n",
      "Requirement already satisfied: urllib3<3,>=1.21.1 in c:\\users\\dell\\anaconda3\\lib\\site-packages (from requests->Kivy-Garden>=0.1.4->kivy) (1.26.16)\n",
      "Requirement already satisfied: certifi>=2017.4.17 in c:\\users\\dell\\anaconda3\\lib\\site-packages (from requests->Kivy-Garden>=0.1.4->kivy) (2023.7.22)\n"
     ]
    },
    {
     "ename": "OSError",
     "evalue": "source code not available",
     "output_type": "error",
     "traceback": [
      "\u001b[1;31m---------------------------------------------------------------------------\u001b[0m",
      "\u001b[1;31mOSError\u001b[0m                                   Traceback (most recent call last)",
      "Cell \u001b[1;32mIn[3], line 31\u001b[0m\n\u001b[0;32m     27\u001b[0m         \u001b[38;5;28;01mreturn\u001b[39;00m giris()\n\u001b[0;32m     30\u001b[0m \u001b[38;5;28;01mif\u001b[39;00m \u001b[38;5;18m__name__\u001b[39m \u001b[38;5;241m==\u001b[39m \u001b[38;5;124m\"\u001b[39m\u001b[38;5;124m__main__\u001b[39m\u001b[38;5;124m\"\u001b[39m:\n\u001b[1;32m---> 31\u001b[0m     uygulama()\u001b[38;5;241m.\u001b[39mrun()\n",
      "File \u001b[1;32m~\\anaconda3\\Lib\\site-packages\\kivy\\app.py:955\u001b[0m, in \u001b[0;36mApp.run\u001b[1;34m(self)\u001b[0m\n\u001b[0;32m    952\u001b[0m \u001b[38;5;28;01mdef\u001b[39;00m \u001b[38;5;21mrun\u001b[39m(\u001b[38;5;28mself\u001b[39m):\n\u001b[0;32m    953\u001b[0m \u001b[38;5;250m    \u001b[39m\u001b[38;5;124;03m'''Launches the app in standalone mode.\u001b[39;00m\n\u001b[0;32m    954\u001b[0m \u001b[38;5;124;03m    '''\u001b[39;00m\n\u001b[1;32m--> 955\u001b[0m     \u001b[38;5;28mself\u001b[39m\u001b[38;5;241m.\u001b[39m_run_prepare()\n\u001b[0;32m    956\u001b[0m     runTouchApp()\n\u001b[0;32m    957\u001b[0m     \u001b[38;5;28mself\u001b[39m\u001b[38;5;241m.\u001b[39m_stop()\n",
      "File \u001b[1;32m~\\anaconda3\\Lib\\site-packages\\kivy\\app.py:924\u001b[0m, in \u001b[0;36mApp._run_prepare\u001b[1;34m(self)\u001b[0m\n\u001b[0;32m    922\u001b[0m \u001b[38;5;28;01mif\u001b[39;00m \u001b[38;5;129;01mnot\u001b[39;00m \u001b[38;5;28mself\u001b[39m\u001b[38;5;241m.\u001b[39mbuilt:\n\u001b[0;32m    923\u001b[0m     \u001b[38;5;28mself\u001b[39m\u001b[38;5;241m.\u001b[39mload_config()\n\u001b[1;32m--> 924\u001b[0m     \u001b[38;5;28mself\u001b[39m\u001b[38;5;241m.\u001b[39mload_kv(filename\u001b[38;5;241m=\u001b[39m\u001b[38;5;28mself\u001b[39m\u001b[38;5;241m.\u001b[39mkv_file)\n\u001b[0;32m    925\u001b[0m     root \u001b[38;5;241m=\u001b[39m \u001b[38;5;28mself\u001b[39m\u001b[38;5;241m.\u001b[39mbuild()\n\u001b[0;32m    926\u001b[0m     \u001b[38;5;28;01mif\u001b[39;00m root:\n",
      "File \u001b[1;32m~\\anaconda3\\Lib\\site-packages\\kivy\\app.py:677\u001b[0m, in \u001b[0;36mApp.load_kv\u001b[1;34m(self, filename)\u001b[0m\n\u001b[0;32m    675\u001b[0m \u001b[38;5;28;01melse\u001b[39;00m:\n\u001b[0;32m    676\u001b[0m     \u001b[38;5;28;01mtry\u001b[39;00m:\n\u001b[1;32m--> 677\u001b[0m         default_kv_directory \u001b[38;5;241m=\u001b[39m dirname(getfile(\u001b[38;5;28mself\u001b[39m\u001b[38;5;241m.\u001b[39m\u001b[38;5;18m__class__\u001b[39m))\n\u001b[0;32m    678\u001b[0m         \u001b[38;5;28;01mif\u001b[39;00m default_kv_directory \u001b[38;5;241m==\u001b[39m \u001b[38;5;124m'\u001b[39m\u001b[38;5;124m'\u001b[39m:\n\u001b[0;32m    679\u001b[0m             default_kv_directory \u001b[38;5;241m=\u001b[39m \u001b[38;5;124m'\u001b[39m\u001b[38;5;124m.\u001b[39m\u001b[38;5;124m'\u001b[39m\n",
      "File \u001b[1;32m~\\anaconda3\\Lib\\inspect.py:908\u001b[0m, in \u001b[0;36mgetfile\u001b[1;34m(object)\u001b[0m\n\u001b[0;32m    906\u001b[0m             \u001b[38;5;28;01mreturn\u001b[39;00m module\u001b[38;5;241m.\u001b[39m\u001b[38;5;18m__file__\u001b[39m\n\u001b[0;32m    907\u001b[0m         \u001b[38;5;28;01mif\u001b[39;00m \u001b[38;5;28mobject\u001b[39m\u001b[38;5;241m.\u001b[39m\u001b[38;5;18m__module__\u001b[39m \u001b[38;5;241m==\u001b[39m \u001b[38;5;124m'\u001b[39m\u001b[38;5;124m__main__\u001b[39m\u001b[38;5;124m'\u001b[39m:\n\u001b[1;32m--> 908\u001b[0m             \u001b[38;5;28;01mraise\u001b[39;00m \u001b[38;5;167;01mOSError\u001b[39;00m(\u001b[38;5;124m'\u001b[39m\u001b[38;5;124msource code not available\u001b[39m\u001b[38;5;124m'\u001b[39m)\n\u001b[0;32m    909\u001b[0m     \u001b[38;5;28;01mraise\u001b[39;00m \u001b[38;5;167;01mTypeError\u001b[39;00m(\u001b[38;5;124m'\u001b[39m\u001b[38;5;132;01m{!r}\u001b[39;00m\u001b[38;5;124m is a built-in class\u001b[39m\u001b[38;5;124m'\u001b[39m\u001b[38;5;241m.\u001b[39mformat(\u001b[38;5;28mobject\u001b[39m))\n\u001b[0;32m    910\u001b[0m \u001b[38;5;28;01mif\u001b[39;00m ismethod(\u001b[38;5;28mobject\u001b[39m):\n",
      "\u001b[1;31mOSError\u001b[0m: source code not available"
     ]
    }
   ],
   "source": [
    "!pip install kivy\n",
    "from kivy.app import App\n",
    "from kivy.uix.label import Label\n",
    "from kivy.uix.textinput import TextInput\n",
    "from kivy.uix.gridlayout import GridLayout\n",
    "\n",
    "\n",
    "class giris(GridLayout) :\n",
    "    class giris(GridLayout):\n",
    "        def _init_(self, **kwargs):\n",
    "            super(giris, self)._init_(**kwargs)\n",
    "            self.cols = 2\n",
    "\n",
    "            self.kullanici_adi = Label(text=\"Kullanıcı Adı: \")\n",
    "            self.add_widget(self.kullanici_adi)\n",
    "            self.kullanici = TextInput(multiline=False)\n",
    "            self.add_widget(self.kullanici)\n",
    "\n",
    "            self.password = Label(text=\"Şifre: \")\n",
    "            self.add_widget(self.password)\n",
    "            self.sifre = TextInput(multiline=False)\n",
    "            self.add_widget(self.sifre)\n",
    "\n",
    "class uygulama(App) :\n",
    "\n",
    "    def build(self):\n",
    "        return giris()\n",
    "\n",
    "\n",
    "if __name__ == \"__main__\":\n",
    "    uygulama().run()"
   ]
  },
  {
   "cell_type": "code",
   "execution_count": 2,
   "id": "37f91073",
   "metadata": {},
   "outputs": [
    {
     "name": "stderr",
     "output_type": "stream",
     "text": [
      "[INFO   ] [Logger      ] Record log in C:\\Users\\Dell\\.kivy\\logs\\kivy_24-03-25_43.txt\n",
      "[INFO   ] [deps        ] Successfully imported \"kivy_deps.angle\" 0.4.0\n",
      "[INFO   ] [deps        ] Successfully imported \"kivy_deps.glew\" 0.3.1\n",
      "[INFO   ] [deps        ] Successfully imported \"kivy_deps.sdl2\" 0.7.0\n",
      "[INFO   ] [Kivy        ] v2.3.0\n",
      "[INFO   ] [Kivy        ] Installed at \"C:\\Users\\Dell\\anaconda3\\Lib\\site-packages\\kivy\\__init__.py\"\n",
      "[INFO   ] [Python      ] v3.11.5 | packaged by Anaconda, Inc. | (main, Sep 11 2023, 13:26:23) [MSC v.1916 64 bit (AMD64)]\n",
      "[INFO   ] [Python      ] Interpreter at \"C:\\Users\\Dell\\anaconda3\\python.exe\"\n",
      "[INFO   ] [Logger      ] Purge log fired. Processing...\n",
      "[INFO   ] [Logger      ] Purge finished!\n",
      "[INFO   ] [Factory     ] 195 symbols loaded\n"
     ]
    },
    {
     "name": "stdout",
     "output_type": "stream",
     "text": [
      "Requirement already satisfied: kivy in c:\\users\\dell\\anaconda3\\lib\\site-packages (2.3.0)\n",
      "Requirement already satisfied: Kivy-Garden>=0.1.4 in c:\\users\\dell\\anaconda3\\lib\\site-packages (from kivy) (0.1.5)\n",
      "Requirement already satisfied: docutils in c:\\users\\dell\\anaconda3\\lib\\site-packages (from kivy) (0.18.1)\n",
      "Requirement already satisfied: pygments in c:\\users\\dell\\anaconda3\\lib\\site-packages (from kivy) (2.15.1)\n",
      "Requirement already satisfied: kivy-deps.angle~=0.4.0 in c:\\users\\dell\\anaconda3\\lib\\site-packages (from kivy) (0.4.0)\n",
      "Requirement already satisfied: kivy-deps.sdl2~=0.7.0 in c:\\users\\dell\\anaconda3\\lib\\site-packages (from kivy) (0.7.0)\n",
      "Requirement already satisfied: kivy-deps.glew~=0.3.1 in c:\\users\\dell\\anaconda3\\lib\\site-packages (from kivy) (0.3.1)\n",
      "Requirement already satisfied: pypiwin32 in c:\\users\\dell\\anaconda3\\lib\\site-packages (from kivy) (223)\n",
      "Requirement already satisfied: requests in c:\\users\\dell\\anaconda3\\lib\\site-packages (from Kivy-Garden>=0.1.4->kivy) (2.31.0)\n",
      "Requirement already satisfied: pywin32>=223 in c:\\users\\dell\\anaconda3\\lib\\site-packages (from pypiwin32->kivy) (305.1)\n",
      "Requirement already satisfied: charset-normalizer<4,>=2 in c:\\users\\dell\\anaconda3\\lib\\site-packages (from requests->Kivy-Garden>=0.1.4->kivy) (2.0.4)\n",
      "Requirement already satisfied: idna<4,>=2.5 in c:\\users\\dell\\anaconda3\\lib\\site-packages (from requests->Kivy-Garden>=0.1.4->kivy) (3.4)\n",
      "Requirement already satisfied: urllib3<3,>=1.21.1 in c:\\users\\dell\\anaconda3\\lib\\site-packages (from requests->Kivy-Garden>=0.1.4->kivy) (1.26.16)\n",
      "Requirement already satisfied: certifi>=2017.4.17 in c:\\users\\dell\\anaconda3\\lib\\site-packages (from requests->Kivy-Garden>=0.1.4->kivy) (2023.7.22)\n"
     ]
    },
    {
     "name": "stderr",
     "output_type": "stream",
     "text": [
      "[INFO   ] [Image       ] Providers: img_tex, img_dds, img_sdl2, img_pil (img_ffpyplayer ignored)\n",
      "[INFO   ] [Text        ] Provider: sdl2\n"
     ]
    },
    {
     "ename": "OSError",
     "evalue": "source code not available",
     "output_type": "error",
     "traceback": [
      "\u001b[1;31m---------------------------------------------------------------------------\u001b[0m",
      "\u001b[1;31mOSError\u001b[0m                                   Traceback (most recent call last)",
      "Cell \u001b[1;32mIn[2], line 13\u001b[0m\n\u001b[0;32m     10\u001b[0m         \u001b[38;5;28;01mreturn\u001b[39;00m Label(text\u001b[38;5;241m=\u001b[39m\u001b[38;5;124m\"\u001b[39m\u001b[38;5;124mHello, World!\u001b[39m\u001b[38;5;124m\"\u001b[39m)\n\u001b[0;32m     12\u001b[0m \u001b[38;5;28;01mif\u001b[39;00m \u001b[38;5;18m__name__\u001b[39m \u001b[38;5;241m==\u001b[39m \u001b[38;5;124m\"\u001b[39m\u001b[38;5;124m__main__\u001b[39m\u001b[38;5;124m\"\u001b[39m:\n\u001b[1;32m---> 13\u001b[0m     HelloWorldApp()\u001b[38;5;241m.\u001b[39mrun()\n",
      "File \u001b[1;32m~\\anaconda3\\Lib\\site-packages\\kivy\\app.py:955\u001b[0m, in \u001b[0;36mApp.run\u001b[1;34m(self)\u001b[0m\n\u001b[0;32m    952\u001b[0m \u001b[38;5;28;01mdef\u001b[39;00m \u001b[38;5;21mrun\u001b[39m(\u001b[38;5;28mself\u001b[39m):\n\u001b[0;32m    953\u001b[0m \u001b[38;5;250m    \u001b[39m\u001b[38;5;124;03m'''Launches the app in standalone mode.\u001b[39;00m\n\u001b[0;32m    954\u001b[0m \u001b[38;5;124;03m    '''\u001b[39;00m\n\u001b[1;32m--> 955\u001b[0m     \u001b[38;5;28mself\u001b[39m\u001b[38;5;241m.\u001b[39m_run_prepare()\n\u001b[0;32m    956\u001b[0m     runTouchApp()\n\u001b[0;32m    957\u001b[0m     \u001b[38;5;28mself\u001b[39m\u001b[38;5;241m.\u001b[39m_stop()\n",
      "File \u001b[1;32m~\\anaconda3\\Lib\\site-packages\\kivy\\app.py:924\u001b[0m, in \u001b[0;36mApp._run_prepare\u001b[1;34m(self)\u001b[0m\n\u001b[0;32m    922\u001b[0m \u001b[38;5;28;01mif\u001b[39;00m \u001b[38;5;129;01mnot\u001b[39;00m \u001b[38;5;28mself\u001b[39m\u001b[38;5;241m.\u001b[39mbuilt:\n\u001b[0;32m    923\u001b[0m     \u001b[38;5;28mself\u001b[39m\u001b[38;5;241m.\u001b[39mload_config()\n\u001b[1;32m--> 924\u001b[0m     \u001b[38;5;28mself\u001b[39m\u001b[38;5;241m.\u001b[39mload_kv(filename\u001b[38;5;241m=\u001b[39m\u001b[38;5;28mself\u001b[39m\u001b[38;5;241m.\u001b[39mkv_file)\n\u001b[0;32m    925\u001b[0m     root \u001b[38;5;241m=\u001b[39m \u001b[38;5;28mself\u001b[39m\u001b[38;5;241m.\u001b[39mbuild()\n\u001b[0;32m    926\u001b[0m     \u001b[38;5;28;01mif\u001b[39;00m root:\n",
      "File \u001b[1;32m~\\anaconda3\\Lib\\site-packages\\kivy\\app.py:677\u001b[0m, in \u001b[0;36mApp.load_kv\u001b[1;34m(self, filename)\u001b[0m\n\u001b[0;32m    675\u001b[0m \u001b[38;5;28;01melse\u001b[39;00m:\n\u001b[0;32m    676\u001b[0m     \u001b[38;5;28;01mtry\u001b[39;00m:\n\u001b[1;32m--> 677\u001b[0m         default_kv_directory \u001b[38;5;241m=\u001b[39m dirname(getfile(\u001b[38;5;28mself\u001b[39m\u001b[38;5;241m.\u001b[39m\u001b[38;5;18m__class__\u001b[39m))\n\u001b[0;32m    678\u001b[0m         \u001b[38;5;28;01mif\u001b[39;00m default_kv_directory \u001b[38;5;241m==\u001b[39m \u001b[38;5;124m'\u001b[39m\u001b[38;5;124m'\u001b[39m:\n\u001b[0;32m    679\u001b[0m             default_kv_directory \u001b[38;5;241m=\u001b[39m \u001b[38;5;124m'\u001b[39m\u001b[38;5;124m.\u001b[39m\u001b[38;5;124m'\u001b[39m\n",
      "File \u001b[1;32m~\\anaconda3\\Lib\\inspect.py:908\u001b[0m, in \u001b[0;36mgetfile\u001b[1;34m(object)\u001b[0m\n\u001b[0;32m    906\u001b[0m             \u001b[38;5;28;01mreturn\u001b[39;00m module\u001b[38;5;241m.\u001b[39m\u001b[38;5;18m__file__\u001b[39m\n\u001b[0;32m    907\u001b[0m         \u001b[38;5;28;01mif\u001b[39;00m \u001b[38;5;28mobject\u001b[39m\u001b[38;5;241m.\u001b[39m\u001b[38;5;18m__module__\u001b[39m \u001b[38;5;241m==\u001b[39m \u001b[38;5;124m'\u001b[39m\u001b[38;5;124m__main__\u001b[39m\u001b[38;5;124m'\u001b[39m:\n\u001b[1;32m--> 908\u001b[0m             \u001b[38;5;28;01mraise\u001b[39;00m \u001b[38;5;167;01mOSError\u001b[39;00m(\u001b[38;5;124m'\u001b[39m\u001b[38;5;124msource code not available\u001b[39m\u001b[38;5;124m'\u001b[39m)\n\u001b[0;32m    909\u001b[0m     \u001b[38;5;28;01mraise\u001b[39;00m \u001b[38;5;167;01mTypeError\u001b[39;00m(\u001b[38;5;124m'\u001b[39m\u001b[38;5;132;01m{!r}\u001b[39;00m\u001b[38;5;124m is a built-in class\u001b[39m\u001b[38;5;124m'\u001b[39m\u001b[38;5;241m.\u001b[39mformat(\u001b[38;5;28mobject\u001b[39m))\n\u001b[0;32m    910\u001b[0m \u001b[38;5;28;01mif\u001b[39;00m ismethod(\u001b[38;5;28mobject\u001b[39m):\n",
      "\u001b[1;31mOSError\u001b[0m: source code not available"
     ]
    },
    {
     "name": "stderr",
     "output_type": "stream",
     "text": [
      "[INFO   ] [Window      ] Provider: sdl2\n",
      "[INFO   ] [GL          ] Using the \"OpenGL\" graphics system\n",
      "[INFO   ] [GL          ] GLEW initialization succeeded\n",
      "[INFO   ] [GL          ] Backend used <glew>\n",
      "[INFO   ] [GL          ] OpenGL version <b'4.6.0 - Build 31.0.101.4502'>\n",
      "[INFO   ] [GL          ] OpenGL vendor <b'Intel'>\n",
      "[INFO   ] [GL          ] OpenGL renderer <b'Intel(R) Iris(R) Xe Graphics'>\n",
      "[INFO   ] [GL          ] OpenGL parsed version: 4, 6\n",
      "[INFO   ] [GL          ] Shading version <b'4.60 - Build 31.0.101.4502'>\n",
      "[INFO   ] [GL          ] Texture max size <16384>\n",
      "[INFO   ] [GL          ] Texture max units <32>\n",
      "[INFO   ] [Window      ] auto add sdl2 input provider\n",
      "[INFO   ] [Window      ] virtual keyboard not allowed, single mode, not docked\n"
     ]
    }
   ],
   "source": [
    "! pip install kivy\n",
    "# Kivy kütüphanesini içeriye aktarın\n",
    "import kivy\n",
    "# Kivy uygulaması oluşturmak için gerekli olan App sınıfını içeriye aktarın\n",
    "from kivy.app import App\n",
    "from kivy.uix.label import Label\n",
    "\n",
    "class HelloWorldApp(App):\n",
    "    def build(self):\n",
    "        return Label(text=\"Hello, World!\")\n",
    "\n",
    "if __name__ == \"__main__\":\n",
    "    HelloWorldApp().run()\n"
   ]
  },
  {
   "cell_type": "code",
   "execution_count": 1,
   "id": "52338173",
   "metadata": {},
   "outputs": [],
   "source": [
    "# METİN MAEDNCİLİĞİ VE DOĞAL DİL İŞLEME"
   ]
  },
  {
   "cell_type": "code",
   "execution_count": 2,
   "id": "7ccdb727",
   "metadata": {},
   "outputs": [],
   "source": [
    "# METİN ÖN İŞLEME\n"
   ]
  },
  {
   "cell_type": "code",
   "execution_count": 89,
   "id": "f14757af",
   "metadata": {},
   "outputs": [
    {
     "data": {
      "text/plain": [
       "\"\\nA Scandal in Bohemia! 01\\nThe Red-headed League,2\\nA Case, of Identity 33\\nThe Boscombe Valley Mystery4\\nThe Five Orange Pips1\\nThe Man with? the Twisted Lip\\nThe Adventure of the Blue Carbuncle\\nThe Adventure of the Speckled Band\\nThe Adventure of the Engineer's Thumb\\nThe Adventure of the Noble Bachelor\\nThe Adventure of the Beryl Coronet\\nThe Adventure of the Copper Beeches\""
      ]
     },
     "execution_count": 89,
     "metadata": {},
     "output_type": "execute_result"
    }
   ],
   "source": [
    "metin = \"\"\"\n",
    "A Scandal in Bohemia! 01\n",
    "The Red-headed League,2\n",
    "A Case, of Identity 33\n",
    "The Boscombe Valley Mystery4\n",
    "The Five Orange Pips1\n",
    "The Man with? the Twisted Lip\n",
    "The Adventure of the Blue Carbuncle\n",
    "The Adventure of the Speckled Band\n",
    "The Adventure of the Engineer's Thumb\n",
    "The Adventure of the Noble Bachelor\n",
    "The Adventure of the Beryl Coronet\n",
    "The Adventure of the Copper Beeches\"\"\"\n",
    "\n",
    "metin"
   ]
  },
  {
   "cell_type": "code",
   "execution_count": 90,
   "id": "414f3321",
   "metadata": {},
   "outputs": [
    {
     "data": {
      "text/plain": [
       "['A',\n",
       " 'Scandal',\n",
       " 'in',\n",
       " 'Bohemia!',\n",
       " '01',\n",
       " 'The',\n",
       " 'Red-headed',\n",
       " 'League,2',\n",
       " 'A',\n",
       " 'Case,',\n",
       " 'of',\n",
       " 'Identity',\n",
       " '33',\n",
       " 'The',\n",
       " 'Boscombe',\n",
       " 'Valley',\n",
       " 'Mystery4',\n",
       " 'The',\n",
       " 'Five',\n",
       " 'Orange',\n",
       " 'Pips1',\n",
       " 'The',\n",
       " 'Man',\n",
       " 'with?',\n",
       " 'the',\n",
       " 'Twisted',\n",
       " 'Lip',\n",
       " 'The',\n",
       " 'Adventure',\n",
       " 'of',\n",
       " 'the',\n",
       " 'Blue',\n",
       " 'Carbuncle',\n",
       " 'The',\n",
       " 'Adventure',\n",
       " 'of',\n",
       " 'the',\n",
       " 'Speckled',\n",
       " 'Band',\n",
       " 'The',\n",
       " 'Adventure',\n",
       " 'of',\n",
       " 'the',\n",
       " \"Engineer's\",\n",
       " 'Thumb',\n",
       " 'The',\n",
       " 'Adventure',\n",
       " 'of',\n",
       " 'the',\n",
       " 'Noble',\n",
       " 'Bachelor',\n",
       " 'The',\n",
       " 'Adventure',\n",
       " 'of',\n",
       " 'the',\n",
       " 'Beryl',\n",
       " 'Coronet',\n",
       " 'The',\n",
       " 'Adventure',\n",
       " 'of',\n",
       " 'the',\n",
       " 'Copper',\n",
       " 'Beeches']"
      ]
     },
     "execution_count": 90,
     "metadata": {},
     "output_type": "execute_result"
    }
   ],
   "source": [
    "metin.split()"
   ]
  },
  {
   "cell_type": "code",
   "execution_count": 91,
   "id": "0da2a000",
   "metadata": {},
   "outputs": [],
   "source": [
    "v_metin=metin.split(\"\\n\") # STRİNGİ DF/ARRAY /SERİYE ÇEVİRME"
   ]
  },
  {
   "cell_type": "code",
   "execution_count": 92,
   "id": "e21ae61d",
   "metadata": {},
   "outputs": [],
   "source": [
    "import pandas as pd\n",
    "import numpy as np\n",
    "v=pd.Series(v_metin)"
   ]
  },
  {
   "cell_type": "code",
   "execution_count": 93,
   "id": "e0d91c30",
   "metadata": {},
   "outputs": [
    {
     "data": {
      "text/plain": [
       "0                                          \n",
       "1                  A Scandal in Bohemia! 01\n",
       "2                   The Red-headed League,2\n",
       "3                    A Case, of Identity 33\n",
       "4              The Boscombe Valley Mystery4\n",
       "5                     The Five Orange Pips1\n",
       "6             The Man with? the Twisted Lip\n",
       "7       The Adventure of the Blue Carbuncle\n",
       "8        The Adventure of the Speckled Band\n",
       "9     The Adventure of the Engineer's Thumb\n",
       "10      The Adventure of the Noble Bachelor\n",
       "11       The Adventure of the Beryl Coronet\n",
       "12      The Adventure of the Copper Beeches\n",
       "dtype: object"
      ]
     },
     "execution_count": 93,
     "metadata": {},
     "output_type": "execute_result"
    }
   ],
   "source": [
    "v"
   ]
  },
  {
   "cell_type": "code",
   "execution_count": 94,
   "id": "04665f3a",
   "metadata": {},
   "outputs": [],
   "source": [
    "metin_vektoru=v[1:len(v)]"
   ]
  },
  {
   "cell_type": "code",
   "execution_count": 97,
   "id": "198588e9",
   "metadata": {},
   "outputs": [
    {
     "data": {
      "text/plain": [
       "1                  A Scandal in Bohemia! 01\n",
       "2                   The Red-headed League,2\n",
       "3                    A Case, of Identity 33\n",
       "4              The Boscombe Valley Mystery4\n",
       "5                     The Five Orange Pips1\n",
       "6             The Man with? the Twisted Lip\n",
       "7       The Adventure of the Blue Carbuncle\n",
       "8        The Adventure of the Speckled Band\n",
       "9     The Adventure of the Engineer's Thumb\n",
       "10      The Adventure of the Noble Bachelor\n",
       "11       The Adventure of the Beryl Coronet\n",
       "12      The Adventure of the Copper Beeches\n",
       "dtype: object"
      ]
     },
     "execution_count": 97,
     "metadata": {},
     "output_type": "execute_result"
    }
   ],
   "source": [
    "metin_vektoru"
   ]
  },
  {
   "cell_type": "code",
   "execution_count": 87,
   "id": "2d30a65a",
   "metadata": {},
   "outputs": [],
   "source": [
    "mdf=pd.DataFrame(metin_vektoru,columns=[\"HİKAYELER\"])"
   ]
  },
  {
   "cell_type": "code",
   "execution_count": 96,
   "id": "d0f053ff",
   "metadata": {},
   "outputs": [
    {
     "data": {
      "text/html": [
       "<div>\n",
       "<style scoped>\n",
       "    .dataframe tbody tr th:only-of-type {\n",
       "        vertical-align: middle;\n",
       "    }\n",
       "\n",
       "    .dataframe tbody tr th {\n",
       "        vertical-align: top;\n",
       "    }\n",
       "\n",
       "    .dataframe thead th {\n",
       "        text-align: right;\n",
       "    }\n",
       "</style>\n",
       "<table border=\"1\" class=\"dataframe\">\n",
       "  <thead>\n",
       "    <tr style=\"text-align: right;\">\n",
       "      <th></th>\n",
       "      <th>HİKAYELER</th>\n",
       "    </tr>\n",
       "  </thead>\n",
       "  <tbody>\n",
       "    <tr>\n",
       "      <th>1</th>\n",
       "      <td>A Scandal in Bohemia! 01</td>\n",
       "    </tr>\n",
       "    <tr>\n",
       "      <th>2</th>\n",
       "      <td>The Red-headed League,2</td>\n",
       "    </tr>\n",
       "    <tr>\n",
       "      <th>3</th>\n",
       "      <td>A Case, of Identity 33</td>\n",
       "    </tr>\n",
       "    <tr>\n",
       "      <th>4</th>\n",
       "      <td>The Boscombe Valley Mystery4</td>\n",
       "    </tr>\n",
       "    <tr>\n",
       "      <th>5</th>\n",
       "      <td>The Five Orange Pips1</td>\n",
       "    </tr>\n",
       "    <tr>\n",
       "      <th>6</th>\n",
       "      <td>The Man with? the Twisted Lip</td>\n",
       "    </tr>\n",
       "    <tr>\n",
       "      <th>7</th>\n",
       "      <td>The Adventure of the Blue Carbuncle</td>\n",
       "    </tr>\n",
       "    <tr>\n",
       "      <th>8</th>\n",
       "      <td>The Adventure of the Speckled Band</td>\n",
       "    </tr>\n",
       "    <tr>\n",
       "      <th>9</th>\n",
       "      <td>The Adventure of the Engineer's Thumb</td>\n",
       "    </tr>\n",
       "    <tr>\n",
       "      <th>10</th>\n",
       "      <td>The Adventure of the Noble Bachelor</td>\n",
       "    </tr>\n",
       "    <tr>\n",
       "      <th>11</th>\n",
       "      <td>The Adventure of the Beryl Coronet</td>\n",
       "    </tr>\n",
       "    <tr>\n",
       "      <th>12</th>\n",
       "      <td>The Adventure of the Copper Beeches</td>\n",
       "    </tr>\n",
       "  </tbody>\n",
       "</table>\n",
       "</div>"
      ],
      "text/plain": [
       "                                HİKAYELER\n",
       "1                A Scandal in Bohemia! 01\n",
       "2                 The Red-headed League,2\n",
       "3                  A Case, of Identity 33\n",
       "4            The Boscombe Valley Mystery4\n",
       "5                   The Five Orange Pips1\n",
       "6           The Man with? the Twisted Lip\n",
       "7     The Adventure of the Blue Carbuncle\n",
       "8      The Adventure of the Speckled Band\n",
       "9   The Adventure of the Engineer's Thumb\n",
       "10    The Adventure of the Noble Bachelor\n",
       "11     The Adventure of the Beryl Coronet\n",
       "12    The Adventure of the Copper Beeches"
      ]
     },
     "execution_count": 96,
     "metadata": {},
     "output_type": "execute_result"
    }
   ],
   "source": [
    "mdf"
   ]
  },
  {
   "cell_type": "code",
   "execution_count": 69,
   "id": "7b964ce8",
   "metadata": {},
   "outputs": [],
   "source": [
    "# büyük küçük harf "
   ]
  },
  {
   "cell_type": "code",
   "execution_count": 70,
   "id": "99a515b2",
   "metadata": {},
   "outputs": [],
   "source": [
    "d_mdf=mdf.copy()"
   ]
  },
  {
   "cell_type": "code",
   "execution_count": 71,
   "id": "1799eae6",
   "metadata": {},
   "outputs": [
    {
     "data": {
      "text/html": [
       "<div>\n",
       "<style scoped>\n",
       "    .dataframe tbody tr th:only-of-type {\n",
       "        vertical-align: middle;\n",
       "    }\n",
       "\n",
       "    .dataframe tbody tr th {\n",
       "        vertical-align: top;\n",
       "    }\n",
       "\n",
       "    .dataframe thead th {\n",
       "        text-align: right;\n",
       "    }\n",
       "</style>\n",
       "<table border=\"1\" class=\"dataframe\">\n",
       "  <thead>\n",
       "    <tr style=\"text-align: right;\">\n",
       "      <th></th>\n",
       "      <th>HİKAYELER</th>\n",
       "    </tr>\n",
       "  </thead>\n",
       "  <tbody>\n",
       "    <tr>\n",
       "      <th>1</th>\n",
       "      <td>A Scandal in Bohemia! 01</td>\n",
       "    </tr>\n",
       "    <tr>\n",
       "      <th>2</th>\n",
       "      <td>The Red-headed League,2</td>\n",
       "    </tr>\n",
       "    <tr>\n",
       "      <th>3</th>\n",
       "      <td>A Case, of Identity 33</td>\n",
       "    </tr>\n",
       "    <tr>\n",
       "      <th>4</th>\n",
       "      <td>The Boscombe Valley Mystery4</td>\n",
       "    </tr>\n",
       "    <tr>\n",
       "      <th>5</th>\n",
       "      <td>The Five Orange Pips1</td>\n",
       "    </tr>\n",
       "    <tr>\n",
       "      <th>6</th>\n",
       "      <td>The Man with? the Twisted Lip</td>\n",
       "    </tr>\n",
       "    <tr>\n",
       "      <th>7</th>\n",
       "      <td>The Adventure of the Blue Carbuncle</td>\n",
       "    </tr>\n",
       "    <tr>\n",
       "      <th>8</th>\n",
       "      <td>The Adventure of the Speckled Band</td>\n",
       "    </tr>\n",
       "    <tr>\n",
       "      <th>9</th>\n",
       "      <td>The Adventure of the Engineer's Thumb</td>\n",
       "    </tr>\n",
       "    <tr>\n",
       "      <th>10</th>\n",
       "      <td>The Adventure of the Noble Bachelor</td>\n",
       "    </tr>\n",
       "    <tr>\n",
       "      <th>11</th>\n",
       "      <td>The Adventure of the Beryl Coronet</td>\n",
       "    </tr>\n",
       "    <tr>\n",
       "      <th>12</th>\n",
       "      <td>The Adventure of the Copper Beeches</td>\n",
       "    </tr>\n",
       "  </tbody>\n",
       "</table>\n",
       "</div>"
      ],
      "text/plain": [
       "                                HİKAYELER\n",
       "1                A Scandal in Bohemia! 01\n",
       "2                 The Red-headed League,2\n",
       "3                  A Case, of Identity 33\n",
       "4            The Boscombe Valley Mystery4\n",
       "5                   The Five Orange Pips1\n",
       "6           The Man with? the Twisted Lip\n",
       "7     The Adventure of the Blue Carbuncle\n",
       "8      The Adventure of the Speckled Band\n",
       "9   The Adventure of the Engineer's Thumb\n",
       "10    The Adventure of the Noble Bachelor\n",
       "11     The Adventure of the Beryl Coronet\n",
       "12    The Adventure of the Copper Beeches"
      ]
     },
     "execution_count": 71,
     "metadata": {},
     "output_type": "execute_result"
    }
   ],
   "source": [
    "d_mdf"
   ]
  },
  {
   "cell_type": "code",
   "execution_count": 369,
   "id": "1bb85c5f",
   "metadata": {},
   "outputs": [],
   "source": [
    "list1=[1,2,3]"
   ]
  },
  {
   "cell_type": "code",
   "execution_count": 370,
   "id": "3888ca70",
   "metadata": {},
   "outputs": [],
   "source": [
    "str1=\" \".join(str(i)for i in list1)"
   ]
  },
  {
   "cell_type": "raw",
   "id": "8955ec45",
   "metadata": {},
   "source": []
  },
  {
   "cell_type": "code",
   "execution_count": 371,
   "id": "bdec1bca",
   "metadata": {},
   "outputs": [
    {
     "data": {
      "text/plain": [
       "'1 2 3'"
      ]
     },
     "execution_count": 371,
     "metadata": {},
     "output_type": "execute_result"
    }
   ],
   "source": [
    "str1 # boşluklarla birleştirdik"
   ]
  },
  {
   "cell_type": "markdown",
   "id": "8139630c",
   "metadata": {},
   "source": [
    "\n"
   ]
  },
  {
   "cell_type": "code",
   "execution_count": 372,
   "id": "acd94b88",
   "metadata": {},
   "outputs": [
    {
     "data": {
      "text/plain": [
       "1                  a scandal in bohemia! 01\n",
       "2                   the red-headed league,2\n",
       "3                    a case, of identity 33\n",
       "4              the boscombe valley mystery4\n",
       "5                     the five orange pips1\n",
       "6             the man with? the twisted lip\n",
       "7       the adventure of the blue carbuncle\n",
       "8        the adventure of the speckled band\n",
       "9     the adventure of the engineer's thumb\n",
       "10      the adventure of the noble bachelor\n",
       "11       the adventure of the beryl coronet\n",
       "12      the adventure of the copper beeches\n",
       "Name: HİKAYELER, dtype: object"
      ]
     },
     "execution_count": 372,
     "metadata": {},
     "output_type": "execute_result"
    }
   ],
   "source": [
    "d_mdf[\"HİKAYELER\"].apply(lambda x: \" \".join(x.lower() for x in x.split()))"
   ]
  },
  {
   "cell_type": "code",
   "execution_count": 374,
   "id": "8d1fbcba",
   "metadata": {},
   "outputs": [],
   "source": [
    "d_mdf=d_mdf[\"HİKAYELER\"].apply(lambda x: \" \".join(x.upper() for x in x.split()))"
   ]
  },
  {
   "cell_type": "code",
   "execution_count": 375,
   "id": "1d1bca79",
   "metadata": {},
   "outputs": [
    {
     "data": {
      "text/plain": [
       "1                  A SCANDAL IN BOHEMIA! 01\n",
       "2                   THE RED-HEADED LEAGUE,2\n",
       "3                    A CASE, OF IDENTITY 33\n",
       "4              THE BOSCOMBE VALLEY MYSTERY4\n",
       "5                     THE FIVE ORANGE PIPS1\n",
       "6             THE MAN WITH? THE TWISTED LIP\n",
       "7       THE ADVENTURE OF THE BLUE CARBUNCLE\n",
       "8        THE ADVENTURE OF THE SPECKLED BAND\n",
       "9     THE ADVENTURE OF THE ENGINEER'S THUMB\n",
       "10      THE ADVENTURE OF THE NOBLE BACHELOR\n",
       "11       THE ADVENTURE OF THE BERYL CORONET\n",
       "12      THE ADVENTURE OF THE COPPER BEECHES\n",
       "Name: HİKAYELER, dtype: object"
      ]
     },
     "execution_count": 375,
     "metadata": {},
     "output_type": "execute_result"
    }
   ],
   "source": [
    "d_mdf"
   ]
  },
  {
   "cell_type": "code",
   "execution_count": 321,
   "id": "be412659",
   "metadata": {},
   "outputs": [],
   "source": [
    "# noktalama işaretlerinin silinmesi"
   ]
  },
  {
   "cell_type": "code",
   "execution_count": 376,
   "id": "8dbab3b1",
   "metadata": {},
   "outputs": [
    {
     "data": {
      "text/plain": [
       "pandas.core.series.Series"
      ]
     },
     "execution_count": 376,
     "metadata": {},
     "output_type": "execute_result"
    }
   ],
   "source": [
    "type(d_mdf)"
   ]
  },
  {
   "cell_type": "code",
   "execution_count": 378,
   "id": "e36e79c7",
   "metadata": {},
   "outputs": [
    {
     "data": {
      "text/plain": [
       "1                  A SCANDAL IN BOHEMIA! 01\n",
       "2                   THE RED-HEADED LEAGUE,2\n",
       "3                    A CASE, OF IDENTITY 33\n",
       "4              THE BOSCOMBE VALLEY MYSTERY4\n",
       "5                     THE FIVE ORANGE PIPS1\n",
       "6             THE MAN WITH? THE TWISTED LIP\n",
       "7       THE ADVENTURE OF THE BLUE CARBUNCLE\n",
       "8        THE ADVENTURE OF THE SPECKLED BAND\n",
       "9     THE ADVENTURE OF THE ENGINEER'S THUMB\n",
       "10      THE ADVENTURE OF THE NOBLE BACHELOR\n",
       "11       THE ADVENTURE OF THE BERYL CORONET\n",
       "12      THE ADVENTURE OF THE COPPER BEECHES\n",
       "Name: HİKAYELER, dtype: object"
      ]
     },
     "execution_count": 378,
     "metadata": {},
     "output_type": "execute_result"
    }
   ],
   "source": [
    "d_mdf=d_mdf.str.replace(\"[^\\w\\s]\",\"\")\n",
    "d_mdf"
   ]
  },
  {
   "cell_type": "code",
   "execution_count": 379,
   "id": "d3fb2615",
   "metadata": {},
   "outputs": [],
   "source": [
    "# sayıların silinmesi"
   ]
  },
  {
   "cell_type": "markdown",
   "id": "6641fb32",
   "metadata": {},
   "source": []
  },
  {
   "cell_type": "code",
   "execution_count": 380,
   "id": "effe0baf",
   "metadata": {},
   "outputs": [
    {
     "data": {
      "text/plain": [
       "1                  A SCANDAL IN BOHEMIA! 01\n",
       "2                   THE RED-HEADED LEAGUE,2\n",
       "3                    A CASE, OF IDENTITY 33\n",
       "4              THE BOSCOMBE VALLEY MYSTERY4\n",
       "5                     THE FIVE ORANGE PIPS1\n",
       "6             THE MAN WITH? THE TWISTED LIP\n",
       "7       THE ADVENTURE OF THE BLUE CARBUNCLE\n",
       "8        THE ADVENTURE OF THE SPECKLED BAND\n",
       "9     THE ADVENTURE OF THE ENGINEER'S THUMB\n",
       "10      THE ADVENTURE OF THE NOBLE BACHELOR\n",
       "11       THE ADVENTURE OF THE BERYL CORONET\n",
       "12      THE ADVENTURE OF THE COPPER BEECHES\n",
       "Name: HİKAYELER, dtype: object"
      ]
     },
     "execution_count": 380,
     "metadata": {},
     "output_type": "execute_result"
    }
   ],
   "source": [
    "d_mdf = d_mdf.str.replace(\"\\d\",\"\")\n",
    "d_mdf"
   ]
  },
  {
   "cell_type": "code",
   "execution_count": 328,
   "id": "dfe70ead",
   "metadata": {},
   "outputs": [],
   "source": [
    "# STOPWORDS DİLLERDE EN COK KULLNILAN KELŞMLER GİBİ BİR ŞEY"
   ]
  },
  {
   "cell_type": "code",
   "execution_count": 386,
   "id": "75536320",
   "metadata": {},
   "outputs": [],
   "source": [
    "d_mdf = pd.DataFrame(d_mdf, columns = [\"HİKAYELER\"])"
   ]
  },
  {
   "cell_type": "code",
   "execution_count": 330,
   "id": "9ef90e39",
   "metadata": {},
   "outputs": [
    {
     "name": "stdout",
     "output_type": "stream",
     "text": [
      "Requirement already satisfied: nltk in c:\\users\\dell\\anaconda3\\lib\\site-packages (3.8.1)\n",
      "Requirement already satisfied: click in c:\\users\\dell\\anaconda3\\lib\\site-packages (from nltk) (8.0.4)\n",
      "Requirement already satisfied: joblib in c:\\users\\dell\\anaconda3\\lib\\site-packages (from nltk) (1.2.0)\n",
      "Requirement already satisfied: regex>=2021.8.3 in c:\\users\\dell\\anaconda3\\lib\\site-packages (from nltk) (2022.7.9)\n",
      "Requirement already satisfied: tqdm in c:\\users\\dell\\anaconda3\\lib\\site-packages (from nltk) (4.65.0)\n",
      "Requirement already satisfied: colorama in c:\\users\\dell\\anaconda3\\lib\\site-packages (from click->nltk) (0.4.6)\n"
     ]
    }
   ],
   "source": [
    "!pip install nltk"
   ]
  },
  {
   "cell_type": "code",
   "execution_count": 331,
   "id": "d44923d9",
   "metadata": {},
   "outputs": [],
   "source": [
    "import nltk"
   ]
  },
  {
   "cell_type": "code",
   "execution_count": 332,
   "id": "0cdd3777",
   "metadata": {},
   "outputs": [
    {
     "name": "stderr",
     "output_type": "stream",
     "text": [
      "[nltk_data] Downloading package stopwords to\n",
      "[nltk_data]     C:\\Users\\Dell\\AppData\\Roaming\\nltk_data...\n",
      "[nltk_data]   Unzipping corpora\\stopwords.zip.\n"
     ]
    },
    {
     "data": {
      "text/plain": [
       "True"
      ]
     },
     "execution_count": 332,
     "metadata": {},
     "output_type": "execute_result"
    }
   ],
   "source": [
    "nltk.download(\"stopwords\")"
   ]
  },
  {
   "cell_type": "code",
   "execution_count": 333,
   "id": "1aa0ce7a",
   "metadata": {},
   "outputs": [],
   "source": [
    "from nltk.corpus import stopwords"
   ]
  },
  {
   "cell_type": "code",
   "execution_count": 334,
   "id": "be6561bd",
   "metadata": {},
   "outputs": [],
   "source": [
    "sw = stopwords.words(\"english\")"
   ]
  },
  {
   "cell_type": "code",
   "execution_count": 335,
   "id": "89d2060f",
   "metadata": {},
   "outputs": [
    {
     "data": {
      "text/plain": [
       "['i',\n",
       " 'me',\n",
       " 'my',\n",
       " 'myself',\n",
       " 'we',\n",
       " 'our',\n",
       " 'ours',\n",
       " 'ourselves',\n",
       " 'you',\n",
       " \"you're\",\n",
       " \"you've\",\n",
       " \"you'll\",\n",
       " \"you'd\",\n",
       " 'your',\n",
       " 'yours',\n",
       " 'yourself',\n",
       " 'yourselves',\n",
       " 'he',\n",
       " 'him',\n",
       " 'his',\n",
       " 'himself',\n",
       " 'she',\n",
       " \"she's\",\n",
       " 'her',\n",
       " 'hers',\n",
       " 'herself',\n",
       " 'it',\n",
       " \"it's\",\n",
       " 'its',\n",
       " 'itself',\n",
       " 'they',\n",
       " 'them',\n",
       " 'their',\n",
       " 'theirs',\n",
       " 'themselves',\n",
       " 'what',\n",
       " 'which',\n",
       " 'who',\n",
       " 'whom',\n",
       " 'this',\n",
       " 'that',\n",
       " \"that'll\",\n",
       " 'these',\n",
       " 'those',\n",
       " 'am',\n",
       " 'is',\n",
       " 'are',\n",
       " 'was',\n",
       " 'were',\n",
       " 'be',\n",
       " 'been',\n",
       " 'being',\n",
       " 'have',\n",
       " 'has',\n",
       " 'had',\n",
       " 'having',\n",
       " 'do',\n",
       " 'does',\n",
       " 'did',\n",
       " 'doing',\n",
       " 'a',\n",
       " 'an',\n",
       " 'the',\n",
       " 'and',\n",
       " 'but',\n",
       " 'if',\n",
       " 'or',\n",
       " 'because',\n",
       " 'as',\n",
       " 'until',\n",
       " 'while',\n",
       " 'of',\n",
       " 'at',\n",
       " 'by',\n",
       " 'for',\n",
       " 'with',\n",
       " 'about',\n",
       " 'against',\n",
       " 'between',\n",
       " 'into',\n",
       " 'through',\n",
       " 'during',\n",
       " 'before',\n",
       " 'after',\n",
       " 'above',\n",
       " 'below',\n",
       " 'to',\n",
       " 'from',\n",
       " 'up',\n",
       " 'down',\n",
       " 'in',\n",
       " 'out',\n",
       " 'on',\n",
       " 'off',\n",
       " 'over',\n",
       " 'under',\n",
       " 'again',\n",
       " 'further',\n",
       " 'then',\n",
       " 'once',\n",
       " 'here',\n",
       " 'there',\n",
       " 'when',\n",
       " 'where',\n",
       " 'why',\n",
       " 'how',\n",
       " 'all',\n",
       " 'any',\n",
       " 'both',\n",
       " 'each',\n",
       " 'few',\n",
       " 'more',\n",
       " 'most',\n",
       " 'other',\n",
       " 'some',\n",
       " 'such',\n",
       " 'no',\n",
       " 'nor',\n",
       " 'not',\n",
       " 'only',\n",
       " 'own',\n",
       " 'same',\n",
       " 'so',\n",
       " 'than',\n",
       " 'too',\n",
       " 'very',\n",
       " 's',\n",
       " 't',\n",
       " 'can',\n",
       " 'will',\n",
       " 'just',\n",
       " 'don',\n",
       " \"don't\",\n",
       " 'should',\n",
       " \"should've\",\n",
       " 'now',\n",
       " 'd',\n",
       " 'll',\n",
       " 'm',\n",
       " 'o',\n",
       " 're',\n",
       " 've',\n",
       " 'y',\n",
       " 'ain',\n",
       " 'aren',\n",
       " \"aren't\",\n",
       " 'couldn',\n",
       " \"couldn't\",\n",
       " 'didn',\n",
       " \"didn't\",\n",
       " 'doesn',\n",
       " \"doesn't\",\n",
       " 'hadn',\n",
       " \"hadn't\",\n",
       " 'hasn',\n",
       " \"hasn't\",\n",
       " 'haven',\n",
       " \"haven't\",\n",
       " 'isn',\n",
       " \"isn't\",\n",
       " 'ma',\n",
       " 'mightn',\n",
       " \"mightn't\",\n",
       " 'mustn',\n",
       " \"mustn't\",\n",
       " 'needn',\n",
       " \"needn't\",\n",
       " 'shan',\n",
       " \"shan't\",\n",
       " 'shouldn',\n",
       " \"shouldn't\",\n",
       " 'wasn',\n",
       " \"wasn't\",\n",
       " 'weren',\n",
       " \"weren't\",\n",
       " 'won',\n",
       " \"won't\",\n",
       " 'wouldn',\n",
       " \"wouldn't\"]"
      ]
     },
     "execution_count": 335,
     "metadata": {},
     "output_type": "execute_result"
    }
   ],
   "source": [
    "sw"
   ]
  },
  {
   "cell_type": "code",
   "execution_count": 387,
   "id": "2a94a6db",
   "metadata": {},
   "outputs": [
    {
     "data": {
      "text/plain": [
       "1                  A SCANDAL IN BOHEMIA! 01\n",
       "2                   THE RED-HEADED LEAGUE,2\n",
       "3                    A CASE, OF IDENTITY 33\n",
       "4              THE BOSCOMBE VALLEY MYSTERY4\n",
       "5                     THE FIVE ORANGE PIPS1\n",
       "6             THE MAN WITH? THE TWISTED LIP\n",
       "7       THE ADVENTURE OF THE BLUE CARBUNCLE\n",
       "8        THE ADVENTURE OF THE SPECKLED BAND\n",
       "9     THE ADVENTURE OF THE ENGINEER'S THUMB\n",
       "10      THE ADVENTURE OF THE NOBLE BACHELOR\n",
       "11       THE ADVENTURE OF THE BERYL CORONET\n",
       "12      THE ADVENTURE OF THE COPPER BEECHES\n",
       "Name: HİKAYELER, dtype: object"
      ]
     },
     "execution_count": 387,
     "metadata": {},
     "output_type": "execute_result"
    }
   ],
   "source": [
    "d_mdf[\"HİKAYELER\"].apply(lambda x: \" \".join(x for x in x.split() if x not in sw))"
   ]
  },
  {
   "cell_type": "code",
   "execution_count": 388,
   "id": "cd17398c",
   "metadata": {},
   "outputs": [],
   "source": [
    "d_mdf = d_mdf[\"HİKAYELER\"].apply(lambda x: \" \".join(x for x in x.split() if x not in sw))\n"
   ]
  },
  {
   "cell_type": "code",
   "execution_count": 385,
   "id": "26aa1d01",
   "metadata": {},
   "outputs": [
    {
     "data": {
      "text/plain": [
       "1                  A SCANDAL IN BOHEMIA! 01\n",
       "2                   THE RED-HEADED LEAGUE,2\n",
       "3                    A CASE, OF IDENTITY 33\n",
       "4              THE BOSCOMBE VALLEY MYSTERY4\n",
       "5                     THE FIVE ORANGE PIPS1\n",
       "6             THE MAN WITH? THE TWISTED LIP\n",
       "7       THE ADVENTURE OF THE BLUE CARBUNCLE\n",
       "8        THE ADVENTURE OF THE SPECKLED BAND\n",
       "9     THE ADVENTURE OF THE ENGINEER'S THUMB\n",
       "10      THE ADVENTURE OF THE NOBLE BACHELOR\n",
       "11       THE ADVENTURE OF THE BERYL CORONET\n",
       "12      THE ADVENTURE OF THE COPPER BEECHES\n",
       "Name: HİKAYELER, dtype: object"
      ]
     },
     "execution_count": 385,
     "metadata": {},
     "output_type": "execute_result"
    }
   ],
   "source": [
    "d_mdf"
   ]
  },
  {
   "cell_type": "code",
   "execution_count": 405,
   "id": "e2d98d91",
   "metadata": {},
   "outputs": [
    {
     "name": "stdout",
     "output_type": "stream",
     "text": [
      "0    Bu bir örnek cümle\n",
      "1       Başka bir cümle\n",
      "dtype: object\n"
     ]
    }
   ],
   "source": [
    "import pandas as pd\n",
    "import string\n",
    "\n",
    "# Örnek bir Pandas Serisi oluşturalım\n",
    "seri = pd.Series([\"Bu, bir örnek cümle.\", \"Başka bir cümle!\"])\n",
    "\n",
    "# Noktalama işaretlerini kaldırmak için bir lambda fonksiyonu kullanma\n",
    "seri = seri.apply(lambda x: ''.join([char for char in x if char not in string.punctuation]))\n",
    "\n",
    "print(seri)\n"
   ]
  },
  {
   "cell_type": "code",
   "execution_count": 406,
   "id": "8197b835",
   "metadata": {},
   "outputs": [],
   "source": [
    "## AZ GEÇEN KELİMELERİN SİLİNMESİ"
   ]
  },
  {
   "cell_type": "code",
   "execution_count": 407,
   "id": "79cc7b45",
   "metadata": {},
   "outputs": [
    {
     "data": {
      "text/plain": [
       "1                  A SCANDAL IN BOHEMIA! 01\n",
       "2                   THE RED-HEADED LEAGUE,2\n",
       "3                    A CASE, OF IDENTITY 33\n",
       "4              THE BOSCOMBE VALLEY MYSTERY4\n",
       "5                     THE FIVE ORANGE PIPS1\n",
       "6             THE MAN WITH? THE TWISTED LIP\n",
       "7       THE ADVENTURE OF THE BLUE CARBUNCLE\n",
       "8        THE ADVENTURE OF THE SPECKLED BAND\n",
       "9     THE ADVENTURE OF THE ENGINEER'S THUMB\n",
       "10      THE ADVENTURE OF THE NOBLE BACHELOR\n",
       "11       THE ADVENTURE OF THE BERYL CORONET\n",
       "12      THE ADVENTURE OF THE COPPER BEECHES\n",
       "Name: HİKAYELER, dtype: object"
      ]
     },
     "execution_count": 407,
     "metadata": {},
     "output_type": "execute_result"
    }
   ],
   "source": [
    "d_mdf"
   ]
  },
  {
   "cell_type": "code",
   "execution_count": 410,
   "id": "ae71e910",
   "metadata": {},
   "outputs": [],
   "source": [
    "d_mdf = pd.DataFrame(d_mdf, columns = [\"HİKAYELER\"])\n",
    "# join split operasyonu dataframe operasyonudur"
   ]
  },
  {
   "cell_type": "code",
   "execution_count": 411,
   "id": "028af015",
   "metadata": {},
   "outputs": [
    {
     "data": {
      "text/plain": [
       "THE           17\n",
       "OF             7\n",
       "ADVENTURE      6\n",
       "A              2\n",
       "BERYL          1\n",
       "CORONET        1\n",
       "BACHELOR       1\n",
       "NOBLE          1\n",
       "THUMB          1\n",
       "WITH?          1\n",
       "ENGINEER'S     1\n",
       "BAND           1\n",
       "SPECKLED       1\n",
       "CARBUNCLE      1\n",
       "BLUE           1\n",
       "COPPER         1\n",
       "LIP            1\n",
       "TWISTED        1\n",
       "PIPS1          1\n",
       "MAN            1\n",
       "SCANDAL        1\n",
       "ORANGE         1\n",
       "FIVE           1\n",
       "MYSTERY4       1\n",
       "VALLEY         1\n",
       "BOSCOMBE       1\n",
       "33             1\n",
       "IDENTITY       1\n",
       "CASE,          1\n",
       "LEAGUE,2       1\n",
       "RED-HEADED     1\n",
       "01             1\n",
       "BOHEMIA!       1\n",
       "IN             1\n",
       "BEECHES        1\n",
       "Name: count, dtype: int64"
      ]
     },
     "execution_count": 411,
     "metadata": {},
     "output_type": "execute_result"
    }
   ],
   "source": [
    "pd.Series(\" \".join(d_mdf[\"HİKAYELER\"]).split()).value_counts()"
   ]
  },
  {
   "cell_type": "code",
   "execution_count": 413,
   "id": "6735a62e",
   "metadata": {},
   "outputs": [],
   "source": [
    "sil=pd.Series(\" \".join(d_mdf[\"HİKAYELER\"]).split()).value_counts()[-3:]"
   ]
  },
  {
   "cell_type": "code",
   "execution_count": 414,
   "id": "78947679",
   "metadata": {},
   "outputs": [
    {
     "data": {
      "text/plain": [
       "BOHEMIA!    1\n",
       "IN          1\n",
       "BEECHES     1\n",
       "Name: count, dtype: int64"
      ]
     },
     "execution_count": 414,
     "metadata": {},
     "output_type": "execute_result"
    }
   ],
   "source": [
    "sil"
   ]
  },
  {
   "cell_type": "code",
   "execution_count": 415,
   "id": "e63a7ad2",
   "metadata": {},
   "outputs": [
    {
     "data": {
      "text/plain": [
       "1                              A SCANDAL 01\n",
       "2                   THE RED-HEADED LEAGUE,2\n",
       "3                    A CASE, OF IDENTITY 33\n",
       "4              THE BOSCOMBE VALLEY MYSTERY4\n",
       "5                     THE FIVE ORANGE PIPS1\n",
       "6             THE MAN WITH? THE TWISTED LIP\n",
       "7       THE ADVENTURE OF THE BLUE CARBUNCLE\n",
       "8        THE ADVENTURE OF THE SPECKLED BAND\n",
       "9     THE ADVENTURE OF THE ENGINEER'S THUMB\n",
       "10      THE ADVENTURE OF THE NOBLE BACHELOR\n",
       "11       THE ADVENTURE OF THE BERYL CORONET\n",
       "12              THE ADVENTURE OF THE COPPER\n",
       "Name: HİKAYELER, dtype: object"
      ]
     },
     "execution_count": 415,
     "metadata": {},
     "output_type": "execute_result"
    }
   ],
   "source": [
    "d_mdf[\"HİKAYELER\"].apply(lambda x: \" \".join(i for i in x.split() if i not in sil))"
   ]
  },
  {
   "cell_type": "code",
   "execution_count": 417,
   "id": "95446879",
   "metadata": {},
   "outputs": [],
   "source": [
    "# tokenization : cümleyi kelimelere ayırmak gibi bir şey"
   ]
  },
  {
   "cell_type": "code",
   "execution_count": 418,
   "id": "0b1a78da",
   "metadata": {},
   "outputs": [
    {
     "name": "stderr",
     "output_type": "stream",
     "text": [
      "[nltk_data] Downloading package punkt to\n",
      "[nltk_data]     C:\\Users\\Dell\\AppData\\Roaming\\nltk_data...\n",
      "[nltk_data]   Unzipping tokenizers\\punkt.zip.\n"
     ]
    },
    {
     "data": {
      "text/plain": [
       "True"
      ]
     },
     "execution_count": 418,
     "metadata": {},
     "output_type": "execute_result"
    }
   ],
   "source": [
    "nltk.download(\"punkt\")"
   ]
  },
  {
   "cell_type": "code",
   "execution_count": 18,
   "id": "2b8a1fe2",
   "metadata": {},
   "outputs": [
    {
     "name": "stdout",
     "output_type": "stream",
     "text": [
      "Requirement already satisfied: textblob in c:\\users\\dell\\anaconda3\\lib\\site-packages (0.18.0.post0)\n",
      "Requirement already satisfied: nltk>=3.8 in c:\\users\\dell\\anaconda3\\lib\\site-packages (from textblob) (3.8.1)\n",
      "Requirement already satisfied: click in c:\\users\\dell\\anaconda3\\lib\\site-packages (from nltk>=3.8->textblob) (8.0.4)\n",
      "Requirement already satisfied: joblib in c:\\users\\dell\\anaconda3\\lib\\site-packages (from nltk>=3.8->textblob) (1.2.0)\n",
      "Requirement already satisfied: regex>=2021.8.3 in c:\\users\\dell\\anaconda3\\lib\\site-packages (from nltk>=3.8->textblob) (2022.7.9)\n",
      "Requirement already satisfied: tqdm in c:\\users\\dell\\anaconda3\\lib\\site-packages (from nltk>=3.8->textblob) (4.65.0)\n",
      "Requirement already satisfied: colorama in c:\\users\\dell\\anaconda3\\lib\\site-packages (from click->nltk>=3.8->textblob) (0.4.6)\n"
     ]
    }
   ],
   "source": [
    "! pip install textblob"
   ]
  },
  {
   "cell_type": "code",
   "execution_count": 32,
   "id": "17961d9e",
   "metadata": {},
   "outputs": [],
   "source": [
    "import textblob\n",
    "from textblob import TextBlob"
   ]
  },
  {
   "cell_type": "code",
   "execution_count": 432,
   "id": "56d41c21",
   "metadata": {},
   "outputs": [
    {
     "data": {
      "text/plain": [
       "WordList(['A', 'SCANDAL', 'IN', 'BOHEMIA', '01'])"
      ]
     },
     "execution_count": 432,
     "metadata": {},
     "output_type": "execute_result"
    }
   ],
   "source": [
    "TextBlob(d_mdf[\"HİKAYELER\"][1]).words  # pandas serisindeki cümleleri ayırır\n"
   ]
  },
  {
   "cell_type": "code",
   "execution_count": 434,
   "id": "ea8e4857",
   "metadata": {},
   "outputs": [
    {
     "data": {
      "text/plain": [
       "1                      [A, SCANDAL, IN, BOHEMIA, 01]\n",
       "2                        [THE, RED-HEADED, LEAGUE,2]\n",
       "3                        [A, CASE, OF, IDENTITY, 33]\n",
       "4                  [THE, BOSCOMBE, VALLEY, MYSTERY4]\n",
       "5                         [THE, FIVE, ORANGE, PIPS1]\n",
       "6                [THE, MAN, WITH, THE, TWISTED, LIP]\n",
       "7         [THE, ADVENTURE, OF, THE, BLUE, CARBUNCLE]\n",
       "8          [THE, ADVENTURE, OF, THE, SPECKLED, BAND]\n",
       "9     [THE, ADVENTURE, OF, THE, ENGINEER, 'S, THUMB]\n",
       "10        [THE, ADVENTURE, OF, THE, NOBLE, BACHELOR]\n",
       "11         [THE, ADVENTURE, OF, THE, BERYL, CORONET]\n",
       "12        [THE, ADVENTURE, OF, THE, COPPER, BEECHES]\n",
       "Name: HİKAYELER, dtype: object"
      ]
     },
     "execution_count": 434,
     "metadata": {},
     "output_type": "execute_result"
    }
   ],
   "source": [
    "d_mdf[\"HİKAYELER\"].apply(lambda x: TextBlob(x).words)\n",
    "# burdaki apply lambda ikilisiher bir satıra gir işlemi yap gibi bir anlam veriyor fonksiyondur"
   ]
  },
  {
   "cell_type": "code",
   "execution_count": 1,
   "id": "198e6980",
   "metadata": {},
   "outputs": [],
   "source": [
    "# Stemming  ingilizcede kelimenin sonlarında eklenen ekleri siliyor kaldırıyor"
   ]
  },
  {
   "cell_type": "code",
   "execution_count": 2,
   "id": "d34b3915",
   "metadata": {},
   "outputs": [],
   "source": [
    "from nltk.stem import PorterStemmer"
   ]
  },
  {
   "cell_type": "code",
   "execution_count": 3,
   "id": "54852b34",
   "metadata": {},
   "outputs": [],
   "source": [
    "st=PorterStemmer"
   ]
  },
  {
   "cell_type": "code",
   "execution_count": 4,
   "id": "bcda796d",
   "metadata": {},
   "outputs": [
    {
     "name": "stdout",
     "output_type": "stream",
     "text": [
      "running -> run\n",
      "runner -> runner\n",
      "ran -> ran\n",
      "runs -> run\n",
      "easily -> easili\n",
      "fairly -> fairli\n"
     ]
    }
   ],
   "source": [
    "from nltk.stem import PorterStemmer\n",
    "\n",
    "# PorterStemmer nesnesini oluştur\n",
    "stemmer = PorterStemmer()\n",
    "\n",
    "# Örnek bir kelime listesi\n",
    "kelimeler = [\"running\", \"runner\", \"ran\", \"runs\", \"easily\", \"fairly\"]\n",
    "\n",
    "# Her kelimeyi kök haline getir\n",
    "for kelime in kelimeler:\n",
    "    print(f\"{kelime} -> {stemmer.stem(kelime)}\")"
   ]
  },
  {
   "cell_type": "code",
   "execution_count": 19,
   "id": "7168806f",
   "metadata": {},
   "outputs": [
    {
     "name": "stdout",
     "output_type": "stream",
     "text": [
      "running -> run\n",
      "runner -> runner\n",
      "ran -> ran\n",
      "runs -> run\n",
      "easily -> easili\n",
      "fairly -> fairli\n"
     ]
    }
   ],
   "source": [
    "from nltk.stem import PorterStemmer\n",
    "\n",
    "# PorterStemmer nesnesini oluştur\n",
    "stemmer = PorterStemmer()\n",
    "\n",
    "# Örnek bir kelime listesi\n",
    "kelimeler = [\"running\", \"runner\", \"ran\", \"runs\", \"easily\", \"fairly\"]\n",
    "\n",
    "# Lambda fonksiyonunu tanımla\n",
    "stem_word = lambda word: stemmer.stem(word)\n",
    "\n",
    "# Her kelimeyi kök haline getir ve ekrana bas\n",
    "for kelime in kelimeler:\n",
    "    print(f\"{kelime} -> {stem_word(kelime)}\")\n"
   ]
  },
  {
   "cell_type": "code",
   "execution_count": 27,
   "id": "c569ae5a",
   "metadata": {},
   "outputs": [],
   "source": [
    "# LEMMATİZATİON   bu daha çok tercih ediliyor"
   ]
  },
  {
   "cell_type": "code",
   "execution_count": null,
   "id": "451fe2da",
   "metadata": {},
   "outputs": [],
   "source": []
  },
  {
   "cell_type": "code",
   "execution_count": 28,
   "id": "147db53d",
   "metadata": {},
   "outputs": [
    {
     "name": "stdout",
     "output_type": "stream",
     "text": [
      "running -> running\n",
      "runner -> runner\n",
      "ran -> ran\n",
      "runs -> run\n",
      "easily -> easily\n",
      "fairly -> fairly\n",
      "adventurer -> adventurer\n"
     ]
    },
    {
     "name": "stderr",
     "output_type": "stream",
     "text": [
      "[nltk_data] Downloading package wordnet to\n",
      "[nltk_data]     C:\\Users\\Dell\\AppData\\Roaming\\nltk_data...\n",
      "[nltk_data]   Package wordnet is already up-to-date!\n"
     ]
    }
   ],
   "source": [
    "import nltk\n",
    "from textblob import Word\n",
    "\n",
    "nltk.download(\"wordnet\")\n",
    "\n",
    "# Örnek bir kelime listesi\n",
    "kelimeler = [\"running\", \"runner\", \"ran\", \"runs\", \"easily\", \"fairly\",\"adventurer\"]\n",
    "\n",
    "# Her kelimeyi kök haline getir ve ekrana bas\n",
    "for kelime in kelimeler:\n",
    "    kelime_nesnesi = Word(kelime)\n",
    "    print(f\"{kelime} -> {kelime_nesnesi.lemmatize()}\")\n"
   ]
  },
  {
   "cell_type": "code",
   "execution_count": 29,
   "id": "91b131e3",
   "metadata": {},
   "outputs": [],
   "source": [
    "# basit nlp (doğal dil işleme ) uygulama"
   ]
  },
  {
   "cell_type": "code",
   "execution_count": 30,
   "id": "b38e9c55",
   "metadata": {},
   "outputs": [],
   "source": [
    "a = \"\"\"Bu örneği anlaşılabilmesi için daha uzun bir metin üzerinden göstereceğim.\n",
    "N-gram'lar birlikte kullanılan kelimelerin kombinasyolarını gösterir\"\"\"\n",
    "# N-GRAM"
   ]
  },
  {
   "cell_type": "code",
   "execution_count": 34,
   "id": "4c1bec54",
   "metadata": {},
   "outputs": [
    {
     "data": {
      "text/plain": [
       "[WordList(['Bu', 'örneği', 'anlaşılabilmesi', 'için']),\n",
       " WordList(['örneği', 'anlaşılabilmesi', 'için', 'daha']),\n",
       " WordList(['anlaşılabilmesi', 'için', 'daha', 'uzun']),\n",
       " WordList(['için', 'daha', 'uzun', 'bir']),\n",
       " WordList(['daha', 'uzun', 'bir', 'metin']),\n",
       " WordList(['uzun', 'bir', 'metin', 'üzerinden']),\n",
       " WordList(['bir', 'metin', 'üzerinden', 'göstereceğim']),\n",
       " WordList(['metin', 'üzerinden', 'göstereceğim', \"N-gram'lar\"]),\n",
       " WordList(['üzerinden', 'göstereceğim', \"N-gram'lar\", 'birlikte']),\n",
       " WordList(['göstereceğim', \"N-gram'lar\", 'birlikte', 'kullanılan']),\n",
       " WordList([\"N-gram'lar\", 'birlikte', 'kullanılan', 'kelimelerin']),\n",
       " WordList(['birlikte', 'kullanılan', 'kelimelerin', 'kombinasyolarını']),\n",
       " WordList(['kullanılan', 'kelimelerin', 'kombinasyolarını', 'gösterir'])]"
      ]
     },
     "execution_count": 34,
     "metadata": {},
     "output_type": "execute_result"
    }
   ],
   "source": [
    "TextBlob(a).ngrams(4) # bu uygulamda cümlenin başından itibaren istediğin gruba ayırarak liste halinde geitirii ör 4"
   ]
  },
  {
   "cell_type": "code",
   "execution_count": 36,
   "id": "21f7dc6e",
   "metadata": {},
   "outputs": [],
   "source": [
    "## Part of speech tagging (POS) cümlenin ögelerine ayırır bilgisi veriri gibi bir şey"
   ]
  },
  {
   "cell_type": "code",
   "execution_count": 37,
   "id": "22e7475d",
   "metadata": {},
   "outputs": [
    {
     "name": "stderr",
     "output_type": "stream",
     "text": [
      "[nltk_data] Downloading package averaged_perceptron_tagger to\n",
      "[nltk_data]     C:\\Users\\Dell\\AppData\\Roaming\\nltk_data...\n",
      "[nltk_data]   Unzipping taggers\\averaged_perceptron_tagger.zip.\n"
     ]
    },
    {
     "data": {
      "text/plain": [
       "True"
      ]
     },
     "execution_count": 37,
     "metadata": {},
     "output_type": "execute_result"
    }
   ],
   "source": [
    "nltk.download(\"averaged_perceptron_tagger\")"
   ]
  },
  {
   "cell_type": "code",
   "execution_count": 39,
   "id": "6ed8c91d",
   "metadata": {},
   "outputs": [
    {
     "data": {
      "text/plain": [
       "[('Bu', 'NNP'),\n",
       " ('örneği', 'NNP'),\n",
       " ('anlaşılabilmesi', 'VBZ'),\n",
       " ('için', 'JJ'),\n",
       " ('daha', 'NN'),\n",
       " ('uzun', 'JJ'),\n",
       " ('bir', 'NN'),\n",
       " ('metin', 'NN'),\n",
       " ('üzerinden', 'JJ'),\n",
       " ('göstereceğim', 'NN'),\n",
       " (\"N-gram'lar\", 'JJ'),\n",
       " ('birlikte', 'NN'),\n",
       " ('kullanılan', 'NN'),\n",
       " ('kelimelerin', 'VBP'),\n",
       " ('kombinasyolarını', 'NN'),\n",
       " ('gösterir', 'NN')]"
      ]
     },
     "execution_count": 39,
     "metadata": {},
     "output_type": "execute_result"
    }
   ],
   "source": [
    "TextBlob(a).tags"
   ]
  },
  {
   "cell_type": "code",
   "execution_count": 40,
   "id": "16489dc9",
   "metadata": {},
   "outputs": [],
   "source": [
    "## Chunking (shallow parsing)  : cümlenin dil bilgisine göre ayırır"
   ]
  },
  {
   "cell_type": "code",
   "execution_count": 43,
   "id": "b060f5fc",
   "metadata": {},
   "outputs": [
    {
     "data": {
      "text/plain": [
       "[('R', 'NNP'),\n",
       " ('and', 'CC'),\n",
       " ('Python', 'NNP'),\n",
       " ('are', 'VBP'),\n",
       " ('useful', 'JJ'),\n",
       " ('data', 'NNS'),\n",
       " ('science', 'NN'),\n",
       " ('tools', 'NNS'),\n",
       " ('for', 'IN'),\n",
       " ('the', 'DT'),\n",
       " ('new', 'JJ'),\n",
       " ('or', 'CC'),\n",
       " ('old', 'JJ'),\n",
       " ('data', 'NNS'),\n",
       " ('scientists', 'NNS'),\n",
       " ('who', 'WP'),\n",
       " ('eager', 'VBP'),\n",
       " ('to', 'TO'),\n",
       " ('do', 'VB'),\n",
       " ('efficent', 'JJ'),\n",
       " ('data', 'NNS'),\n",
       " ('science', 'NN'),\n",
       " ('task', 'NN')]"
      ]
     },
     "execution_count": 43,
     "metadata": {},
     "output_type": "execute_result"
    }
   ],
   "source": [
    "cumle = \"R and Python are useful data science tools for the new or old data scientists who eager to do efficent data science task\"\n",
    "cumle=TextBlob(cumle).tags\n",
    "cumle"
   ]
  },
  {
   "cell_type": "code",
   "execution_count": 44,
   "id": "a0a38c25",
   "metadata": {},
   "outputs": [],
   "source": [
    "reg_exp = \"NP: {<DT>?<JJ>*<NN>}\"\n",
    "rp = nltk.RegexpParser(reg_exp)"
   ]
  },
  {
   "cell_type": "code",
   "execution_count": 48,
   "id": "868fd8f8",
   "metadata": {},
   "outputs": [],
   "source": [
    "sonuclar = rp.parse(cumle)"
   ]
  },
  {
   "cell_type": "code",
   "execution_count": 49,
   "id": "8b9a113b",
   "metadata": {
    "scrolled": true
   },
   "outputs": [
    {
     "ename": "ModuleNotFoundError",
     "evalue": "No module named 'svgling'",
     "output_type": "error",
     "traceback": [
      "\u001b[1;31m---------------------------------------------------------------------------\u001b[0m",
      "\u001b[1;31mModuleNotFoundError\u001b[0m                       Traceback (most recent call last)",
      "File \u001b[1;32m~\\anaconda3\\Lib\\site-packages\\IPython\\core\\formatters.py:344\u001b[0m, in \u001b[0;36mBaseFormatter.__call__\u001b[1;34m(self, obj)\u001b[0m\n\u001b[0;32m    342\u001b[0m     method \u001b[38;5;241m=\u001b[39m get_real_method(obj, \u001b[38;5;28mself\u001b[39m\u001b[38;5;241m.\u001b[39mprint_method)\n\u001b[0;32m    343\u001b[0m     \u001b[38;5;28;01mif\u001b[39;00m method \u001b[38;5;129;01mis\u001b[39;00m \u001b[38;5;129;01mnot\u001b[39;00m \u001b[38;5;28;01mNone\u001b[39;00m:\n\u001b[1;32m--> 344\u001b[0m         \u001b[38;5;28;01mreturn\u001b[39;00m method()\n\u001b[0;32m    345\u001b[0m     \u001b[38;5;28;01mreturn\u001b[39;00m \u001b[38;5;28;01mNone\u001b[39;00m\n\u001b[0;32m    346\u001b[0m \u001b[38;5;28;01melse\u001b[39;00m:\n",
      "File \u001b[1;32m~\\anaconda3\\Lib\\site-packages\\nltk\\tree\\tree.py:782\u001b[0m, in \u001b[0;36mTree._repr_svg_\u001b[1;34m(self)\u001b[0m\n\u001b[0;32m    781\u001b[0m \u001b[38;5;28;01mdef\u001b[39;00m \u001b[38;5;21m_repr_svg_\u001b[39m(\u001b[38;5;28mself\u001b[39m):\n\u001b[1;32m--> 782\u001b[0m     \u001b[38;5;28;01mfrom\u001b[39;00m \u001b[38;5;21;01msvgling\u001b[39;00m \u001b[38;5;28;01mimport\u001b[39;00m draw_tree\n\u001b[0;32m    784\u001b[0m     \u001b[38;5;28;01mreturn\u001b[39;00m draw_tree(\u001b[38;5;28mself\u001b[39m)\u001b[38;5;241m.\u001b[39m_repr_svg_()\n",
      "\u001b[1;31mModuleNotFoundError\u001b[0m: No module named 'svgling'"
     ]
    },
    {
     "data": {
      "text/plain": [
       "Tree('S', [('R', 'NNP'), ('and', 'CC'), ('Python', 'NNP'), ('are', 'VBP'), ('useful', 'JJ'), ('data', 'NNS'), Tree('NP', [('science', 'NN')]), ('tools', 'NNS'), ('for', 'IN'), ('the', 'DT'), ('new', 'JJ'), ('or', 'CC'), ('old', 'JJ'), ('data', 'NNS'), ('scientists', 'NNS'), ('who', 'WP'), ('eager', 'VBP'), ('to', 'TO'), ('do', 'VB'), ('efficent', 'JJ'), ('data', 'NNS'), Tree('NP', [('science', 'NN')]), Tree('NP', [('task', 'NN')])])"
      ]
     },
     "execution_count": 49,
     "metadata": {},
     "output_type": "execute_result"
    }
   ],
   "source": [
    "sonuclar"
   ]
  },
  {
   "cell_type": "code",
   "execution_count": 50,
   "id": "529cbd2f",
   "metadata": {},
   "outputs": [
    {
     "name": "stdout",
     "output_type": "stream",
     "text": [
      "(S\n",
      "  R/NNP\n",
      "  and/CC\n",
      "  Python/NNP\n",
      "  are/VBP\n",
      "  useful/JJ\n",
      "  data/NNS\n",
      "  (NP science/NN)\n",
      "  tools/NNS\n",
      "  for/IN\n",
      "  the/DT\n",
      "  new/JJ\n",
      "  or/CC\n",
      "  old/JJ\n",
      "  data/NNS\n",
      "  scientists/NNS\n",
      "  who/WP\n",
      "  eager/VBP\n",
      "  to/TO\n",
      "  do/VB\n",
      "  efficent/JJ\n",
      "  data/NNS\n",
      "  (NP science/NN)\n",
      "  (NP task/NN))\n"
     ]
    }
   ],
   "source": [
    "print(sonuclar)"
   ]
  },
  {
   "cell_type": "code",
   "execution_count": 51,
   "id": "8fb34ae3",
   "metadata": {},
   "outputs": [],
   "source": [
    "sonuclar.draw()"
   ]
  },
  {
   "cell_type": "code",
   "execution_count": 55,
   "id": "cfcbe3af",
   "metadata": {},
   "outputs": [],
   "source": [
    "## Named Entity Recognition : belirli bir kategoriye girenleri kategorilere ayrırı mesel e studyo bir şirket diye ayırmış bunun gibi"
   ]
  },
  {
   "cell_type": "code",
   "execution_count": 56,
   "id": "50d69126",
   "metadata": {},
   "outputs": [
    {
     "name": "stderr",
     "output_type": "stream",
     "text": [
      "[nltk_data] Downloading package maxent_ne_chunker to\n",
      "[nltk_data]     C:\\Users\\Dell\\AppData\\Roaming\\nltk_data...\n",
      "[nltk_data]   Package maxent_ne_chunker is already up-to-date!\n",
      "[nltk_data] Downloading package words to\n",
      "[nltk_data]     C:\\Users\\Dell\\AppData\\Roaming\\nltk_data...\n",
      "[nltk_data]   Package words is already up-to-date!\n"
     ]
    },
    {
     "data": {
      "text/plain": [
       "True"
      ]
     },
     "execution_count": 56,
     "metadata": {},
     "output_type": "execute_result"
    }
   ],
   "source": [
    "from nltk import word_tokenize, pos_tag, ne_chunk\n",
    "nltk.download('maxent_ne_chunker')\n",
    "nltk.download('words')"
   ]
  },
  {
   "cell_type": "code",
   "execution_count": 57,
   "id": "bf4328d9",
   "metadata": {},
   "outputs": [
    {
     "name": "stdout",
     "output_type": "stream",
     "text": [
      "(S\n",
      "  (GPE Hadley/NNP)\n",
      "  is/VBZ\n",
      "  creative/JJ\n",
      "  people/NNS\n",
      "  who/WP\n",
      "  work/VBP\n",
      "  for/IN\n",
      "  (ORGANIZATION R/NNP Studio/NNP)\n",
      "  AND/CC\n",
      "  he/PRP\n",
      "  attented/VBD\n",
      "  conference/NN\n",
      "  at/IN\n",
      "  (ORGANIZATION Newyork/NNP)\n",
      "  last/JJ\n",
      "  year/NN)\n"
     ]
    }
   ],
   "source": [
    "cumle = \"Hadley is creative people who work for R Studio AND he attented conference at Newyork last year\"\n",
    "print(ne_chunk(pos_tag(word_tokenize(cumle))))"
   ]
  },
  {
   "cell_type": "code",
   "execution_count": null,
   "id": "9727932d",
   "metadata": {},
   "outputs": [],
   "source": []
  },
  {
   "cell_type": "code",
   "execution_count": 58,
   "id": "9a78bdac",
   "metadata": {},
   "outputs": [],
   "source": [
    "# Matematiksel İşlemler ve Basit Özellik Çıkarımı"
   ]
  },
  {
   "cell_type": "code",
   "execution_count": 59,
   "id": "2bfea256",
   "metadata": {},
   "outputs": [],
   "source": [
    "# harf / karakter sayısı"
   ]
  },
  {
   "cell_type": "code",
   "execution_count": 124,
   "id": "3fea0255",
   "metadata": {},
   "outputs": [],
   "source": [
    "omdf=mdf.copy()\n",
    "omdf=mdf"
   ]
  },
  {
   "cell_type": "code",
   "execution_count": 125,
   "id": "9a8d4066",
   "metadata": {},
   "outputs": [
    {
     "data": {
      "text/plain": [
       "1     24\n",
       "2     23\n",
       "3     22\n",
       "4     28\n",
       "5     21\n",
       "6     29\n",
       "7     35\n",
       "8     34\n",
       "9     37\n",
       "10    35\n",
       "11    34\n",
       "12    35\n",
       "Name: HİKAYELER, dtype: int64"
      ]
     },
     "execution_count": 125,
     "metadata": {},
     "output_type": "execute_result"
    }
   ],
   "source": [
    "mdf[\"HİKAYELER\"].str.len() # karakter sayısını saydı"
   ]
  },
  {
   "cell_type": "code",
   "execution_count": 126,
   "id": "ae25d967",
   "metadata": {},
   "outputs": [
    {
     "data": {
      "text/html": [
       "<div>\n",
       "<style scoped>\n",
       "    .dataframe tbody tr th:only-of-type {\n",
       "        vertical-align: middle;\n",
       "    }\n",
       "\n",
       "    .dataframe tbody tr th {\n",
       "        vertical-align: top;\n",
       "    }\n",
       "\n",
       "    .dataframe thead th {\n",
       "        text-align: right;\n",
       "    }\n",
       "</style>\n",
       "<table border=\"1\" class=\"dataframe\">\n",
       "  <thead>\n",
       "    <tr style=\"text-align: right;\">\n",
       "      <th></th>\n",
       "      <th>HİKAYELER</th>\n",
       "      <th>harf sayısı</th>\n",
       "      <th>harfSayisi</th>\n",
       "    </tr>\n",
       "  </thead>\n",
       "  <tbody>\n",
       "    <tr>\n",
       "      <th>1</th>\n",
       "      <td>A Scandal in Bohemia! 01</td>\n",
       "      <td>24</td>\n",
       "      <td>24</td>\n",
       "    </tr>\n",
       "    <tr>\n",
       "      <th>2</th>\n",
       "      <td>The Red-headed League,2</td>\n",
       "      <td>23</td>\n",
       "      <td>23</td>\n",
       "    </tr>\n",
       "    <tr>\n",
       "      <th>3</th>\n",
       "      <td>A Case, of Identity 33</td>\n",
       "      <td>22</td>\n",
       "      <td>22</td>\n",
       "    </tr>\n",
       "    <tr>\n",
       "      <th>4</th>\n",
       "      <td>The Boscombe Valley Mystery4</td>\n",
       "      <td>28</td>\n",
       "      <td>28</td>\n",
       "    </tr>\n",
       "    <tr>\n",
       "      <th>5</th>\n",
       "      <td>The Five Orange Pips1</td>\n",
       "      <td>21</td>\n",
       "      <td>21</td>\n",
       "    </tr>\n",
       "    <tr>\n",
       "      <th>6</th>\n",
       "      <td>The Man with? the Twisted Lip</td>\n",
       "      <td>29</td>\n",
       "      <td>29</td>\n",
       "    </tr>\n",
       "    <tr>\n",
       "      <th>7</th>\n",
       "      <td>The Adventure of the Blue Carbuncle</td>\n",
       "      <td>35</td>\n",
       "      <td>35</td>\n",
       "    </tr>\n",
       "    <tr>\n",
       "      <th>8</th>\n",
       "      <td>The Adventure of the Speckled Band</td>\n",
       "      <td>34</td>\n",
       "      <td>34</td>\n",
       "    </tr>\n",
       "    <tr>\n",
       "      <th>9</th>\n",
       "      <td>The Adventure of the Engineer's Thumb</td>\n",
       "      <td>37</td>\n",
       "      <td>37</td>\n",
       "    </tr>\n",
       "    <tr>\n",
       "      <th>10</th>\n",
       "      <td>The Adventure of the Noble Bachelor</td>\n",
       "      <td>35</td>\n",
       "      <td>35</td>\n",
       "    </tr>\n",
       "    <tr>\n",
       "      <th>11</th>\n",
       "      <td>The Adventure of the Beryl Coronet</td>\n",
       "      <td>34</td>\n",
       "      <td>34</td>\n",
       "    </tr>\n",
       "    <tr>\n",
       "      <th>12</th>\n",
       "      <td>The Adventure of the Copper Beeches</td>\n",
       "      <td>35</td>\n",
       "      <td>35</td>\n",
       "    </tr>\n",
       "  </tbody>\n",
       "</table>\n",
       "</div>"
      ],
      "text/plain": [
       "                                HİKAYELER  harf sayısı  harfSayisi\n",
       "1                A Scandal in Bohemia! 01           24          24\n",
       "2                 The Red-headed League,2           23          23\n",
       "3                  A Case, of Identity 33           22          22\n",
       "4            The Boscombe Valley Mystery4           28          28\n",
       "5                   The Five Orange Pips1           21          21\n",
       "6           The Man with? the Twisted Lip           29          29\n",
       "7     The Adventure of the Blue Carbuncle           35          35\n",
       "8      The Adventure of the Speckled Band           34          34\n",
       "9   The Adventure of the Engineer's Thumb           37          37\n",
       "10    The Adventure of the Noble Bachelor           35          35\n",
       "11     The Adventure of the Beryl Coronet           34          34\n",
       "12    The Adventure of the Copper Beeches           35          35"
      ]
     },
     "execution_count": 126,
     "metadata": {},
     "output_type": "execute_result"
    }
   ],
   "source": [
    "omdf[\"harf sayısı\"]=omdf[\"HİKAYELER\"].str.len()\n",
    "omdf"
   ]
  },
  {
   "cell_type": "code",
   "execution_count": null,
   "id": "060c66f3",
   "metadata": {},
   "outputs": [],
   "source": []
  },
  {
   "cell_type": "markdown",
   "id": "3423bdae",
   "metadata": {},
   "source": [
    "###  kelime sayısı"
   ]
  },
  {
   "cell_type": "code",
   "execution_count": 127,
   "id": "51768ce7",
   "metadata": {},
   "outputs": [],
   "source": [
    "a = \"scandal in a bohemia\""
   ]
  },
  {
   "cell_type": "code",
   "execution_count": 128,
   "id": "783f4907",
   "metadata": {},
   "outputs": [
    {
     "data": {
      "text/plain": [
       "['scandal', 'in', 'a', 'bohemia']"
      ]
     },
     "execution_count": 128,
     "metadata": {},
     "output_type": "execute_result"
    }
   ],
   "source": [
    "a.split()"
   ]
  },
  {
   "cell_type": "code",
   "execution_count": 129,
   "id": "44879c81",
   "metadata": {},
   "outputs": [
    {
     "data": {
      "text/plain": [
       "4"
      ]
     },
     "execution_count": 129,
     "metadata": {},
     "output_type": "execute_result"
    }
   ],
   "source": [
    "len(a.split())"
   ]
  },
  {
   "cell_type": "code",
   "execution_count": 130,
   "id": "a04b2dea",
   "metadata": {},
   "outputs": [],
   "source": [
    "# ama bunu böyle df lerde yapamıyoruz o yüzden apply ve lamba kullanmak fonksşyon kullnamka gerekir"
   ]
  },
  {
   "cell_type": "code",
   "execution_count": 137,
   "id": "b515fd42",
   "metadata": {},
   "outputs": [
    {
     "data": {
      "text/html": [
       "<div>\n",
       "<style scoped>\n",
       "    .dataframe tbody tr th:only-of-type {\n",
       "        vertical-align: middle;\n",
       "    }\n",
       "\n",
       "    .dataframe tbody tr th {\n",
       "        vertical-align: top;\n",
       "    }\n",
       "\n",
       "    .dataframe thead th {\n",
       "        text-align: right;\n",
       "    }\n",
       "</style>\n",
       "<table border=\"1\" class=\"dataframe\">\n",
       "  <thead>\n",
       "    <tr style=\"text-align: right;\">\n",
       "      <th></th>\n",
       "      <th>HİKAYELER</th>\n",
       "      <th>harf sayısı</th>\n",
       "      <th>harfSayisi</th>\n",
       "      <th>kelime sayısı</th>\n",
       "    </tr>\n",
       "  </thead>\n",
       "  <tbody>\n",
       "    <tr>\n",
       "      <th>1</th>\n",
       "      <td>A Scandal in Bohemia! 01</td>\n",
       "      <td>24</td>\n",
       "      <td>24</td>\n",
       "      <td>5</td>\n",
       "    </tr>\n",
       "    <tr>\n",
       "      <th>2</th>\n",
       "      <td>The Red-headed League,2</td>\n",
       "      <td>23</td>\n",
       "      <td>23</td>\n",
       "      <td>3</td>\n",
       "    </tr>\n",
       "    <tr>\n",
       "      <th>3</th>\n",
       "      <td>A Case, of Identity 33</td>\n",
       "      <td>22</td>\n",
       "      <td>22</td>\n",
       "      <td>5</td>\n",
       "    </tr>\n",
       "    <tr>\n",
       "      <th>4</th>\n",
       "      <td>The Boscombe Valley Mystery4</td>\n",
       "      <td>28</td>\n",
       "      <td>28</td>\n",
       "      <td>4</td>\n",
       "    </tr>\n",
       "    <tr>\n",
       "      <th>5</th>\n",
       "      <td>The Five Orange Pips1</td>\n",
       "      <td>21</td>\n",
       "      <td>21</td>\n",
       "      <td>4</td>\n",
       "    </tr>\n",
       "    <tr>\n",
       "      <th>6</th>\n",
       "      <td>The Man with? the Twisted Lip</td>\n",
       "      <td>29</td>\n",
       "      <td>29</td>\n",
       "      <td>6</td>\n",
       "    </tr>\n",
       "    <tr>\n",
       "      <th>7</th>\n",
       "      <td>The Adventure of the Blue Carbuncle</td>\n",
       "      <td>35</td>\n",
       "      <td>35</td>\n",
       "      <td>6</td>\n",
       "    </tr>\n",
       "    <tr>\n",
       "      <th>8</th>\n",
       "      <td>The Adventure of the Speckled Band</td>\n",
       "      <td>34</td>\n",
       "      <td>34</td>\n",
       "      <td>6</td>\n",
       "    </tr>\n",
       "    <tr>\n",
       "      <th>9</th>\n",
       "      <td>The Adventure of the Engineer's Thumb</td>\n",
       "      <td>37</td>\n",
       "      <td>37</td>\n",
       "      <td>6</td>\n",
       "    </tr>\n",
       "    <tr>\n",
       "      <th>10</th>\n",
       "      <td>The Adventure of the Noble Bachelor</td>\n",
       "      <td>35</td>\n",
       "      <td>35</td>\n",
       "      <td>6</td>\n",
       "    </tr>\n",
       "    <tr>\n",
       "      <th>11</th>\n",
       "      <td>The Adventure of the Beryl Coronet</td>\n",
       "      <td>34</td>\n",
       "      <td>34</td>\n",
       "      <td>6</td>\n",
       "    </tr>\n",
       "    <tr>\n",
       "      <th>12</th>\n",
       "      <td>The Adventure of the Copper Beeches</td>\n",
       "      <td>35</td>\n",
       "      <td>35</td>\n",
       "      <td>6</td>\n",
       "    </tr>\n",
       "  </tbody>\n",
       "</table>\n",
       "</div>"
      ],
      "text/plain": [
       "                                HİKAYELER  harf sayısı  harfSayisi  \\\n",
       "1                A Scandal in Bohemia! 01           24          24   \n",
       "2                 The Red-headed League,2           23          23   \n",
       "3                  A Case, of Identity 33           22          22   \n",
       "4            The Boscombe Valley Mystery4           28          28   \n",
       "5                   The Five Orange Pips1           21          21   \n",
       "6           The Man with? the Twisted Lip           29          29   \n",
       "7     The Adventure of the Blue Carbuncle           35          35   \n",
       "8      The Adventure of the Speckled Band           34          34   \n",
       "9   The Adventure of the Engineer's Thumb           37          37   \n",
       "10    The Adventure of the Noble Bachelor           35          35   \n",
       "11     The Adventure of the Beryl Coronet           34          34   \n",
       "12    The Adventure of the Copper Beeches           35          35   \n",
       "\n",
       "    kelime sayısı  \n",
       "1               5  \n",
       "2               3  \n",
       "3               5  \n",
       "4               4  \n",
       "5               4  \n",
       "6               6  \n",
       "7               6  \n",
       "8               6  \n",
       "9               6  \n",
       "10              6  \n",
       "11              6  \n",
       "12              6  "
      ]
     },
     "execution_count": 137,
     "metadata": {},
     "output_type": "execute_result"
    }
   ],
   "source": [
    "omdf[\"kelime sayısı\"]=omdf[\"HİKAYELER\"].apply(lambda x:len(str(x).split(\" \"))) \n",
    "omdf\n",
    "# her bir satırdaki cümle sayısnı buldu"
   ]
  },
  {
   "cell_type": "code",
   "execution_count": 136,
   "id": "99d6e33d",
   "metadata": {},
   "outputs": [],
   "source": [
    "# apply değişknelrde saydırma gibi kullanılıblir"
   ]
  },
  {
   "cell_type": "code",
   "execution_count": 139,
   "id": "b813e3c4",
   "metadata": {},
   "outputs": [],
   "source": [
    " # özel kelimeleri yakalamak & saydırmak"
   ]
  },
  {
   "cell_type": "code",
   "execution_count": 148,
   "id": "64f104f0",
   "metadata": {},
   "outputs": [
    {
     "data": {
      "text/html": [
       "<div>\n",
       "<style scoped>\n",
       "    .dataframe tbody tr th:only-of-type {\n",
       "        vertical-align: middle;\n",
       "    }\n",
       "\n",
       "    .dataframe tbody tr th {\n",
       "        vertical-align: top;\n",
       "    }\n",
       "\n",
       "    .dataframe thead th {\n",
       "        text-align: right;\n",
       "    }\n",
       "</style>\n",
       "<table border=\"1\" class=\"dataframe\">\n",
       "  <thead>\n",
       "    <tr style=\"text-align: right;\">\n",
       "      <th></th>\n",
       "      <th>HİKAYELER</th>\n",
       "      <th>harf sayısı</th>\n",
       "      <th>harfSayisi</th>\n",
       "      <th>kelime sayısı</th>\n",
       "      <th>özel karakter saysı</th>\n",
       "    </tr>\n",
       "  </thead>\n",
       "  <tbody>\n",
       "    <tr>\n",
       "      <th>1</th>\n",
       "      <td>A Scandal in Bohemia! 01</td>\n",
       "      <td>24</td>\n",
       "      <td>24</td>\n",
       "      <td>5</td>\n",
       "      <td>0</td>\n",
       "    </tr>\n",
       "    <tr>\n",
       "      <th>2</th>\n",
       "      <td>The Red-headed League,2</td>\n",
       "      <td>23</td>\n",
       "      <td>23</td>\n",
       "      <td>3</td>\n",
       "      <td>0</td>\n",
       "    </tr>\n",
       "    <tr>\n",
       "      <th>3</th>\n",
       "      <td>A Case, of Identity 33</td>\n",
       "      <td>22</td>\n",
       "      <td>22</td>\n",
       "      <td>5</td>\n",
       "      <td>0</td>\n",
       "    </tr>\n",
       "    <tr>\n",
       "      <th>4</th>\n",
       "      <td>The Boscombe Valley Mystery4</td>\n",
       "      <td>28</td>\n",
       "      <td>28</td>\n",
       "      <td>4</td>\n",
       "      <td>0</td>\n",
       "    </tr>\n",
       "    <tr>\n",
       "      <th>5</th>\n",
       "      <td>The Five Orange Pips1</td>\n",
       "      <td>21</td>\n",
       "      <td>21</td>\n",
       "      <td>4</td>\n",
       "      <td>0</td>\n",
       "    </tr>\n",
       "    <tr>\n",
       "      <th>6</th>\n",
       "      <td>The Man with? the Twisted Lip</td>\n",
       "      <td>29</td>\n",
       "      <td>29</td>\n",
       "      <td>6</td>\n",
       "      <td>0</td>\n",
       "    </tr>\n",
       "    <tr>\n",
       "      <th>7</th>\n",
       "      <td>The Adventure of the Blue Carbuncle</td>\n",
       "      <td>35</td>\n",
       "      <td>35</td>\n",
       "      <td>6</td>\n",
       "      <td>1</td>\n",
       "    </tr>\n",
       "    <tr>\n",
       "      <th>8</th>\n",
       "      <td>The Adventure of the Speckled Band</td>\n",
       "      <td>34</td>\n",
       "      <td>34</td>\n",
       "      <td>6</td>\n",
       "      <td>1</td>\n",
       "    </tr>\n",
       "    <tr>\n",
       "      <th>9</th>\n",
       "      <td>The Adventure of the Engineer's Thumb</td>\n",
       "      <td>37</td>\n",
       "      <td>37</td>\n",
       "      <td>6</td>\n",
       "      <td>1</td>\n",
       "    </tr>\n",
       "    <tr>\n",
       "      <th>10</th>\n",
       "      <td>The Adventure of the Noble Bachelor</td>\n",
       "      <td>35</td>\n",
       "      <td>35</td>\n",
       "      <td>6</td>\n",
       "      <td>1</td>\n",
       "    </tr>\n",
       "    <tr>\n",
       "      <th>11</th>\n",
       "      <td>The Adventure of the Beryl Coronet</td>\n",
       "      <td>34</td>\n",
       "      <td>34</td>\n",
       "      <td>6</td>\n",
       "      <td>1</td>\n",
       "    </tr>\n",
       "    <tr>\n",
       "      <th>12</th>\n",
       "      <td>The Adventure of the Copper Beeches</td>\n",
       "      <td>35</td>\n",
       "      <td>35</td>\n",
       "      <td>6</td>\n",
       "      <td>1</td>\n",
       "    </tr>\n",
       "  </tbody>\n",
       "</table>\n",
       "</div>"
      ],
      "text/plain": [
       "                                HİKAYELER  harf sayısı  harfSayisi  \\\n",
       "1                A Scandal in Bohemia! 01           24          24   \n",
       "2                 The Red-headed League,2           23          23   \n",
       "3                  A Case, of Identity 33           22          22   \n",
       "4            The Boscombe Valley Mystery4           28          28   \n",
       "5                   The Five Orange Pips1           21          21   \n",
       "6           The Man with? the Twisted Lip           29          29   \n",
       "7     The Adventure of the Blue Carbuncle           35          35   \n",
       "8      The Adventure of the Speckled Band           34          34   \n",
       "9   The Adventure of the Engineer's Thumb           37          37   \n",
       "10    The Adventure of the Noble Bachelor           35          35   \n",
       "11     The Adventure of the Beryl Coronet           34          34   \n",
       "12    The Adventure of the Copper Beeches           35          35   \n",
       "\n",
       "    kelime sayısı  özel karakter saysı  \n",
       "1               5                    0  \n",
       "2               3                    0  \n",
       "3               5                    0  \n",
       "4               4                    0  \n",
       "5               4                    0  \n",
       "6               6                    0  \n",
       "7               6                    1  \n",
       "8               6                    1  \n",
       "9               6                    1  \n",
       "10              6                    1  \n",
       "11              6                    1  \n",
       "12              6                    1  "
      ]
     },
     "execution_count": 148,
     "metadata": {},
     "output_type": "execute_result"
    }
   ],
   "source": [
    "omdf[\"özel karakter saysı\"]=omdf[\"HİKAYELER\"].apply(lambda x: len([x for x in x.split() \n",
    "                                       if x.startswith(\"Adventure\")]))\n",
    "omdf"
   ]
  },
  {
   "cell_type": "code",
   "execution_count": 150,
   "id": "07b24abe",
   "metadata": {},
   "outputs": [
    {
     "data": {
      "text/html": [
       "<div>\n",
       "<style scoped>\n",
       "    .dataframe tbody tr th:only-of-type {\n",
       "        vertical-align: middle;\n",
       "    }\n",
       "\n",
       "    .dataframe tbody tr th {\n",
       "        vertical-align: top;\n",
       "    }\n",
       "\n",
       "    .dataframe thead th {\n",
       "        text-align: right;\n",
       "    }\n",
       "</style>\n",
       "<table border=\"1\" class=\"dataframe\">\n",
       "  <thead>\n",
       "    <tr style=\"text-align: right;\">\n",
       "      <th></th>\n",
       "      <th>HİKAYELER</th>\n",
       "      <th>harf sayısı</th>\n",
       "      <th>harfSayisi</th>\n",
       "      <th>kelime sayısı</th>\n",
       "      <th>özel karakter saysı</th>\n",
       "      <th>sayıSayısı</th>\n",
       "    </tr>\n",
       "  </thead>\n",
       "  <tbody>\n",
       "    <tr>\n",
       "      <th>1</th>\n",
       "      <td>A Scandal in Bohemia! 01</td>\n",
       "      <td>24</td>\n",
       "      <td>24</td>\n",
       "      <td>5</td>\n",
       "      <td>0</td>\n",
       "      <td>1</td>\n",
       "    </tr>\n",
       "    <tr>\n",
       "      <th>2</th>\n",
       "      <td>The Red-headed League,2</td>\n",
       "      <td>23</td>\n",
       "      <td>23</td>\n",
       "      <td>3</td>\n",
       "      <td>0</td>\n",
       "      <td>0</td>\n",
       "    </tr>\n",
       "    <tr>\n",
       "      <th>3</th>\n",
       "      <td>A Case, of Identity 33</td>\n",
       "      <td>22</td>\n",
       "      <td>22</td>\n",
       "      <td>5</td>\n",
       "      <td>0</td>\n",
       "      <td>1</td>\n",
       "    </tr>\n",
       "    <tr>\n",
       "      <th>4</th>\n",
       "      <td>The Boscombe Valley Mystery4</td>\n",
       "      <td>28</td>\n",
       "      <td>28</td>\n",
       "      <td>4</td>\n",
       "      <td>0</td>\n",
       "      <td>0</td>\n",
       "    </tr>\n",
       "    <tr>\n",
       "      <th>5</th>\n",
       "      <td>The Five Orange Pips1</td>\n",
       "      <td>21</td>\n",
       "      <td>21</td>\n",
       "      <td>4</td>\n",
       "      <td>0</td>\n",
       "      <td>0</td>\n",
       "    </tr>\n",
       "    <tr>\n",
       "      <th>6</th>\n",
       "      <td>The Man with? the Twisted Lip</td>\n",
       "      <td>29</td>\n",
       "      <td>29</td>\n",
       "      <td>6</td>\n",
       "      <td>0</td>\n",
       "      <td>0</td>\n",
       "    </tr>\n",
       "    <tr>\n",
       "      <th>7</th>\n",
       "      <td>The Adventure of the Blue Carbuncle</td>\n",
       "      <td>35</td>\n",
       "      <td>35</td>\n",
       "      <td>6</td>\n",
       "      <td>1</td>\n",
       "      <td>0</td>\n",
       "    </tr>\n",
       "    <tr>\n",
       "      <th>8</th>\n",
       "      <td>The Adventure of the Speckled Band</td>\n",
       "      <td>34</td>\n",
       "      <td>34</td>\n",
       "      <td>6</td>\n",
       "      <td>1</td>\n",
       "      <td>0</td>\n",
       "    </tr>\n",
       "    <tr>\n",
       "      <th>9</th>\n",
       "      <td>The Adventure of the Engineer's Thumb</td>\n",
       "      <td>37</td>\n",
       "      <td>37</td>\n",
       "      <td>6</td>\n",
       "      <td>1</td>\n",
       "      <td>0</td>\n",
       "    </tr>\n",
       "    <tr>\n",
       "      <th>10</th>\n",
       "      <td>The Adventure of the Noble Bachelor</td>\n",
       "      <td>35</td>\n",
       "      <td>35</td>\n",
       "      <td>6</td>\n",
       "      <td>1</td>\n",
       "      <td>0</td>\n",
       "    </tr>\n",
       "    <tr>\n",
       "      <th>11</th>\n",
       "      <td>The Adventure of the Beryl Coronet</td>\n",
       "      <td>34</td>\n",
       "      <td>34</td>\n",
       "      <td>6</td>\n",
       "      <td>1</td>\n",
       "      <td>0</td>\n",
       "    </tr>\n",
       "    <tr>\n",
       "      <th>12</th>\n",
       "      <td>The Adventure of the Copper Beeches</td>\n",
       "      <td>35</td>\n",
       "      <td>35</td>\n",
       "      <td>6</td>\n",
       "      <td>1</td>\n",
       "      <td>0</td>\n",
       "    </tr>\n",
       "  </tbody>\n",
       "</table>\n",
       "</div>"
      ],
      "text/plain": [
       "                                HİKAYELER  harf sayısı  harfSayisi  \\\n",
       "1                A Scandal in Bohemia! 01           24          24   \n",
       "2                 The Red-headed League,2           23          23   \n",
       "3                  A Case, of Identity 33           22          22   \n",
       "4            The Boscombe Valley Mystery4           28          28   \n",
       "5                   The Five Orange Pips1           21          21   \n",
       "6           The Man with? the Twisted Lip           29          29   \n",
       "7     The Adventure of the Blue Carbuncle           35          35   \n",
       "8      The Adventure of the Speckled Band           34          34   \n",
       "9   The Adventure of the Engineer's Thumb           37          37   \n",
       "10    The Adventure of the Noble Bachelor           35          35   \n",
       "11     The Adventure of the Beryl Coronet           34          34   \n",
       "12    The Adventure of the Copper Beeches           35          35   \n",
       "\n",
       "    kelime sayısı  özel karakter saysı  sayıSayısı  \n",
       "1               5                    0           1  \n",
       "2               3                    0           0  \n",
       "3               5                    0           1  \n",
       "4               4                    0           0  \n",
       "5               4                    0           0  \n",
       "6               6                    0           0  \n",
       "7               6                    1           0  \n",
       "8               6                    1           0  \n",
       "9               6                    1           0  \n",
       "10              6                    1           0  \n",
       "11              6                    1           0  \n",
       "12              6                    1           0  "
      ]
     },
     "execution_count": 150,
     "metadata": {},
     "output_type": "execute_result"
    }
   ],
   "source": [
    "omdf[\"sayıSayısı\"]=omdf[\"HİKAYELER\"].apply(lambda x:len([x for x in x.split()if x.isdigit()]))\n",
    "omdf\n",
    "# sayıları saydır dedik"
   ]
  },
  {
   "cell_type": "code",
   "execution_count": 151,
   "id": "87d1d628",
   "metadata": {},
   "outputs": [],
   "source": [
    "import pandas as pd \n",
    "data = pd.read_csv(\"train.tsv\",sep = \"\\t\")"
   ]
  },
  {
   "cell_type": "code",
   "execution_count": 152,
   "id": "b2de7234",
   "metadata": {},
   "outputs": [
    {
     "data": {
      "text/html": [
       "<div>\n",
       "<style scoped>\n",
       "    .dataframe tbody tr th:only-of-type {\n",
       "        vertical-align: middle;\n",
       "    }\n",
       "\n",
       "    .dataframe tbody tr th {\n",
       "        vertical-align: top;\n",
       "    }\n",
       "\n",
       "    .dataframe thead th {\n",
       "        text-align: right;\n",
       "    }\n",
       "</style>\n",
       "<table border=\"1\" class=\"dataframe\">\n",
       "  <thead>\n",
       "    <tr style=\"text-align: right;\">\n",
       "      <th></th>\n",
       "      <th>PhraseId</th>\n",
       "      <th>SentenceId</th>\n",
       "      <th>Phrase</th>\n",
       "      <th>Sentiment</th>\n",
       "    </tr>\n",
       "  </thead>\n",
       "  <tbody>\n",
       "    <tr>\n",
       "      <th>0</th>\n",
       "      <td>1</td>\n",
       "      <td>1</td>\n",
       "      <td>A series of escapades demonstrating the adage ...</td>\n",
       "      <td>1</td>\n",
       "    </tr>\n",
       "    <tr>\n",
       "      <th>1</th>\n",
       "      <td>2</td>\n",
       "      <td>1</td>\n",
       "      <td>A series of escapades demonstrating the adage ...</td>\n",
       "      <td>2</td>\n",
       "    </tr>\n",
       "    <tr>\n",
       "      <th>2</th>\n",
       "      <td>3</td>\n",
       "      <td>1</td>\n",
       "      <td>A series</td>\n",
       "      <td>2</td>\n",
       "    </tr>\n",
       "    <tr>\n",
       "      <th>3</th>\n",
       "      <td>4</td>\n",
       "      <td>1</td>\n",
       "      <td>A</td>\n",
       "      <td>2</td>\n",
       "    </tr>\n",
       "    <tr>\n",
       "      <th>4</th>\n",
       "      <td>5</td>\n",
       "      <td>1</td>\n",
       "      <td>series</td>\n",
       "      <td>2</td>\n",
       "    </tr>\n",
       "  </tbody>\n",
       "</table>\n",
       "</div>"
      ],
      "text/plain": [
       "   PhraseId  SentenceId                                             Phrase  \\\n",
       "0         1           1  A series of escapades demonstrating the adage ...   \n",
       "1         2           1  A series of escapades demonstrating the adage ...   \n",
       "2         3           1                                           A series   \n",
       "3         4           1                                                  A   \n",
       "4         5           1                                             series   \n",
       "\n",
       "   Sentiment  \n",
       "0          1  \n",
       "1          2  \n",
       "2          2  \n",
       "3          2  \n",
       "4          2  "
      ]
     },
     "execution_count": 152,
     "metadata": {},
     "output_type": "execute_result"
    }
   ],
   "source": [
    "data.head()"
   ]
  },
  {
   "cell_type": "code",
   "execution_count": 153,
   "id": "06bdfe34",
   "metadata": {},
   "outputs": [
    {
     "name": "stdout",
     "output_type": "stream",
     "text": [
      "<class 'pandas.core.frame.DataFrame'>\n",
      "RangeIndex: 156060 entries, 0 to 156059\n",
      "Data columns (total 4 columns):\n",
      " #   Column      Non-Null Count   Dtype \n",
      "---  ------      --------------   ----- \n",
      " 0   PhraseId    156060 non-null  int64 \n",
      " 1   SentenceId  156060 non-null  int64 \n",
      " 2   Phrase      156060 non-null  object\n",
      " 3   Sentiment   156060 non-null  int64 \n",
      "dtypes: int64(3), object(1)\n",
      "memory usage: 4.8+ MB\n"
     ]
    }
   ],
   "source": [
    "data.info()"
   ]
  },
  {
   "cell_type": "code",
   "execution_count": 154,
   "id": "5d2730fe",
   "metadata": {},
   "outputs": [],
   "source": [
    "#buyuk-kucuk donusumu\n",
    "data['Phrase'] = data['Phrase'].apply(lambda x: \" \".join(x.lower() for x in x.split()))\n"
   ]
  },
  {
   "cell_type": "code",
   "execution_count": 155,
   "id": "1143531d",
   "metadata": {},
   "outputs": [],
   "source": [
    "#noktalama işaretleri\n",
    "data['Phrase'] = data['Phrase'].str.replace('[^\\w\\s]','')"
   ]
  },
  {
   "cell_type": "code",
   "execution_count": 156,
   "id": "9c5db845",
   "metadata": {},
   "outputs": [],
   "source": [
    "#sayılar\n",
    "data['Phrase'] = data['Phrase'].str.replace('\\d','')"
   ]
  },
  {
   "cell_type": "code",
   "execution_count": 157,
   "id": "94cae462",
   "metadata": {},
   "outputs": [
    {
     "name": "stderr",
     "output_type": "stream",
     "text": [
      "[nltk_data] Downloading package stopwords to\n",
      "[nltk_data]     C:\\Users\\Dell\\AppData\\Roaming\\nltk_data...\n",
      "[nltk_data]   Package stopwords is already up-to-date!\n"
     ]
    }
   ],
   "source": [
    "#stopwords\n",
    "import nltk\n",
    "nltk.download('stopwords')\n",
    "from nltk.corpus import stopwords\n",
    "sw = stopwords.words('english')\n",
    "data['Phrase'] = data['Phrase'].apply(lambda x: \" \".join(x for x in x.split() if x not in sw))"
   ]
  },
  {
   "cell_type": "code",
   "execution_count": 158,
   "id": "0017026f",
   "metadata": {},
   "outputs": [],
   "source": [
    "#seyreklerin silinmesi\n",
    "sil = pd.Series(' '.join(data['Phrase']).split()).value_counts()[-1000:]\n",
    "data['Phrase'] = data['Phrase'].apply(lambda x: \" \".join(x for x in x.split() if x not in sil))"
   ]
  },
  {
   "cell_type": "code",
   "execution_count": 159,
   "id": "d7a7c9ba",
   "metadata": {},
   "outputs": [],
   "source": [
    "#lemmi\n",
    "from textblob import Word\n",
    "#nltk.download('wordnet')\n",
    "data['Phrase'] = data['Phrase'].apply(lambda x: \" \".join([Word(word).lemmatize() for word in x.split()])) "
   ]
  },
  {
   "cell_type": "code",
   "execution_count": 160,
   "id": "ae2a792b",
   "metadata": {},
   "outputs": [
    {
     "data": {
      "text/plain": [
       "0    series escapade demonstrating adage good goose...\n",
       "1       series escapade demonstrating adage good goose\n",
       "2                                               series\n",
       "3                                                     \n",
       "4                                               series\n",
       "5              escapade demonstrating adage good goose\n",
       "6                                                     \n",
       "7              escapade demonstrating adage good goose\n",
       "8                                             escapade\n",
       "9                       demonstrating adage good goose\n",
       "Name: Phrase, dtype: object"
      ]
     },
     "execution_count": 160,
     "metadata": {},
     "output_type": "execute_result"
    }
   ],
   "source": [
    "data['Phrase'].head(10)"
   ]
  },
  {
   "cell_type": "code",
   "execution_count": 161,
   "id": "535f4cde",
   "metadata": {},
   "outputs": [],
   "source": [
    "## terim frekansı"
   ]
  },
  {
   "cell_type": "code",
   "execution_count": null,
   "id": "ebd0daf2",
   "metadata": {},
   "outputs": [],
   "source": [
    "tf1 = (data[\"Phrase\"]).apply(lambda x: \n",
    "                             pd.value_counts(x.split(\" \"))).sum(axis = 0).reset_index()"
   ]
  },
  {
   "cell_type": "code",
   "execution_count": null,
   "id": "115f186f",
   "metadata": {},
   "outputs": [],
   "source": [
    "tf1.columns = [\"words\",\"tf\"]"
   ]
  },
  {
   "cell_type": "code",
   "execution_count": null,
   "id": "d6e99394",
   "metadata": {},
   "outputs": [],
   "source": [
    "tf1.head()"
   ]
  },
  {
   "cell_type": "code",
   "execution_count": null,
   "id": "9eb616a7",
   "metadata": {},
   "outputs": [],
   "source": [
    "tf1.nunique() # tekil mi soruluyor"
   ]
  },
  {
   "cell_type": "code",
   "execution_count": null,
   "id": "981573be",
   "metadata": {},
   "outputs": [],
   "source": [
    "a = tf1[tf1[\"tf\"] > 1000]"
   ]
  },
  {
   "cell_type": "code",
   "execution_count": null,
   "id": "9598c48c",
   "metadata": {},
   "outputs": [],
   "source": [
    "a.plot.bar(x = \"words\", y = \"tf\"); # barplot grafiği"
   ]
  },
  {
   "cell_type": "code",
   "execution_count": null,
   "id": "0f21c0dc",
   "metadata": {},
   "outputs": [],
   "source": [
    "# metin görselleştirme  WORDCLOUD  kelime bulutu"
   ]
  },
  {
   "cell_type": "code",
   "execution_count": null,
   "id": "c95b1b01",
   "metadata": {},
   "outputs": [],
   "source": [
    "import numpy as np\n",
    "import pandas as pd\n",
    "from os import path\n",
    "from PIL import Image\n",
    "from wordcloud import WordCloud, STOPWORDS, ImageColorGenerator\n",
    "import matplotlib.pyplot as plt"
   ]
  },
  {
   "cell_type": "code",
   "execution_count": null,
   "id": "8098e6b1",
   "metadata": {},
   "outputs": [],
   "source": [
    "text = data[\"Phrase\"][0]"
   ]
  },
  {
   "cell_type": "code",
   "execution_count": null,
   "id": "a79a7c6e",
   "metadata": {},
   "outputs": [],
   "source": [
    "wordcloud = WordCloud().generate(text)"
   ]
  },
  {
   "cell_type": "code",
   "execution_count": null,
   "id": "d87d4f7e",
   "metadata": {},
   "outputs": [],
   "source": [
    "plt.imshow(wordcloud, interpolation = \"bilinear\")\n",
    "plt.axis(\"off\")\n",
    "plt.show()"
   ]
  },
  {
   "cell_type": "code",
   "execution_count": null,
   "id": "f02f880e",
   "metadata": {},
   "outputs": [],
   "source": []
  }
 ],
 "metadata": {
  "kernelspec": {
   "display_name": "Python 3 (ipykernel)",
   "language": "python",
   "name": "python3"
  },
  "language_info": {
   "codemirror_mode": {
    "name": "ipython",
    "version": 3
   },
   "file_extension": ".py",
   "mimetype": "text/x-python",
   "name": "python",
   "nbconvert_exporter": "python",
   "pygments_lexer": "ipython3",
   "version": "3.11.5"
  }
 },
 "nbformat": 4,
 "nbformat_minor": 5
}
